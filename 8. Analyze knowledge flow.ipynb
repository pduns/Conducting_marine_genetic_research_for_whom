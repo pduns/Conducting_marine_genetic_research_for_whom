{
 "cells": [
  {
   "cell_type": "code",
   "execution_count": 1,
   "metadata": {},
   "outputs": [],
   "source": [
    "import networkx as nx\n",
    "from networkx.algorithms import bipartite\n",
    "import matplotlib.pyplot as plt\n",
    "import numpy as np\n",
    "import pandas as pd\n",
    "import pycountry_convert as pc\n",
    "import pycountry\n",
    "from IPython.display import Image\n",
    "import seaborn as sns\n",
    "from networkx.drawing.nx_pydot import write_dot\n",
    "from pathlib import Path\n",
    "import pylab as plt\n",
    "from matplotlib.ticker import MaxNLocator\n",
    "import seaborn as sns\n",
    "from collections import Counter"
   ]
  },
  {
   "cell_type": "markdown",
   "metadata": {},
   "source": [
    "## 1. CoR_CoP"
   ]
  },
  {
   "cell_type": "code",
   "execution_count": 2,
   "metadata": {},
   "outputs": [],
   "source": [
    "# load data\n",
    "df_CoR_CoP = pd.read_csv('PATH\\data\\CoR-CoP_fractional_edges.csv').drop(columns = {'Unnamed: 0'})"
   ]
  },
  {
   "cell_type": "code",
   "execution_count": 3,
   "metadata": {},
   "outputs": [],
   "source": [
    "## load g77 and OECD data, assign overlapping to g77\n",
    "g77 = pd.read_csv('PATH\\data\\g77.csv')\n",
    "oecd = pd.read_csv('PATH\\data\\oecd.csv')\n",
    "\n",
    "delete_from_oecd = []\n",
    "\n",
    "for i in list(g77['Code']): \n",
    "    if i in list(oecd['Code']):\n",
    "        delete_from_oecd.append(i)\n",
    "\n",
    "for i in list(g77['Code']): \n",
    "    if i in list(oecd['Code']):\n",
    "        delete_from_oecd.append(i)        \n",
    "\n",
    "oecd_clean = [x for x in list(oecd['Code']) if x not in delete_from_oecd]\n",
    "\n",
    "econ_group_CoR = []\n",
    "econ_group_CoP = []\n",
    "for i in list(df_CoR_CoP['CoR']):\n",
    "    if i in [pc.country_alpha3_to_country_alpha2(x) for x in oecd_clean]: \n",
    "        econ_group_CoR.append('OECD')\n",
    "    elif i in ['RU','BR','IN','CN','ZA']:\n",
    "        econ_group_CoR.append('BRICS')\n",
    "    elif i in [pc.country_alpha3_to_country_alpha2(x) for x in g77['Code'] if x not in ['RU','BR','IN','CN','ZA']]:\n",
    "        econ_group_CoR.append('G77')\n",
    "    else: \n",
    "        econ_group_CoR.append('other')\n",
    "        \n",
    "for i in list(df_CoR_CoP['CoP']):\n",
    "    if i in [pc.country_alpha3_to_country_alpha2(x) for x in oecd_clean]: \n",
    "        econ_group_CoP.append('OECD')\n",
    "    elif i in ['RU','BR','IN','CN','ZA']:\n",
    "        econ_group_CoP.append('BRICS')\n",
    "    elif i in [pc.country_alpha3_to_country_alpha2(x) for x in g77['Code'] if x not in ['RU','BR','IN','CN','ZA']]:\n",
    "        econ_group_CoP.append('G77')\n",
    "    else: \n",
    "        econ_group_CoP.append('other')\n",
    "    \n",
    "df_CoR_CoP['econ_group_CoR'] = econ_group_CoR\n",
    "df_CoR_CoP['econ_group_CoP'] = econ_group_CoP"
   ]
  },
  {
   "cell_type": "code",
   "execution_count": 8,
   "metadata": {},
   "outputs": [],
   "source": [
    "df_CoR_CoP_flow_balance= df_CoR_CoP.drop_duplicates(subset=['CoR','CoP'])"
   ]
  },
  {
   "cell_type": "code",
   "execution_count": 36,
   "metadata": {},
   "outputs": [],
   "source": [
    "df_CoR_CoP_provided_all = df_CoR_CoP.groupby(['CoR'])['weights'].sum().reset_index(name = 'provided knowledge flow').sort_values(by = ['provided knowledge flow'],ascending=False).rename(columns ={'CoR':'Country'})\n",
    "df_CoR_CoP_used_all = df_CoR_CoP.groupby(['CoP'])['weights'].sum().reset_index(name = 'used knowledge flow').sort_values(by = ['used knowledge flow'],ascending=False).rename(columns ={'CoP':'Country'})\n",
    "df_CoR_CoP_flow_all = pd.merge(df_CoR_CoP_provided_all, df_CoR_CoP_used_all, on = 'Country')\n",
    "df_CoR_CoP_flow_all['balance'] = df_CoR_CoP_flow_all['provided knowledge flow']-df_CoR_CoP_flow_all['used knowledge flow']\n",
    "df_CoR_CoP_flow_all['Knowledge provision balance_all'] = df_CoR_CoP_flow_all['provided knowledge flow']/df_CoR_CoP_flow_all['used knowledge flow']"
   ]
  },
  {
   "cell_type": "code",
   "execution_count": 37,
   "metadata": {},
   "outputs": [],
   "source": [
    "#filter self-loops\n",
    "to_del = []\n",
    "for row in list(df_CoR_CoP.index):\n",
    "    if df_CoR_CoP.iloc[row]['CoR'] == df_CoR_CoP.iloc[row]['CoP']: \n",
    "        to_del.append(row)"
   ]
  },
  {
   "cell_type": "code",
   "execution_count": 38,
   "metadata": {},
   "outputs": [],
   "source": [
    "df_CoR_CoP_flow_balance = df_CoR_CoP.drop(to_del)"
   ]
  },
  {
   "cell_type": "code",
   "execution_count": 45,
   "metadata": {},
   "outputs": [],
   "source": [
    "df_CoR_CoP_flow_balance_provided = df_CoR_CoP_flow_balance.groupby(['CoR'])['weights'].sum().reset_index(name = 'provided knowledge flow').sort_values(by = ['provided knowledge flow'],ascending=False).rename(columns ={'CoR':'Country'})\n",
    "df_CoR_CoP_flow_balance_used = df_CoR_CoP_flow_balance.groupby(['CoP'])['weights'].sum().reset_index(name = 'used knowledge flow').sort_values(by = ['used knowledge flow'],ascending=False).rename(columns ={'CoP':'Country'})\n",
    "df_CoR_CoP_flow = pd.merge(df_CoR_CoP_flow_balance_provided, df_CoR_CoP_flow_balance_used, on = 'Country')\n",
    "df_CoR_CoP_flow['balance_sum'] = df_CoR_CoP_flow['provided knowledge flow']-df_CoR_CoP_flow['used knowledge flow']\n",
    "df_CoR_CoP_flow['External knowledge provision balance'] = df_CoR_CoP_flow['provided knowledge flow']/df_CoR_CoP_flow['used knowledge flow']"
   ]
  },
  {
   "cell_type": "code",
   "execution_count": 48,
   "metadata": {},
   "outputs": [],
   "source": [
    "df_CoR_CoP_flow['Knowledge provision balance'] = list(df_CoR_CoP_flow_all['Knowledge provision balance_all'])"
   ]
  },
  {
   "cell_type": "code",
   "execution_count": 50,
   "metadata": {},
   "outputs": [],
   "source": [
    "df_CoR_CoP_flow.to_csv('PATH\\data\\CoR-CoP_flow.csv')"
   ]
  }
 ],
 "metadata": {
  "kernelspec": {
   "display_name": "Python 3",
   "language": "python",
   "name": "python3"
  },
  "language_info": {
   "codemirror_mode": {
    "name": "ipython",
    "version": 3
   },
   "file_extension": ".py",
   "mimetype": "text/x-python",
   "name": "python",
   "nbconvert_exporter": "python",
   "pygments_lexer": "ipython3",
   "version": "3.8.5"
  }
 },
 "nbformat": 4,
 "nbformat_minor": 4
}
