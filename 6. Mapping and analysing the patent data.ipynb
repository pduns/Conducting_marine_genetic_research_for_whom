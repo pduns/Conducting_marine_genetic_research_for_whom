{
 "cells": [
  {
   "cell_type": "code",
   "execution_count": 3,
   "metadata": {},
   "outputs": [],
   "source": [
    "from Bio import SeqIO\n",
    "from collections import Counter\n",
    "import pandas as pd \n",
    "import re\n",
    "import requests\n",
    "import json\n",
    "import time\n",
    "import glob\n",
    "import pprint\n",
    "import seaborn as sns\n",
    "import pylab as plt\n",
    "from matplotlib.ticker import MaxNLocator\n",
    "from matplotlib.colors import ListedColormap\n",
    "import pycountry \n",
    "import pycountry_convert as pc\n",
    "pp = pprint.PrettyPrinter()\n",
    "import numpy as np\n",
    "from tabulate import tabulate\n",
    "import math"
   ]
  },
  {
   "cell_type": "code",
   "execution_count": 2,
   "metadata": {},
   "outputs": [],
   "source": [
    "# clean this code sheet\n",
    "# change the balance vis: adjust axis labels and adjust to the 49 countries\n"
   ]
  },
  {
   "cell_type": "code",
   "execution_count": 6,
   "metadata": {},
   "outputs": [],
   "source": [
    "df_patents_all = pd.read_csv('PATH\\data\\CoP.csv')"
   ]
  },
  {
   "cell_type": "code",
   "execution_count": 7,
   "metadata": {},
   "outputs": [
    {
     "data": {
      "text/plain": [
       "6434"
      ]
     },
     "execution_count": 7,
     "metadata": {},
     "output_type": "execute_result"
    }
   ],
   "source": [
    "len(set(df_patents_all['patent_id'][(df_patents_all['patent_type']  == 'GRANTED_PATENT') & (df_patents_all['edited_company_country'].notna())]))"
   ]
  },
  {
   "cell_type": "code",
   "execution_count": 8,
   "metadata": {},
   "outputs": [],
   "source": [
    "df_patentsg = df_patents_all[df_patents_all['patent_type'] == 'GRANTED_PATENT'].dropna(subset = ['edited_company_country'])"
   ]
  },
  {
   "cell_type": "markdown",
   "metadata": {},
   "source": [
    "## 1. Mapp institutions"
   ]
  },
  {
   "cell_type": "code",
   "execution_count": 9,
   "metadata": {},
   "outputs": [
    {
     "data": {
      "text/html": [
       "<div>\n",
       "<style scoped>\n",
       "    .dataframe tbody tr th:only-of-type {\n",
       "        vertical-align: middle;\n",
       "    }\n",
       "\n",
       "    .dataframe tbody tr th {\n",
       "        vertical-align: top;\n",
       "    }\n",
       "\n",
       "    .dataframe thead th {\n",
       "        text-align: right;\n",
       "    }\n",
       "</style>\n",
       "<table border=\"1\" class=\"dataframe\">\n",
       "  <thead>\n",
       "    <tr style=\"text-align: right;\">\n",
       "      <th></th>\n",
       "      <th>edited_company_name</th>\n",
       "    </tr>\n",
       "  </thead>\n",
       "  <tbody>\n",
       "    <tr>\n",
       "      <th>19</th>\n",
       "      <td>BAYER</td>\n",
       "    </tr>\n",
       "    <tr>\n",
       "      <th>20</th>\n",
       "      <td>DIVERGENCE</td>\n",
       "    </tr>\n",
       "    <tr>\n",
       "      <th>21</th>\n",
       "      <td>IDEXX LABORATORIES</td>\n",
       "    </tr>\n",
       "    <tr>\n",
       "      <th>22</th>\n",
       "      <td>UNIVERSITY OF COLORADO</td>\n",
       "    </tr>\n",
       "    <tr>\n",
       "      <th>23</th>\n",
       "      <td>UNIVERSITY LICENSE EQUITY HOLDING</td>\n",
       "    </tr>\n",
       "    <tr>\n",
       "      <th>...</th>\n",
       "      <td>...</td>\n",
       "    </tr>\n",
       "    <tr>\n",
       "      <th>21682</th>\n",
       "      <td>ALTEROBIOTECH</td>\n",
       "    </tr>\n",
       "    <tr>\n",
       "      <th>21689</th>\n",
       "      <td>SHANGHAI KANDA BIOTECHNOLOGY CO.</td>\n",
       "    </tr>\n",
       "    <tr>\n",
       "      <th>21690</th>\n",
       "      <td>SHANGHAI CELGEN BIO-PHARMACEUTICAL CO.</td>\n",
       "    </tr>\n",
       "    <tr>\n",
       "      <th>21731</th>\n",
       "      <td>TOYOTA BOSHOKU KABUSHIKI KAISHA</td>\n",
       "    </tr>\n",
       "    <tr>\n",
       "      <th>21822</th>\n",
       "      <td>KATHOLIEKE UNIVERSITEIT LEUVEN K.U.LEUVEN R&amp;D</td>\n",
       "    </tr>\n",
       "  </tbody>\n",
       "</table>\n",
       "<p>1359 rows × 1 columns</p>\n",
       "</div>"
      ],
      "text/plain": [
       "                                 edited_company_name\n",
       "19                                             BAYER\n",
       "20                                        DIVERGENCE\n",
       "21                                IDEXX LABORATORIES\n",
       "22                            UNIVERSITY OF COLORADO\n",
       "23                 UNIVERSITY LICENSE EQUITY HOLDING\n",
       "...                                              ...\n",
       "21682                                  ALTEROBIOTECH\n",
       "21689               SHANGHAI KANDA BIOTECHNOLOGY CO.\n",
       "21690         SHANGHAI CELGEN BIO-PHARMACEUTICAL CO.\n",
       "21731                TOYOTA BOSHOKU KABUSHIKI KAISHA\n",
       "21822  KATHOLIEKE UNIVERSITEIT LEUVEN K.U.LEUVEN R&D\n",
       "\n",
       "[1359 rows x 1 columns]"
      ]
     },
     "execution_count": 9,
     "metadata": {},
     "output_type": "execute_result"
    }
   ],
   "source": [
    "# how many patent owners? \n",
    "df_patentsg[['edited_company_name']].dropna().drop_duplicates()"
   ]
  },
  {
   "cell_type": "code",
   "execution_count": 10,
   "metadata": {},
   "outputs": [],
   "source": [
    "fractional_counts_inst = []\n",
    "fractional_counts_country = []\n",
    "patent_counts_inst = {}\n",
    "patent_counts_country = {}\n",
    "for pat in list(df_patentsg['patent_id']): \n",
    "    if pat not in patent_counts_inst:\n",
    "        patent_counts_inst[pat] = len(df_patentsg[['patent_id', 'edited_company_name']][df_patentsg['patent_id'] == pat].drop_duplicates())\n",
    "        patent_counts_country[pat] = len(df_patentsg[['patent_id', 'edited_company_country']][df_patentsg['patent_id'] == pat].drop_duplicates())\n",
    "    fractional_counts_inst.append(1/patent_counts_inst[pat])\n",
    "    fractional_counts_country.append(1/patent_counts_country[pat])"
   ]
  },
  {
   "cell_type": "code",
   "execution_count": 11,
   "metadata": {},
   "outputs": [],
   "source": [
    "df_patentsg['fractional_count_inst'] = fractional_counts_inst\n",
    "df_patentsg['fractional_count_country'] = fractional_counts_country"
   ]
  },
  {
   "cell_type": "code",
   "execution_count": 12,
   "metadata": {},
   "outputs": [],
   "source": [
    "df_patentsg['patent_citations_fract'] = df_patentsg['patent_citations']*df_patentsg['fractional_count_country']\n"
   ]
  },
  {
   "cell_type": "code",
   "execution_count": 13,
   "metadata": {},
   "outputs": [],
   "source": [
    "# add econ group\n",
    "# load g77 and OECD data, assign overlapping to g77\n",
    "g77 = pd.read_csv('PATH\\data\\g77.csv')\n",
    "oecd = pd.read_csv('PATH\\data\\oecd.csv')\n",
    "\n",
    "delete_from_oecd = []\n",
    "\n",
    "for i in list(g77['Code']): \n",
    "    if i in list(oecd['Code']):\n",
    "        delete_from_oecd.append(i)\n",
    "\n",
    "for i in list(g77['Code']): \n",
    "    if i in list(oecd['Code']):\n",
    "        delete_from_oecd.append(i)        \n",
    "\n",
    "oecd_clean = [x for x in list(oecd['Code']) if x not in delete_from_oecd]\n",
    "\n",
    "econ_group = []\n",
    "for i in list(df_patentsg['edited_company_country']):\n",
    "    if i in [pc.country_alpha3_to_country_alpha2(x) for x in oecd_clean]: \n",
    "        econ_group.append('OECD')\n",
    "    elif i in ['RU','BR','IN','CN','ZA']:\n",
    "        econ_group.append('BRICS')\n",
    "    elif i in [pc.country_alpha3_to_country_alpha2(x) for x in g77['Code'] if x not in ['RU','BR','IN','CN','ZA']]:\n",
    "        econ_group.append('G77')\n",
    "    elif pd.isna(i): \n",
    "        econ_group.append(np.nan)\n",
    "    else: \n",
    "        econ_group.append('other')\n",
    "        \n",
    "df_patentsg['econ_group'] = econ_group"
   ]
  },
  {
   "cell_type": "code",
   "execution_count": 14,
   "metadata": {},
   "outputs": [],
   "source": [
    "# Affiliations \n",
    "df_affiliations = df_patentsg[['patent_id','edited_company_country','edited_company_name', 'fractional_count_inst', 'econ_group']].drop_duplicates()\n",
    "df_patents = df_affiliations.groupby(['edited_company_name'])['fractional_count_inst'].sum().reset_index(name='Patents_fract').sort_values(['Patents_fract'], ascending=False)\n",
    "df_affiliations_vis = pd.merge(df_patents, df_affiliations[['edited_company_name', 'edited_company_country', 'econ_group']].drop_duplicates(), how = 'left', on = 'edited_company_name').rename(columns = {'edited_company_name':'Affiliation','Patents_fract':'Patents','econ_group':'Econ Group','edited_company_country':'Country'})"
   ]
  },
  {
   "cell_type": "code",
   "execution_count": 15,
   "metadata": {},
   "outputs": [
    {
     "name": "stdout",
     "output_type": "stream",
     "text": [
      "╒═════════════════════════════════╤═══════════╤═══════════╤══════════════╕\n",
      "│ Affiliation                     │ Patents   │ Country   │ Econ Group   │\n",
      "╞═════════════════════════════════╪═══════════╪═══════════╪══════════════╡\n",
      "│ UNIVERSITY OF CALIFORNIA        │ 192       │ US        │ OECD         │\n",
      "├─────────────────────────────────┼───────────┼───────────┼──────────────┤\n",
      "│ DU PONT                         │ 170.533   │ US        │ OECD         │\n",
      "├─────────────────────────────────┼───────────┼───────────┼──────────────┤\n",
      "│ HARVARD UNIVERSITY              │ 114.533   │ US        │ OECD         │\n",
      "├─────────────────────────────────┼───────────┼───────────┼──────────────┤\n",
      "│ STANFORD UNIVERSITY             │ 109.333   │ US        │ OECD         │\n",
      "├─────────────────────────────────┼───────────┼───────────┼──────────────┤\n",
      "│ BAYER                           │ 105.667   │ DE        │ OECD         │\n",
      "├─────────────────────────────────┼───────────┼───────────┼──────────────┤\n",
      "│ OPKO                            │ 104.833   │ US        │ OECD         │\n",
      "├─────────────────────────────────┼───────────┼───────────┼──────────────┤\n",
      "│ SMITH & NEPHEW                  │ 97.5      │ GB        │ OECD         │\n",
      "├─────────────────────────────────┼───────────┼───────────┼──────────────┤\n",
      "│ DSM                             │ 77        │ NL        │ OECD         │\n",
      "├─────────────────────────────────┼───────────┼───────────┼──────────────┤\n",
      "│ BASF                            │ 75.8333   │ DE        │ OECD         │\n",
      "├─────────────────────────────────┼───────────┼───────────┼──────────────┤\n",
      "│ PROMEGA                         │ 67.5      │ US        │ OECD         │\n",
      "├─────────────────────────────────┼───────────┼───────────┼──────────────┤\n",
      "│ AMARIN PHARMA                   │ 65.5      │ IE        │ OECD         │\n",
      "├─────────────────────────────────┼───────────┼───────────┼──────────────┤\n",
      "│ MERCK                           │ 65.4167   │ DE        │ OECD         │\n",
      "├─────────────────────────────────┼───────────┼───────────┼──────────────┤\n",
      "│ BECTON DICKINSON AND COMPANY    │ 58        │ US        │ OECD         │\n",
      "├─────────────────────────────────┼───────────┼───────────┼──────────────┤\n",
      "│ TAKEDA                          │ 55.5      │ JP        │ OECD         │\n",
      "├─────────────────────────────────┼───────────┼───────────┼──────────────┤\n",
      "│ UNIVERSITY OF FLORIDA           │ 55        │ US        │ OECD         │\n",
      "├─────────────────────────────────┼───────────┼───────────┼──────────────┤\n",
      "│ ROCHE                           │ 52.3333   │ CH        │ OECD         │\n",
      "├─────────────────────────────────┼───────────┼───────────┼──────────────┤\n",
      "│ ABBOTT                          │ 50        │ US        │ OECD         │\n",
      "├─────────────────────────────────┼───────────┼───────────┼──────────────┤\n",
      "│ GENOMATICA                      │ 49.5      │ US        │ OECD         │\n",
      "├─────────────────────────────────┼───────────┼───────────┼──────────────┤\n",
      "│ HOWARD HUGHES MEDICAL INSTITUTE │ 48.3333   │ US        │ OECD         │\n",
      "├─────────────────────────────────┼───────────┼───────────┼──────────────┤\n",
      "│ CSIRO                           │ 46        │ AU        │ OECD         │\n",
      "╘═════════════════════════════════╧═══════════╧═══════════╧══════════════╛\n"
     ]
    }
   ],
   "source": [
    "print(tabulate(df_affiliations_vis[['Affiliation', 'Patents', 'Country', 'Econ Group']][:20].set_index('Affiliation'), headers='keys', tablefmt='fancy_grid',  numalign=\"left\", stralign = \"left\"))\n"
   ]
  },
  {
   "cell_type": "markdown",
   "metadata": {},
   "source": [
    "## 2. Map countries"
   ]
  },
  {
   "cell_type": "code",
   "execution_count": 16,
   "metadata": {},
   "outputs": [],
   "source": [
    "#Countries\n",
    "df_countries = df_patentsg[['patent_id','edited_company_country','fractional_count_country', 'econ_group','patent_citations','patent_citations_fract']].drop_duplicates()\n",
    "\n",
    "#papers\n",
    "df_patent_country = df_countries.groupby(['edited_company_country'])['fractional_count_country'].sum().reset_index(name='Patents_fract').sort_values(['Patents_fract'], ascending=False)\n",
    "\n",
    "#citations\n",
    "df_cit_country = df_countries.groupby(['edited_company_country'])['patent_citations_fract'].sum().reset_index(name='Patent citations_fract').sort_values(['Patent citations_fract'], ascending=False)\n",
    "df_patent_country['Patent citations_fract'] = df_cit_country['Patent citations_fract']\n",
    "\n",
    "df_countries_vis = pd.merge(df_patent_country, df_countries[['edited_company_country', 'econ_group']].drop_duplicates(), how = 'left', on = 'edited_company_country') #.rename(columns = {'Papers_fract':'Papers','econ_group':'Econ Group','affiliation_country_ed':'Country'})"
   ]
  },
  {
   "cell_type": "code",
   "execution_count": 17,
   "metadata": {},
   "outputs": [
    {
     "name": "stdout",
     "output_type": "stream",
     "text": [
      "╒════╤══════════════════════════╤═════════════════╤══════════════════════════╤══════════════╕\n",
      "│    │ edited_company_country   │ Patents_fract   │ Patent citations_fract   │ econ_group   │\n",
      "╞════╪══════════════════════════╪═════════════════╪══════════════════════════╪══════════════╡\n",
      "│ 0  │ US                       │ 3655.75         │ 56018.5                  │ OECD         │\n",
      "├────┼──────────────────────────┼─────────────────┼──────────────────────────┼──────────────┤\n",
      "│ 1  │ JP                       │ 458.5           │ 3163.17                  │ OECD         │\n",
      "├────┼──────────────────────────┼─────────────────┼──────────────────────────┼──────────────┤\n",
      "│ 2  │ DE                       │ 388             │ 4367.67                  │ OECD         │\n",
      "├────┼──────────────────────────┼─────────────────┼──────────────────────────┼──────────────┤\n",
      "│ 3  │ GB                       │ 363.333         │ 13548.3                  │ OECD         │\n",
      "├────┼──────────────────────────┼─────────────────┼──────────────────────────┼──────────────┤\n",
      "│ 4  │ CA                       │ 179.75          │ 1978.83                  │ OECD         │\n",
      "├────┼──────────────────────────┼─────────────────┼──────────────────────────┼──────────────┤\n",
      "│ 5  │ NL                       │ 170.333         │ 2038.17                  │ OECD         │\n",
      "├────┼──────────────────────────┼─────────────────┼──────────────────────────┼──────────────┤\n",
      "│ 6  │ CH                       │ 149.25          │ 2207.33                  │ OECD         │\n",
      "├────┼──────────────────────────┼─────────────────┼──────────────────────────┼──────────────┤\n",
      "│ 7  │ AU                       │ 138.833         │ 2242.5                   │ OECD         │\n",
      "├────┼──────────────────────────┼─────────────────┼──────────────────────────┼──────────────┤\n",
      "│ 8  │ DK                       │ 128.667         │ 1374.5                   │ OECD         │\n",
      "├────┼──────────────────────────┼─────────────────┼──────────────────────────┼──────────────┤\n",
      "│ 9  │ KR                       │ 123.5           │ 382                      │ OECD         │\n",
      "├────┼──────────────────────────┼─────────────────┼──────────────────────────┼──────────────┤\n",
      "│ 10 │ IL                       │ 77.3333         │ 462.5                    │ OECD         │\n",
      "├────┼──────────────────────────┼─────────────────┼──────────────────────────┼──────────────┤\n",
      "│ 11 │ IE                       │ 74              │ 348                      │ OECD         │\n",
      "├────┼──────────────────────────┼─────────────────┼──────────────────────────┼──────────────┤\n",
      "│ 12 │ FR                       │ 66.3333         │ 391.167                  │ OECD         │\n",
      "├────┼──────────────────────────┼─────────────────┼──────────────────────────┼──────────────┤\n",
      "│ 13 │ TW                       │ 55              │ 300                      │ other        │\n",
      "├────┼──────────────────────────┼─────────────────┼──────────────────────────┼──────────────┤\n",
      "│ 14 │ CN                       │ 49.5            │ 77.5                     │ BRICS        │\n",
      "├────┼──────────────────────────┼─────────────────┼──────────────────────────┼──────────────┤\n",
      "│ 15 │ BE                       │ 48.5            │ 1053.5                   │ OECD         │\n",
      "├────┼──────────────────────────┼─────────────────┼──────────────────────────┼──────────────┤\n",
      "│ 16 │ AT                       │ 41.5            │ 185                      │ OECD         │\n",
      "├────┼──────────────────────────┼─────────────────┼──────────────────────────┼──────────────┤\n",
      "│ 17 │ NO                       │ 32.6667         │ 48                       │ OECD         │\n",
      "├────┼──────────────────────────┼─────────────────┼──────────────────────────┼──────────────┤\n",
      "│ 18 │ LU                       │ 32              │ 289                      │ OECD         │\n",
      "├────┼──────────────────────────┼─────────────────┼──────────────────────────┼──────────────┤\n",
      "│ 19 │ SG                       │ 24.5            │ 262.5                    │ G77          │\n",
      "╘════╧══════════════════════════╧═════════════════╧══════════════════════════╧══════════════╛\n"
     ]
    }
   ],
   "source": [
    "print(tabulate(df_countries_vis[:20], headers='keys', tablefmt='fancy_grid', numalign=\"left\", stralign = \"left\"))\n"
   ]
  },
  {
   "cell_type": "code",
   "execution_count": 18,
   "metadata": {},
   "outputs": [],
   "source": [
    "df_countries.to_csv('PATH\\data\\CoP_fractional_scores.csv')"
   ]
  },
  {
   "cell_type": "code",
   "execution_count": 19,
   "metadata": {},
   "outputs": [],
   "source": [
    "df_countries = pd.read_csv('PATH\\data\\CoP_fractional_scores.csv')"
   ]
  },
  {
   "cell_type": "code",
   "execution_count": 20,
   "metadata": {},
   "outputs": [],
   "source": [
    "#merge with science table\n",
    "df_sci_table = pd.read_csv('PATH\\data\\df_countries_vis_fract.csv')\n",
    "df_sci_pat_table = pd.merge(df_sci_table.drop(columns={'Unnamed: 0','country_paper_percentage', 'country_sci_cit_percentage', 'Econ Group'}).rename(columns = {'Citations by sci_fract':'Citations by sci','Citations by pat_fract': 'Citations by pat', 'Av citations by sci_fract': 'Av citations by sci', 'Av citations by pat_fract':'Av citations by pat', 'Med citations by sci_fract': 'Med citations by sci', 'Med citations by pat_fract': 'Med citations by pat'}), df_countries_vis.rename(columns = {'edited_company_country':'Country', 'Patents_fract':'Linked patents'}).drop(columns={'Patent citations_fract','econ_group'}), on = 'Country', how = 'left')"
   ]
  },
  {
   "cell_type": "code",
   "execution_count": 21,
   "metadata": {},
   "outputs": [
    {
     "data": {
      "text/html": [
       "<div>\n",
       "<style scoped>\n",
       "    .dataframe tbody tr th:only-of-type {\n",
       "        vertical-align: middle;\n",
       "    }\n",
       "\n",
       "    .dataframe tbody tr th {\n",
       "        vertical-align: top;\n",
       "    }\n",
       "\n",
       "    .dataframe thead th {\n",
       "        text-align: right;\n",
       "    }\n",
       "</style>\n",
       "<table border=\"1\" class=\"dataframe\">\n",
       "  <thead>\n",
       "    <tr style=\"text-align: right;\">\n",
       "      <th></th>\n",
       "      <th>Country</th>\n",
       "      <th>Papers</th>\n",
       "      <th>Citations by sci</th>\n",
       "      <th>Citations by pat</th>\n",
       "      <th>Av citations by sci</th>\n",
       "      <th>Av citations by pat</th>\n",
       "      <th>Linked patents</th>\n",
       "    </tr>\n",
       "  </thead>\n",
       "  <tbody>\n",
       "    <tr>\n",
       "      <th>24</th>\n",
       "      <td>MX</td>\n",
       "      <td>149.146861</td>\n",
       "      <td>3975.422511</td>\n",
       "      <td>16.833333</td>\n",
       "      <td>26.654416</td>\n",
       "      <td>0.112864</td>\n",
       "      <td>3.0</td>\n",
       "    </tr>\n",
       "  </tbody>\n",
       "</table>\n",
       "</div>"
      ],
      "text/plain": [
       "   Country      Papers  Citations by sci  Citations by pat  \\\n",
       "24      MX  149.146861       3975.422511         16.833333   \n",
       "\n",
       "    Av citations by sci  Av citations by pat  Linked patents  \n",
       "24            26.654416             0.112864             3.0  "
      ]
     },
     "execution_count": 21,
     "metadata": {},
     "output_type": "execute_result"
    }
   ],
   "source": [
    "df_sci_pat_table[df_sci_pat_table['Country'] == 'MX']"
   ]
  },
  {
   "cell_type": "code",
   "execution_count": 23,
   "metadata": {},
   "outputs": [],
   "source": [
    "df_sci_pat_table['Country_full'] = [pc.country_alpha2_to_country_name(x) for x in list(df_sci_pat_table['Country'])]"
   ]
  },
  {
   "cell_type": "code",
   "execution_count": 34,
   "metadata": {},
   "outputs": [],
   "source": [
    "# add knowledge balances\n",
    "df_knowledge = pd.read_csv('PATH\\data\\CoR-CoP_flow.csv').drop(columns = {'Unnamed: 0'})"
   ]
  },
  {
   "cell_type": "code",
   "execution_count": 25,
   "metadata": {},
   "outputs": [],
   "source": [
    "df_sci_pat_table_final = pd.merge(df_sci_pat_table, df_knowledge[['Country', 'External knowledge provision balance']], how = 'outer')"
   ]
  },
  {
   "cell_type": "code",
   "execution_count": 27,
   "metadata": {},
   "outputs": [
    {
     "data": {
      "text/html": [
       "<div>\n",
       "<style scoped>\n",
       "    .dataframe tbody tr th:only-of-type {\n",
       "        vertical-align: middle;\n",
       "    }\n",
       "\n",
       "    .dataframe tbody tr th {\n",
       "        vertical-align: top;\n",
       "    }\n",
       "\n",
       "    .dataframe thead th {\n",
       "        text-align: right;\n",
       "    }\n",
       "</style>\n",
       "<table border=\"1\" class=\"dataframe\">\n",
       "  <thead>\n",
       "    <tr style=\"text-align: right;\">\n",
       "      <th></th>\n",
       "      <th>Country</th>\n",
       "      <th>Papers</th>\n",
       "      <th>Citations by sci</th>\n",
       "      <th>Citations by pat</th>\n",
       "      <th>Av citations by sci</th>\n",
       "      <th>Av citations by pat</th>\n",
       "      <th>Linked patents</th>\n",
       "      <th>Country_full</th>\n",
       "      <th>External knowledge provision balance</th>\n",
       "    </tr>\n",
       "  </thead>\n",
       "  <tbody>\n",
       "    <tr>\n",
       "      <th>0</th>\n",
       "      <td>US</td>\n",
       "      <td>5583.366251</td>\n",
       "      <td>470722.453845</td>\n",
       "      <td>8619.637312</td>\n",
       "      <td>84.308002</td>\n",
       "      <td>1.543807</td>\n",
       "      <td>3655.750000</td>\n",
       "      <td>United States</td>\n",
       "      <td>0.584243</td>\n",
       "    </tr>\n",
       "    <tr>\n",
       "      <th>1</th>\n",
       "      <td>CN</td>\n",
       "      <td>2994.991179</td>\n",
       "      <td>84321.765172</td>\n",
       "      <td>498.246836</td>\n",
       "      <td>28.154262</td>\n",
       "      <td>0.166360</td>\n",
       "      <td>49.500000</td>\n",
       "      <td>China</td>\n",
       "      <td>2.602417</td>\n",
       "    </tr>\n",
       "    <tr>\n",
       "      <th>2</th>\n",
       "      <td>JP</td>\n",
       "      <td>2697.564292</td>\n",
       "      <td>133214.787320</td>\n",
       "      <td>3046.216799</td>\n",
       "      <td>49.383360</td>\n",
       "      <td>1.129247</td>\n",
       "      <td>458.500000</td>\n",
       "      <td>Japan</td>\n",
       "      <td>2.837159</td>\n",
       "    </tr>\n",
       "    <tr>\n",
       "      <th>3</th>\n",
       "      <td>DE</td>\n",
       "      <td>1160.028913</td>\n",
       "      <td>91812.530937</td>\n",
       "      <td>1313.096836</td>\n",
       "      <td>79.146761</td>\n",
       "      <td>1.131952</td>\n",
       "      <td>388.000000</td>\n",
       "      <td>Germany</td>\n",
       "      <td>1.023670</td>\n",
       "    </tr>\n",
       "    <tr>\n",
       "      <th>4</th>\n",
       "      <td>FR</td>\n",
       "      <td>1090.423791</td>\n",
       "      <td>76576.312575</td>\n",
       "      <td>753.571836</td>\n",
       "      <td>70.226194</td>\n",
       "      <td>0.691082</td>\n",
       "      <td>66.333333</td>\n",
       "      <td>France</td>\n",
       "      <td>4.154071</td>\n",
       "    </tr>\n",
       "    <tr>\n",
       "      <th>...</th>\n",
       "      <td>...</td>\n",
       "      <td>...</td>\n",
       "      <td>...</td>\n",
       "      <td>...</td>\n",
       "      <td>...</td>\n",
       "      <td>...</td>\n",
       "      <td>...</td>\n",
       "      <td>...</td>\n",
       "      <td>...</td>\n",
       "    </tr>\n",
       "    <tr>\n",
       "      <th>144</th>\n",
       "      <td>GS</td>\n",
       "      <td>0.166667</td>\n",
       "      <td>2.666667</td>\n",
       "      <td>0.000000</td>\n",
       "      <td>16.000000</td>\n",
       "      <td>0.000000</td>\n",
       "      <td>NaN</td>\n",
       "      <td>South Georgia and the South Sandwich Islands</td>\n",
       "      <td>NaN</td>\n",
       "    </tr>\n",
       "    <tr>\n",
       "      <th>145</th>\n",
       "      <td>UZ</td>\n",
       "      <td>0.166667</td>\n",
       "      <td>3.666667</td>\n",
       "      <td>0.000000</td>\n",
       "      <td>22.000000</td>\n",
       "      <td>0.000000</td>\n",
       "      <td>NaN</td>\n",
       "      <td>Uzbekistan</td>\n",
       "      <td>NaN</td>\n",
       "    </tr>\n",
       "    <tr>\n",
       "      <th>146</th>\n",
       "      <td>MR</td>\n",
       "      <td>0.166667</td>\n",
       "      <td>0.000000</td>\n",
       "      <td>0.000000</td>\n",
       "      <td>0.000000</td>\n",
       "      <td>0.000000</td>\n",
       "      <td>NaN</td>\n",
       "      <td>Mauritania</td>\n",
       "      <td>NaN</td>\n",
       "    </tr>\n",
       "    <tr>\n",
       "      <th>147</th>\n",
       "      <td>GA</td>\n",
       "      <td>0.142857</td>\n",
       "      <td>13.142857</td>\n",
       "      <td>0.000000</td>\n",
       "      <td>92.000000</td>\n",
       "      <td>0.000000</td>\n",
       "      <td>NaN</td>\n",
       "      <td>Gabon</td>\n",
       "      <td>NaN</td>\n",
       "    </tr>\n",
       "    <tr>\n",
       "      <th>148</th>\n",
       "      <td>IQ</td>\n",
       "      <td>0.142857</td>\n",
       "      <td>0.000000</td>\n",
       "      <td>0.000000</td>\n",
       "      <td>0.000000</td>\n",
       "      <td>0.000000</td>\n",
       "      <td>NaN</td>\n",
       "      <td>Iraq</td>\n",
       "      <td>NaN</td>\n",
       "    </tr>\n",
       "  </tbody>\n",
       "</table>\n",
       "<p>149 rows × 9 columns</p>\n",
       "</div>"
      ],
      "text/plain": [
       "    Country       Papers  Citations by sci  Citations by pat  \\\n",
       "0        US  5583.366251     470722.453845       8619.637312   \n",
       "1        CN  2994.991179      84321.765172        498.246836   \n",
       "2        JP  2697.564292     133214.787320       3046.216799   \n",
       "3        DE  1160.028913      91812.530937       1313.096836   \n",
       "4        FR  1090.423791      76576.312575        753.571836   \n",
       "..      ...          ...               ...               ...   \n",
       "144      GS     0.166667          2.666667          0.000000   \n",
       "145      UZ     0.166667          3.666667          0.000000   \n",
       "146      MR     0.166667          0.000000          0.000000   \n",
       "147      GA     0.142857         13.142857          0.000000   \n",
       "148      IQ     0.142857          0.000000          0.000000   \n",
       "\n",
       "     Av citations by sci  Av citations by pat  Linked patents  \\\n",
       "0              84.308002             1.543807     3655.750000   \n",
       "1              28.154262             0.166360       49.500000   \n",
       "2              49.383360             1.129247      458.500000   \n",
       "3              79.146761             1.131952      388.000000   \n",
       "4              70.226194             0.691082       66.333333   \n",
       "..                   ...                  ...             ...   \n",
       "144            16.000000             0.000000             NaN   \n",
       "145            22.000000             0.000000             NaN   \n",
       "146             0.000000             0.000000             NaN   \n",
       "147            92.000000             0.000000             NaN   \n",
       "148             0.000000             0.000000             NaN   \n",
       "\n",
       "                                     Country_full  \\\n",
       "0                                   United States   \n",
       "1                                           China   \n",
       "2                                           Japan   \n",
       "3                                         Germany   \n",
       "4                                          France   \n",
       "..                                            ...   \n",
       "144  South Georgia and the South Sandwich Islands   \n",
       "145                                    Uzbekistan   \n",
       "146                                    Mauritania   \n",
       "147                                         Gabon   \n",
       "148                                          Iraq   \n",
       "\n",
       "     External knowledge provision balance  \n",
       "0                                0.584243  \n",
       "1                                2.602417  \n",
       "2                                2.837159  \n",
       "3                                1.023670  \n",
       "4                                4.154071  \n",
       "..                                    ...  \n",
       "144                                   NaN  \n",
       "145                                   NaN  \n",
       "146                                   NaN  \n",
       "147                                   NaN  \n",
       "148                                   NaN  \n",
       "\n",
       "[149 rows x 9 columns]"
      ]
     },
     "execution_count": 27,
     "metadata": {},
     "output_type": "execute_result"
    }
   ],
   "source": [
    "df_sci_pat_table_final"
   ]
  },
  {
   "cell_type": "code",
   "execution_count": 21,
   "metadata": {},
   "outputs": [],
   "source": [
    "df_sci_pat_table_final.index -= 1 "
   ]
  },
  {
   "cell_type": "code",
   "execution_count": 209,
   "metadata": {
    "scrolled": false
   },
   "outputs": [
    {
     "name": "stdout",
     "output_type": "stream",
     "text": [
      "╒════╤════════════════╤══════════╤════════════════════╤═══════════════════════╤════════════════════╤═══════════════════════╤══════════════════╤════════════════════════╕\n",
      "│    │ Country        │ Papers   │ Citations by sci   │ Av citations by sci   │ Citations by pat   │ Av citations by pat   │ Linked patents   │ Ext prov/use balance   │\n",
      "╞════╪════════════════╪══════════╪════════════════════╪═══════════════════════╪════════════════════╪═══════════════════════╪══════════════════╪════════════════════════╡\n",
      "│ 0  │ United States  │ 5583.37  │ 470722             │ 84.308                │ 8619.64            │ 1.54381               │ 3655.75          │ 0.584243               │\n",
      "├────┼────────────────┼──────────┼────────────────────┼───────────────────────┼────────────────────┼───────────────────────┼──────────────────┼────────────────────────┤\n",
      "│ 1  │ China          │ 2994.99  │ 84321.8            │ 28.1543               │ 498.247            │ 0.16636               │ 49.5             │ 2.60242                │\n",
      "├────┼────────────────┼──────────┼────────────────────┼───────────────────────┼────────────────────┼───────────────────────┼──────────────────┼────────────────────────┤\n",
      "│ 2  │ Japan          │ 2697.56  │ 133215             │ 49.3834               │ 3046.22            │ 1.12925               │ 458.5            │ 2.83716                │\n",
      "├────┼────────────────┼──────────┼────────────────────┼───────────────────────┼────────────────────┼───────────────────────┼──────────────────┼────────────────────────┤\n",
      "│ 3  │ Germany        │ 1160.03  │ 91812.5            │ 79.1468               │ 1313.1             │ 1.13195               │ 388              │ 1.02367                │\n",
      "├────┼────────────────┼──────────┼────────────────────┼───────────────────────┼────────────────────┼───────────────────────┼──────────────────┼────────────────────────┤\n",
      "│ 4  │ France         │ 1090.42  │ 76576.3            │ 70.2262               │ 753.572            │ 0.691082              │ 66.3333          │ 4.15407                │\n",
      "├────┼────────────────┼──────────┼────────────────────┼───────────────────────┼────────────────────┼───────────────────────┼──────────────────┼────────────────────────┤\n",
      "│ 5  │ Canada         │ 967.296  │ 63657.3            │ 65.8095               │ 1221.42            │ 1.26272               │ 179.75           │ 1.74136                │\n",
      "├────┼────────────────┼──────────┼────────────────────┼───────────────────────┼────────────────────┼───────────────────────┼──────────────────┼────────────────────────┤\n",
      "│ 6  │ United Kingdom │ 936.389  │ 68064.9            │ 72.6887               │ 755.151            │ 0.80645               │ 363.333          │ 0.648943               │\n",
      "├────┼────────────────┼──────────┼────────────────────┼───────────────────────┼────────────────────┼───────────────────────┼──────────────────┼────────────────────────┤\n",
      "│ 7  │ Spain          │ 888.163  │ 42311.8            │ 47.6396               │ 281.974            │ 0.31748               │ 18.6667          │ 6.08826                │\n",
      "├────┼────────────────┼──────────┼────────────────────┼───────────────────────┼────────────────────┼───────────────────────┼──────────────────┼────────────────────────┤\n",
      "│ 8  │ Australia      │ 690.535  │ 44389              │ 64.282                │ 801.874            │ 1.16124               │ 138.833          │ 0.64074                │\n",
      "├────┼────────────────┼──────────┼────────────────────┼───────────────────────┼────────────────────┼───────────────────────┼──────────────────┼────────────────────────┤\n",
      "│ 9  │ South Korea    │ 689.185  │ 17323.4            │ 25.1361               │ 190.728            │ 0.276744              │ 123.5            │ 0.228937               │\n",
      "├────┼────────────────┼──────────┼────────────────────┼───────────────────────┼────────────────────┼───────────────────────┼──────────────────┼────────────────────────┤\n",
      "│ 10 │ Italy          │ 582.501  │ 26277.2            │ 45.111                │ 205.641            │ 0.353031              │ 11.5             │ 7.70214                │\n",
      "├────┼────────────────┼──────────┼────────────────────┼───────────────────────┼────────────────────┼───────────────────────┼──────────────────┼────────────────────────┤\n",
      "│ 11 │ Norway         │ 442.024  │ 25234.5            │ 57.0884               │ 273.937            │ 0.619733              │ 32.6667          │ 2.03519                │\n",
      "├────┼────────────────┼──────────┼────────────────────┼───────────────────────┼────────────────────┼───────────────────────┼──────────────────┼────────────────────────┤\n",
      "│ 12 │ Taiwan         │ 355.017  │ 11845.8            │ 33.3668               │ 110.537            │ 0.311357              │ 55               │ 0.300821               │\n",
      "├────┼────────────────┼──────────┼────────────────────┼───────────────────────┼────────────────────┼───────────────────────┼──────────────────┼────────────────────────┤\n",
      "│ 13 │ India          │ 314.534  │ 10031.6            │ 31.8935               │ 78.5               │ 0.249576              │ 22.5             │ 0.495671               │\n",
      "├────┼────────────────┼──────────┼────────────────────┼───────────────────────┼────────────────────┼───────────────────────┼──────────────────┼────────────────────────┤\n",
      "│ 14 │ Sweden         │ 248.448  │ 17930.5            │ 72.1698               │ 232.393            │ 0.935378              │ 18.8333          │ 4.35799                │\n",
      "├────┼────────────────┼──────────┼────────────────────┼───────────────────────┼────────────────────┼───────────────────────┼──────────────────┼────────────────────────┤\n",
      "│ 15 │ Brazil         │ 231.384  │ 7936.05            │ 34.2982               │ 42.4742            │ 0.183566              │ 1                │ 25.1994                │\n",
      "├────┼────────────────┼──────────┼────────────────────┼───────────────────────┼────────────────────┼───────────────────────┼──────────────────┼────────────────────────┤\n",
      "│ 16 │ Portugal       │ 222.044  │ 8695.97            │ 39.1632               │ 21.8205            │ 0.0982709             │ 2                │ 4.31538                │\n",
      "├────┼────────────────┼──────────┼────────────────────┼───────────────────────┼────────────────────┼───────────────────────┼──────────────────┼────────────────────────┤\n",
      "│ 17 │ Netherlands    │ 192.477  │ 14291.2            │ 74.2487               │ 681.548            │ 3.54093               │ 170.333          │ 0.359817               │\n",
      "├────┼────────────────┼──────────┼────────────────────┼───────────────────────┼────────────────────┼───────────────────────┼──────────────────┼────────────────────────┤\n",
      "│ 18 │ Russia         │ 182.662  │ 8615.15            │ 47.1643               │ 713.65             │ 3.90694               │ 13               │ 19.1458                │\n",
      "├────┼────────────────┼──────────┼────────────────────┼───────────────────────┼────────────────────┼───────────────────────┼──────────────────┼────────────────────────┤\n",
      "│ 19 │ Switzerland    │ 166.85   │ 12676.9            │ 75.9779               │ 279.204            │ 1.67339               │ 149.25           │ 0.623755               │\n",
      "╘════╧════════════════╧══════════╧════════════════════╧═══════════════════════╧════════════════════╧═══════════════════════╧══════════════════╧════════════════════════╛\n"
     ]
    }
   ],
   "source": [
    "print(tabulate(df_sci_pat_table_final[['Country_full', 'Papers', 'Citations by sci', 'Av citations by sci', 'Citations by pat', 'Av citations by pat', 'Linked patents', 'External knowledge provision balance']][:20].rename(columns = {'Country_full':'Country', 'External knowledge provision balance':'Ext prov/use balance'}).replace({'Country': {'Korea, Republic of':'South Korea','Russian Federation':'Russia','Taiwan, Province of China': 'Taiwan'}}), headers='keys', tablefmt='fancy_grid', numalign=\"left\", stralign = \"left\"))\n"
   ]
  },
  {
   "cell_type": "code",
   "execution_count": 28,
   "metadata": {},
   "outputs": [],
   "source": [
    "df_sci_pat_plot = pd.merge(df_sci_pat_table, df_sci_table[['Country', 'Econ Group']], on = 'Country')"
   ]
  },
  {
   "cell_type": "code",
   "execution_count": 61,
   "metadata": {},
   "outputs": [
    {
     "data": {
      "text/html": [
       "<div>\n",
       "<style scoped>\n",
       "    .dataframe tbody tr th:only-of-type {\n",
       "        vertical-align: middle;\n",
       "    }\n",
       "\n",
       "    .dataframe tbody tr th {\n",
       "        vertical-align: top;\n",
       "    }\n",
       "\n",
       "    .dataframe thead th {\n",
       "        text-align: right;\n",
       "    }\n",
       "</style>\n",
       "<table border=\"1\" class=\"dataframe\">\n",
       "  <thead>\n",
       "    <tr style=\"text-align: right;\">\n",
       "      <th></th>\n",
       "      <th>Country</th>\n",
       "      <th>Papers</th>\n",
       "      <th>Citations by sci</th>\n",
       "      <th>Citations by pat</th>\n",
       "      <th>Av citations by sci</th>\n",
       "      <th>Av citations by pat</th>\n",
       "      <th>Linked patents</th>\n",
       "      <th>Country</th>\n",
       "      <th>Econ Group</th>\n",
       "    </tr>\n",
       "  </thead>\n",
       "  <tbody>\n",
       "    <tr>\n",
       "      <th>0</th>\n",
       "      <td>US</td>\n",
       "      <td>5583.366251</td>\n",
       "      <td>470722.453845</td>\n",
       "      <td>8619.637312</td>\n",
       "      <td>84.308002</td>\n",
       "      <td>1.543807</td>\n",
       "      <td>3655.750000</td>\n",
       "      <td>United States</td>\n",
       "      <td>OECD</td>\n",
       "    </tr>\n",
       "    <tr>\n",
       "      <th>1</th>\n",
       "      <td>CN</td>\n",
       "      <td>2994.991179</td>\n",
       "      <td>84321.765172</td>\n",
       "      <td>498.246836</td>\n",
       "      <td>28.154262</td>\n",
       "      <td>0.166360</td>\n",
       "      <td>49.500000</td>\n",
       "      <td>China</td>\n",
       "      <td>BRICS</td>\n",
       "    </tr>\n",
       "    <tr>\n",
       "      <th>2</th>\n",
       "      <td>JP</td>\n",
       "      <td>2697.564292</td>\n",
       "      <td>133214.787320</td>\n",
       "      <td>3046.216799</td>\n",
       "      <td>49.383360</td>\n",
       "      <td>1.129247</td>\n",
       "      <td>458.500000</td>\n",
       "      <td>Japan</td>\n",
       "      <td>OECD</td>\n",
       "    </tr>\n",
       "    <tr>\n",
       "      <th>3</th>\n",
       "      <td>DE</td>\n",
       "      <td>1160.028913</td>\n",
       "      <td>91812.530937</td>\n",
       "      <td>1313.096836</td>\n",
       "      <td>79.146761</td>\n",
       "      <td>1.131952</td>\n",
       "      <td>388.000000</td>\n",
       "      <td>Germany</td>\n",
       "      <td>OECD</td>\n",
       "    </tr>\n",
       "    <tr>\n",
       "      <th>4</th>\n",
       "      <td>FR</td>\n",
       "      <td>1090.423791</td>\n",
       "      <td>76576.312575</td>\n",
       "      <td>753.571836</td>\n",
       "      <td>70.226194</td>\n",
       "      <td>0.691082</td>\n",
       "      <td>66.333333</td>\n",
       "      <td>France</td>\n",
       "      <td>OECD</td>\n",
       "    </tr>\n",
       "    <tr>\n",
       "      <th>...</th>\n",
       "      <td>...</td>\n",
       "      <td>...</td>\n",
       "      <td>...</td>\n",
       "      <td>...</td>\n",
       "      <td>...</td>\n",
       "      <td>...</td>\n",
       "      <td>...</td>\n",
       "      <td>...</td>\n",
       "      <td>...</td>\n",
       "    </tr>\n",
       "    <tr>\n",
       "      <th>144</th>\n",
       "      <td>GS</td>\n",
       "      <td>0.166667</td>\n",
       "      <td>2.666667</td>\n",
       "      <td>0.000000</td>\n",
       "      <td>16.000000</td>\n",
       "      <td>0.000000</td>\n",
       "      <td>NaN</td>\n",
       "      <td>South Georgia and the South Sandwich Islands</td>\n",
       "      <td>other</td>\n",
       "    </tr>\n",
       "    <tr>\n",
       "      <th>145</th>\n",
       "      <td>UZ</td>\n",
       "      <td>0.166667</td>\n",
       "      <td>3.666667</td>\n",
       "      <td>0.000000</td>\n",
       "      <td>22.000000</td>\n",
       "      <td>0.000000</td>\n",
       "      <td>NaN</td>\n",
       "      <td>Uzbekistan</td>\n",
       "      <td>other</td>\n",
       "    </tr>\n",
       "    <tr>\n",
       "      <th>146</th>\n",
       "      <td>MR</td>\n",
       "      <td>0.166667</td>\n",
       "      <td>0.000000</td>\n",
       "      <td>0.000000</td>\n",
       "      <td>0.000000</td>\n",
       "      <td>0.000000</td>\n",
       "      <td>NaN</td>\n",
       "      <td>Mauritania</td>\n",
       "      <td>G77</td>\n",
       "    </tr>\n",
       "    <tr>\n",
       "      <th>147</th>\n",
       "      <td>GA</td>\n",
       "      <td>0.142857</td>\n",
       "      <td>13.142857</td>\n",
       "      <td>0.000000</td>\n",
       "      <td>92.000000</td>\n",
       "      <td>0.000000</td>\n",
       "      <td>NaN</td>\n",
       "      <td>Gabon</td>\n",
       "      <td>G77</td>\n",
       "    </tr>\n",
       "    <tr>\n",
       "      <th>148</th>\n",
       "      <td>IQ</td>\n",
       "      <td>0.142857</td>\n",
       "      <td>0.000000</td>\n",
       "      <td>0.000000</td>\n",
       "      <td>0.000000</td>\n",
       "      <td>0.000000</td>\n",
       "      <td>NaN</td>\n",
       "      <td>Iraq</td>\n",
       "      <td>G77</td>\n",
       "    </tr>\n",
       "  </tbody>\n",
       "</table>\n",
       "<p>149 rows × 9 columns</p>\n",
       "</div>"
      ],
      "text/plain": [
       "    Country       Papers  Citations by sci  Citations by pat  \\\n",
       "0        US  5583.366251     470722.453845       8619.637312   \n",
       "1        CN  2994.991179      84321.765172        498.246836   \n",
       "2        JP  2697.564292     133214.787320       3046.216799   \n",
       "3        DE  1160.028913      91812.530937       1313.096836   \n",
       "4        FR  1090.423791      76576.312575        753.571836   \n",
       "..      ...          ...               ...               ...   \n",
       "144      GS     0.166667          2.666667          0.000000   \n",
       "145      UZ     0.166667          3.666667          0.000000   \n",
       "146      MR     0.166667          0.000000          0.000000   \n",
       "147      GA     0.142857         13.142857          0.000000   \n",
       "148      IQ     0.142857          0.000000          0.000000   \n",
       "\n",
       "     Av citations by sci  Av citations by pat  Linked patents  \\\n",
       "0              84.308002             1.543807     3655.750000   \n",
       "1              28.154262             0.166360       49.500000   \n",
       "2              49.383360             1.129247      458.500000   \n",
       "3              79.146761             1.131952      388.000000   \n",
       "4              70.226194             0.691082       66.333333   \n",
       "..                   ...                  ...             ...   \n",
       "144            16.000000             0.000000             NaN   \n",
       "145            22.000000             0.000000             NaN   \n",
       "146             0.000000             0.000000             NaN   \n",
       "147            92.000000             0.000000             NaN   \n",
       "148             0.000000             0.000000             NaN   \n",
       "\n",
       "                                          Country Econ Group  \n",
       "0                                   United States       OECD  \n",
       "1                                           China      BRICS  \n",
       "2                                           Japan       OECD  \n",
       "3                                         Germany       OECD  \n",
       "4                                          France       OECD  \n",
       "..                                            ...        ...  \n",
       "144  South Georgia and the South Sandwich Islands      other  \n",
       "145                                    Uzbekistan      other  \n",
       "146                                    Mauritania        G77  \n",
       "147                                         Gabon        G77  \n",
       "148                                          Iraq        G77  \n",
       "\n",
       "[149 rows x 9 columns]"
      ]
     },
     "execution_count": 61,
     "metadata": {},
     "output_type": "execute_result"
    }
   ],
   "source": [
    "df_sci_pat_plot.rename(columns = {'Country_full':'Country'}).replace({'Country': {'Korea, Republic of':'South Korea', 'Taiwan, Province of China': 'Taiwan'}})\n"
   ]
  },
  {
   "cell_type": "code",
   "execution_count": 62,
   "metadata": {},
   "outputs": [],
   "source": [
    "# add percentages\n",
    "df_sci_perc = pd.read_csv('PATH\\data\\table_COR_fract.csv')\n",
    "df_sci_pat_plot_perc = pd.merge(df_sci_pat_plot, df_sci_perc[['Country', 'country_paper_percentage']], on = 'Country')\n",
    "df_sci_pat_plot_perc['percentage_label'] = [f'{x:.2f}%' for x in df_sci_pat_plot_perc['country_paper_percentage']]"
   ]
  },
  {
   "cell_type": "code",
   "execution_count": 172,
   "metadata": {},
   "outputs": [],
   "source": [
    "countries_label = []\n",
    "econ_groups_label = []\n",
    "for country in list(df_sci_pat_plot_perc['Country_full']): \n",
    "    if list(df_sci_pat_plot_perc['country_paper_percentage'][df_sci_pat_plot_perc['Country_full'] == country])[0] >= 0.3: \n",
    "        countries_label.append(country)\n",
    "    else: \n",
    "        countries_label.append('other')\n",
    "    econ_groups_label.append(list(df_sci_pat_plot_perc['Econ Group'][df_sci_pat_plot_perc['Country_full'] == country])[0])"
   ]
  },
  {
   "cell_type": "code",
   "execution_count": 173,
   "metadata": {},
   "outputs": [],
   "source": [
    "df_sci_pat_plot_perc['countries_label'] = countries_label\n",
    "df_sci_pat_plot_perc['econ_groups_label'] = econ_groups_label"
   ]
  },
  {
   "cell_type": "code",
   "execution_count": 174,
   "metadata": {},
   "outputs": [],
   "source": [
    "df_sci_pat_plot_perc_label = df_sci_pat_plot_perc.groupby(['countries_label', 'Econ Group'])['Papers'].sum().reset_index(name='Papers').sort_values(['Papers'],ascending = True)"
   ]
  },
  {
   "cell_type": "code",
   "execution_count": 179,
   "metadata": {
    "scrolled": false
   },
   "outputs": [
    {
     "data": {
      "application/vnd.plotly.v1+json": {
       "config": {
        "plotlyServerURL": "https://plot.ly"
       },
       "data": [
        {
         "branchvalues": "total",
         "customdata": [
          [
           "OECD"
          ],
          [
           "OECD"
          ],
          [
           "OECD"
          ],
          [
           "OECD"
          ],
          [
           "OECD"
          ],
          [
           "OECD"
          ],
          [
           "G77"
          ],
          [
           "BRICS"
          ],
          [
           "BRICS"
          ],
          [
           "G77"
          ],
          [
           "OECD"
          ],
          [
           "OECD"
          ],
          [
           "OECD"
          ],
          [
           "other"
          ],
          [
           "G77"
          ],
          [
           "OECD"
          ],
          [
           "OECD"
          ],
          [
           "G77"
          ],
          [
           "OECD"
          ],
          [
           "OECD"
          ],
          [
           "other"
          ],
          [
           "OECD"
          ],
          [
           "OECD"
          ],
          [
           "OECD"
          ],
          [
           "OECD"
          ],
          [
           "OECD"
          ],
          [
           "OECD"
          ],
          [
           "OECD"
          ],
          [
           "OECD"
          ],
          [
           "BRICS"
          ],
          [
           "BRICS"
          ],
          [
           "OECD"
          ],
          [
           "OECD"
          ],
          [
           "OECD"
          ],
          [
           "BRICS"
          ],
          [
           "OECD"
          ],
          [
           "BRICS"
          ],
          [
           "G77"
          ],
          [
           "OECD"
          ],
          [
           "other"
          ]
         ],
         "domain": {
          "x": [
           0,
           1
          ],
          "y": [
           0,
           1
          ]
         },
         "hovertemplate": "labels=%{label}<br>Papers=%{value}<br>parent=%{parent}<br>id=%{id}<br>Econ Group=%{customdata[0]}<extra></extra>",
         "ids": [
          "OECD/Australia",
          "OECD/other",
          "OECD/Portugal",
          "OECD/Israel",
          "OECD/Netherlands",
          "OECD/Canada",
          "G77/Chile",
          "BRICS/South Africa",
          "BRICS/India",
          "G77/Singapore",
          "OECD/South Korea",
          "OECD/Sweden",
          "OECD/Switzerland",
          "other/Taiwan",
          "G77/Thailand",
          "OECD/United Kingdom",
          "OECD/United States",
          "G77/other",
          "OECD/Spain",
          "OECD/Norway",
          "other/other",
          "OECD/Japan",
          "OECD/Italy",
          "OECD/Ireland",
          "OECD/Greece",
          "OECD/Germany",
          "OECD/France",
          "OECD/Finland",
          "OECD/Denmark",
          "BRICS/China",
          "BRICS/Brazil",
          "OECD/Belgium",
          "OECD/Austria",
          "OECD/New Zealand",
          "BRICS/Russia",
          "OECD/Mexico",
          "BRICS",
          "G77",
          "OECD",
          "other"
         ],
         "labels": [
          "Australia",
          "other",
          "Portugal",
          "Israel",
          "Netherlands",
          "Canada",
          "Chile",
          "South Africa",
          "India",
          "Singapore",
          "South Korea",
          "Sweden",
          "Switzerland",
          "Taiwan",
          "Thailand",
          "United Kingdom",
          "United States",
          "other",
          "Spain",
          "Norway",
          "other",
          "Japan",
          "Italy",
          "Ireland",
          "Greece",
          "Germany",
          "France",
          "Finland",
          "Denmark",
          "China",
          "Brazil",
          "Belgium",
          "Austria",
          "New Zealand",
          "Russia",
          "Mexico",
          "BRICS",
          "G77",
          "OECD",
          "other"
         ],
         "marker": {
          "colors": [
           "#1f77b4",
           "#1f77b4",
           "#1f77b4",
           "#1f77b4",
           "#1f77b4",
           "#1f77b4",
           "#2ca02c",
           "#d62728",
           "#d62728",
           "#2ca02c",
           "#1f77b4",
           "#1f77b4",
           "#1f77b4",
           "#ff7f0e",
           "#2ca02c",
           "#1f77b4",
           "#1f77b4",
           "#2ca02c",
           "#1f77b4",
           "#1f77b4",
           "#ff7f0e",
           "#1f77b4",
           "#1f77b4",
           "#1f77b4",
           "#1f77b4",
           "#1f77b4",
           "#1f77b4",
           "#1f77b4",
           "#1f77b4",
           "#d62728",
           "#d62728",
           "#1f77b4",
           "#1f77b4",
           "#1f77b4",
           "#d62728",
           "#1f77b4",
           "#d62728",
           "#2ca02c",
           "#1f77b4",
           "#ff7f0e"
          ]
         },
         "name": "",
         "parents": [
          "OECD",
          "OECD",
          "OECD",
          "OECD",
          "OECD",
          "OECD",
          "G77",
          "BRICS",
          "BRICS",
          "G77",
          "OECD",
          "OECD",
          "OECD",
          "other",
          "G77",
          "OECD",
          "OECD",
          "G77",
          "OECD",
          "OECD",
          "other",
          "OECD",
          "OECD",
          "OECD",
          "OECD",
          "OECD",
          "OECD",
          "OECD",
          "OECD",
          "BRICS",
          "BRICS",
          "OECD",
          "OECD",
          "OECD",
          "BRICS",
          "OECD",
          "",
          "",
          "",
          ""
         ],
         "textinfo": "label+percent entry",
         "type": "treemap",
         "values": [
          690.5354247604248,
          260.652380952381,
          222.04445554445564,
          156.82182539682537,
          192.47692908942912,
          967.2955798830812,
          120.4333333333333,
          74.00467079217081,
          314.5339285714285,
          109.84431818181818,
          689.1850889850892,
          248.44818422318428,
          166.84953703703698,
          355.0171957671956,
          162.0737794612795,
          936.389255651757,
          5583.366250878758,
          518.3321960446965,
          888.1632025382032,
          442.02437469937416,
          222.1109126984127,
          2697.5642917267915,
          582.5005762755759,
          77.97738095238097,
          92.99448051948049,
          1160.028913216415,
          1090.423790561292,
          75.00294612794613,
          153.07433862433857,
          2994.991178728686,
          231.3836751211752,
          152.1116161616161,
          124.42156084656072,
          146.11322751322746,
          182.6623376623378,
          149.14686147186143,
          3797.5757908757982,
          910.6836270211274,
          17945.612473637484,
          577.1281084656083
         ]
        }
       ],
       "layout": {
        "font": {
         "color": "black",
         "family": "Arial",
         "size": 22
        },
        "hovermode": false,
        "legend": {
         "tracegroupgap": 0
        },
        "margin": {
         "b": 5,
         "l": 5,
         "r": 5,
         "t": 5
        },
        "template": {
         "data": {
          "bar": [
           {
            "error_x": {
             "color": "#2a3f5f"
            },
            "error_y": {
             "color": "#2a3f5f"
            },
            "marker": {
             "line": {
              "color": "#E5ECF6",
              "width": 0.5
             },
             "pattern": {
              "fillmode": "overlay",
              "size": 10,
              "solidity": 0.2
             }
            },
            "type": "bar"
           }
          ],
          "barpolar": [
           {
            "marker": {
             "line": {
              "color": "#E5ECF6",
              "width": 0.5
             },
             "pattern": {
              "fillmode": "overlay",
              "size": 10,
              "solidity": 0.2
             }
            },
            "type": "barpolar"
           }
          ],
          "carpet": [
           {
            "aaxis": {
             "endlinecolor": "#2a3f5f",
             "gridcolor": "white",
             "linecolor": "white",
             "minorgridcolor": "white",
             "startlinecolor": "#2a3f5f"
            },
            "baxis": {
             "endlinecolor": "#2a3f5f",
             "gridcolor": "white",
             "linecolor": "white",
             "minorgridcolor": "white",
             "startlinecolor": "#2a3f5f"
            },
            "type": "carpet"
           }
          ],
          "choropleth": [
           {
            "colorbar": {
             "outlinewidth": 0,
             "ticks": ""
            },
            "type": "choropleth"
           }
          ],
          "contour": [
           {
            "colorbar": {
             "outlinewidth": 0,
             "ticks": ""
            },
            "colorscale": [
             [
              0,
              "#0d0887"
             ],
             [
              0.1111111111111111,
              "#46039f"
             ],
             [
              0.2222222222222222,
              "#7201a8"
             ],
             [
              0.3333333333333333,
              "#9c179e"
             ],
             [
              0.4444444444444444,
              "#bd3786"
             ],
             [
              0.5555555555555556,
              "#d8576b"
             ],
             [
              0.6666666666666666,
              "#ed7953"
             ],
             [
              0.7777777777777778,
              "#fb9f3a"
             ],
             [
              0.8888888888888888,
              "#fdca26"
             ],
             [
              1,
              "#f0f921"
             ]
            ],
            "type": "contour"
           }
          ],
          "contourcarpet": [
           {
            "colorbar": {
             "outlinewidth": 0,
             "ticks": ""
            },
            "type": "contourcarpet"
           }
          ],
          "heatmap": [
           {
            "colorbar": {
             "outlinewidth": 0,
             "ticks": ""
            },
            "colorscale": [
             [
              0,
              "#0d0887"
             ],
             [
              0.1111111111111111,
              "#46039f"
             ],
             [
              0.2222222222222222,
              "#7201a8"
             ],
             [
              0.3333333333333333,
              "#9c179e"
             ],
             [
              0.4444444444444444,
              "#bd3786"
             ],
             [
              0.5555555555555556,
              "#d8576b"
             ],
             [
              0.6666666666666666,
              "#ed7953"
             ],
             [
              0.7777777777777778,
              "#fb9f3a"
             ],
             [
              0.8888888888888888,
              "#fdca26"
             ],
             [
              1,
              "#f0f921"
             ]
            ],
            "type": "heatmap"
           }
          ],
          "heatmapgl": [
           {
            "colorbar": {
             "outlinewidth": 0,
             "ticks": ""
            },
            "colorscale": [
             [
              0,
              "#0d0887"
             ],
             [
              0.1111111111111111,
              "#46039f"
             ],
             [
              0.2222222222222222,
              "#7201a8"
             ],
             [
              0.3333333333333333,
              "#9c179e"
             ],
             [
              0.4444444444444444,
              "#bd3786"
             ],
             [
              0.5555555555555556,
              "#d8576b"
             ],
             [
              0.6666666666666666,
              "#ed7953"
             ],
             [
              0.7777777777777778,
              "#fb9f3a"
             ],
             [
              0.8888888888888888,
              "#fdca26"
             ],
             [
              1,
              "#f0f921"
             ]
            ],
            "type": "heatmapgl"
           }
          ],
          "histogram": [
           {
            "marker": {
             "pattern": {
              "fillmode": "overlay",
              "size": 10,
              "solidity": 0.2
             }
            },
            "type": "histogram"
           }
          ],
          "histogram2d": [
           {
            "colorbar": {
             "outlinewidth": 0,
             "ticks": ""
            },
            "colorscale": [
             [
              0,
              "#0d0887"
             ],
             [
              0.1111111111111111,
              "#46039f"
             ],
             [
              0.2222222222222222,
              "#7201a8"
             ],
             [
              0.3333333333333333,
              "#9c179e"
             ],
             [
              0.4444444444444444,
              "#bd3786"
             ],
             [
              0.5555555555555556,
              "#d8576b"
             ],
             [
              0.6666666666666666,
              "#ed7953"
             ],
             [
              0.7777777777777778,
              "#fb9f3a"
             ],
             [
              0.8888888888888888,
              "#fdca26"
             ],
             [
              1,
              "#f0f921"
             ]
            ],
            "type": "histogram2d"
           }
          ],
          "histogram2dcontour": [
           {
            "colorbar": {
             "outlinewidth": 0,
             "ticks": ""
            },
            "colorscale": [
             [
              0,
              "#0d0887"
             ],
             [
              0.1111111111111111,
              "#46039f"
             ],
             [
              0.2222222222222222,
              "#7201a8"
             ],
             [
              0.3333333333333333,
              "#9c179e"
             ],
             [
              0.4444444444444444,
              "#bd3786"
             ],
             [
              0.5555555555555556,
              "#d8576b"
             ],
             [
              0.6666666666666666,
              "#ed7953"
             ],
             [
              0.7777777777777778,
              "#fb9f3a"
             ],
             [
              0.8888888888888888,
              "#fdca26"
             ],
             [
              1,
              "#f0f921"
             ]
            ],
            "type": "histogram2dcontour"
           }
          ],
          "mesh3d": [
           {
            "colorbar": {
             "outlinewidth": 0,
             "ticks": ""
            },
            "type": "mesh3d"
           }
          ],
          "parcoords": [
           {
            "line": {
             "colorbar": {
              "outlinewidth": 0,
              "ticks": ""
             }
            },
            "type": "parcoords"
           }
          ],
          "pie": [
           {
            "automargin": true,
            "type": "pie"
           }
          ],
          "scatter": [
           {
            "fillpattern": {
             "fillmode": "overlay",
             "size": 10,
             "solidity": 0.2
            },
            "type": "scatter"
           }
          ],
          "scatter3d": [
           {
            "line": {
             "colorbar": {
              "outlinewidth": 0,
              "ticks": ""
             }
            },
            "marker": {
             "colorbar": {
              "outlinewidth": 0,
              "ticks": ""
             }
            },
            "type": "scatter3d"
           }
          ],
          "scattercarpet": [
           {
            "marker": {
             "colorbar": {
              "outlinewidth": 0,
              "ticks": ""
             }
            },
            "type": "scattercarpet"
           }
          ],
          "scattergeo": [
           {
            "marker": {
             "colorbar": {
              "outlinewidth": 0,
              "ticks": ""
             }
            },
            "type": "scattergeo"
           }
          ],
          "scattergl": [
           {
            "marker": {
             "colorbar": {
              "outlinewidth": 0,
              "ticks": ""
             }
            },
            "type": "scattergl"
           }
          ],
          "scattermapbox": [
           {
            "marker": {
             "colorbar": {
              "outlinewidth": 0,
              "ticks": ""
             }
            },
            "type": "scattermapbox"
           }
          ],
          "scatterpolar": [
           {
            "marker": {
             "colorbar": {
              "outlinewidth": 0,
              "ticks": ""
             }
            },
            "type": "scatterpolar"
           }
          ],
          "scatterpolargl": [
           {
            "marker": {
             "colorbar": {
              "outlinewidth": 0,
              "ticks": ""
             }
            },
            "type": "scatterpolargl"
           }
          ],
          "scatterternary": [
           {
            "marker": {
             "colorbar": {
              "outlinewidth": 0,
              "ticks": ""
             }
            },
            "type": "scatterternary"
           }
          ],
          "surface": [
           {
            "colorbar": {
             "outlinewidth": 0,
             "ticks": ""
            },
            "colorscale": [
             [
              0,
              "#0d0887"
             ],
             [
              0.1111111111111111,
              "#46039f"
             ],
             [
              0.2222222222222222,
              "#7201a8"
             ],
             [
              0.3333333333333333,
              "#9c179e"
             ],
             [
              0.4444444444444444,
              "#bd3786"
             ],
             [
              0.5555555555555556,
              "#d8576b"
             ],
             [
              0.6666666666666666,
              "#ed7953"
             ],
             [
              0.7777777777777778,
              "#fb9f3a"
             ],
             [
              0.8888888888888888,
              "#fdca26"
             ],
             [
              1,
              "#f0f921"
             ]
            ],
            "type": "surface"
           }
          ],
          "table": [
           {
            "cells": {
             "fill": {
              "color": "#EBF0F8"
             },
             "line": {
              "color": "white"
             }
            },
            "header": {
             "fill": {
              "color": "#C8D4E3"
             },
             "line": {
              "color": "white"
             }
            },
            "type": "table"
           }
          ]
         },
         "layout": {
          "annotationdefaults": {
           "arrowcolor": "#2a3f5f",
           "arrowhead": 0,
           "arrowwidth": 1
          },
          "autotypenumbers": "strict",
          "coloraxis": {
           "colorbar": {
            "outlinewidth": 0,
            "ticks": ""
           }
          },
          "colorscale": {
           "diverging": [
            [
             0,
             "#8e0152"
            ],
            [
             0.1,
             "#c51b7d"
            ],
            [
             0.2,
             "#de77ae"
            ],
            [
             0.3,
             "#f1b6da"
            ],
            [
             0.4,
             "#fde0ef"
            ],
            [
             0.5,
             "#f7f7f7"
            ],
            [
             0.6,
             "#e6f5d0"
            ],
            [
             0.7,
             "#b8e186"
            ],
            [
             0.8,
             "#7fbc41"
            ],
            [
             0.9,
             "#4d9221"
            ],
            [
             1,
             "#276419"
            ]
           ],
           "sequential": [
            [
             0,
             "#0d0887"
            ],
            [
             0.1111111111111111,
             "#46039f"
            ],
            [
             0.2222222222222222,
             "#7201a8"
            ],
            [
             0.3333333333333333,
             "#9c179e"
            ],
            [
             0.4444444444444444,
             "#bd3786"
            ],
            [
             0.5555555555555556,
             "#d8576b"
            ],
            [
             0.6666666666666666,
             "#ed7953"
            ],
            [
             0.7777777777777778,
             "#fb9f3a"
            ],
            [
             0.8888888888888888,
             "#fdca26"
            ],
            [
             1,
             "#f0f921"
            ]
           ],
           "sequentialminus": [
            [
             0,
             "#0d0887"
            ],
            [
             0.1111111111111111,
             "#46039f"
            ],
            [
             0.2222222222222222,
             "#7201a8"
            ],
            [
             0.3333333333333333,
             "#9c179e"
            ],
            [
             0.4444444444444444,
             "#bd3786"
            ],
            [
             0.5555555555555556,
             "#d8576b"
            ],
            [
             0.6666666666666666,
             "#ed7953"
            ],
            [
             0.7777777777777778,
             "#fb9f3a"
            ],
            [
             0.8888888888888888,
             "#fdca26"
            ],
            [
             1,
             "#f0f921"
            ]
           ]
          },
          "colorway": [
           "#636efa",
           "#EF553B",
           "#00cc96",
           "#ab63fa",
           "#FFA15A",
           "#19d3f3",
           "#FF6692",
           "#B6E880",
           "#FF97FF",
           "#FECB52"
          ],
          "font": {
           "color": "#2a3f5f"
          },
          "geo": {
           "bgcolor": "white",
           "lakecolor": "white",
           "landcolor": "#E5ECF6",
           "showlakes": true,
           "showland": true,
           "subunitcolor": "white"
          },
          "hoverlabel": {
           "align": "left"
          },
          "hovermode": "closest",
          "mapbox": {
           "style": "light"
          },
          "paper_bgcolor": "white",
          "plot_bgcolor": "#E5ECF6",
          "polar": {
           "angularaxis": {
            "gridcolor": "white",
            "linecolor": "white",
            "ticks": ""
           },
           "bgcolor": "#E5ECF6",
           "radialaxis": {
            "gridcolor": "white",
            "linecolor": "white",
            "ticks": ""
           }
          },
          "scene": {
           "xaxis": {
            "backgroundcolor": "#E5ECF6",
            "gridcolor": "white",
            "gridwidth": 2,
            "linecolor": "white",
            "showbackground": true,
            "ticks": "",
            "zerolinecolor": "white"
           },
           "yaxis": {
            "backgroundcolor": "#E5ECF6",
            "gridcolor": "white",
            "gridwidth": 2,
            "linecolor": "white",
            "showbackground": true,
            "ticks": "",
            "zerolinecolor": "white"
           },
           "zaxis": {
            "backgroundcolor": "#E5ECF6",
            "gridcolor": "white",
            "gridwidth": 2,
            "linecolor": "white",
            "showbackground": true,
            "ticks": "",
            "zerolinecolor": "white"
           }
          },
          "shapedefaults": {
           "line": {
            "color": "#2a3f5f"
           }
          },
          "ternary": {
           "aaxis": {
            "gridcolor": "white",
            "linecolor": "white",
            "ticks": ""
           },
           "baxis": {
            "gridcolor": "white",
            "linecolor": "white",
            "ticks": ""
           },
           "bgcolor": "#E5ECF6",
           "caxis": {
            "gridcolor": "white",
            "linecolor": "white",
            "ticks": ""
           }
          },
          "title": {
           "x": 0.05
          },
          "xaxis": {
           "automargin": true,
           "gridcolor": "white",
           "linecolor": "white",
           "ticks": "",
           "title": {
            "standoff": 15
           },
           "zerolinecolor": "white",
           "zerolinewidth": 2
          },
          "yaxis": {
           "automargin": true,
           "gridcolor": "white",
           "linecolor": "white",
           "ticks": "",
           "title": {
            "standoff": 15
           },
           "zerolinecolor": "white",
           "zerolinewidth": 2
          }
         }
        },
        "treemapcolorway": [
         "#1f77b4",
         "#2ca02c",
         "#d62728",
         "#ff7f0e",
         "#d62728",
         "#1f77b4"
        ]
       }
      },
      "text/html": [
       "<div>                            <div id=\"79e100c4-d6f1-48f7-ac9d-784f714e0ad0\" class=\"plotly-graph-div\" style=\"height:525px; width:100%;\"></div>            <script type=\"text/javascript\">                require([\"plotly\"], function(Plotly) {                    window.PLOTLYENV=window.PLOTLYENV || {};                                    if (document.getElementById(\"79e100c4-d6f1-48f7-ac9d-784f714e0ad0\")) {                    Plotly.newPlot(                        \"79e100c4-d6f1-48f7-ac9d-784f714e0ad0\",                        [{\"branchvalues\":\"total\",\"customdata\":[[\"OECD\"],[\"OECD\"],[\"OECD\"],[\"OECD\"],[\"OECD\"],[\"OECD\"],[\"G77\"],[\"BRICS\"],[\"BRICS\"],[\"G77\"],[\"OECD\"],[\"OECD\"],[\"OECD\"],[\"other\"],[\"G77\"],[\"OECD\"],[\"OECD\"],[\"G77\"],[\"OECD\"],[\"OECD\"],[\"other\"],[\"OECD\"],[\"OECD\"],[\"OECD\"],[\"OECD\"],[\"OECD\"],[\"OECD\"],[\"OECD\"],[\"OECD\"],[\"BRICS\"],[\"BRICS\"],[\"OECD\"],[\"OECD\"],[\"OECD\"],[\"BRICS\"],[\"OECD\"],[\"BRICS\"],[\"G77\"],[\"OECD\"],[\"other\"]],\"domain\":{\"x\":[0.0,1.0],\"y\":[0.0,1.0]},\"hovertemplate\":\"labels=%{label}\\u003cbr\\u003ePapers=%{value}\\u003cbr\\u003eparent=%{parent}\\u003cbr\\u003eid=%{id}\\u003cbr\\u003eEcon Group=%{customdata[0]}\\u003cextra\\u003e\\u003c\\u002fextra\\u003e\",\"ids\":[\"OECD\\u002fAustralia\",\"OECD\\u002fother\",\"OECD\\u002fPortugal\",\"OECD\\u002fIsrael\",\"OECD\\u002fNetherlands\",\"OECD\\u002fCanada\",\"G77\\u002fChile\",\"BRICS\\u002fSouth Africa\",\"BRICS\\u002fIndia\",\"G77\\u002fSingapore\",\"OECD\\u002fSouth Korea\",\"OECD\\u002fSweden\",\"OECD\\u002fSwitzerland\",\"other\\u002fTaiwan\",\"G77\\u002fThailand\",\"OECD\\u002fUnited Kingdom\",\"OECD\\u002fUnited States\",\"G77\\u002fother\",\"OECD\\u002fSpain\",\"OECD\\u002fNorway\",\"other\\u002fother\",\"OECD\\u002fJapan\",\"OECD\\u002fItaly\",\"OECD\\u002fIreland\",\"OECD\\u002fGreece\",\"OECD\\u002fGermany\",\"OECD\\u002fFrance\",\"OECD\\u002fFinland\",\"OECD\\u002fDenmark\",\"BRICS\\u002fChina\",\"BRICS\\u002fBrazil\",\"OECD\\u002fBelgium\",\"OECD\\u002fAustria\",\"OECD\\u002fNew Zealand\",\"BRICS\\u002fRussia\",\"OECD\\u002fMexico\",\"BRICS\",\"G77\",\"OECD\",\"other\"],\"labels\":[\"Australia\",\"other\",\"Portugal\",\"Israel\",\"Netherlands\",\"Canada\",\"Chile\",\"South Africa\",\"India\",\"Singapore\",\"South Korea\",\"Sweden\",\"Switzerland\",\"Taiwan\",\"Thailand\",\"United Kingdom\",\"United States\",\"other\",\"Spain\",\"Norway\",\"other\",\"Japan\",\"Italy\",\"Ireland\",\"Greece\",\"Germany\",\"France\",\"Finland\",\"Denmark\",\"China\",\"Brazil\",\"Belgium\",\"Austria\",\"New Zealand\",\"Russia\",\"Mexico\",\"BRICS\",\"G77\",\"OECD\",\"other\"],\"marker\":{\"colors\":[\"#1f77b4\",\"#1f77b4\",\"#1f77b4\",\"#1f77b4\",\"#1f77b4\",\"#1f77b4\",\"#2ca02c\",\"#d62728\",\"#d62728\",\"#2ca02c\",\"#1f77b4\",\"#1f77b4\",\"#1f77b4\",\"#ff7f0e\",\"#2ca02c\",\"#1f77b4\",\"#1f77b4\",\"#2ca02c\",\"#1f77b4\",\"#1f77b4\",\"#ff7f0e\",\"#1f77b4\",\"#1f77b4\",\"#1f77b4\",\"#1f77b4\",\"#1f77b4\",\"#1f77b4\",\"#1f77b4\",\"#1f77b4\",\"#d62728\",\"#d62728\",\"#1f77b4\",\"#1f77b4\",\"#1f77b4\",\"#d62728\",\"#1f77b4\",\"#d62728\",\"#2ca02c\",\"#1f77b4\",\"#ff7f0e\"]},\"name\":\"\",\"parents\":[\"OECD\",\"OECD\",\"OECD\",\"OECD\",\"OECD\",\"OECD\",\"G77\",\"BRICS\",\"BRICS\",\"G77\",\"OECD\",\"OECD\",\"OECD\",\"other\",\"G77\",\"OECD\",\"OECD\",\"G77\",\"OECD\",\"OECD\",\"other\",\"OECD\",\"OECD\",\"OECD\",\"OECD\",\"OECD\",\"OECD\",\"OECD\",\"OECD\",\"BRICS\",\"BRICS\",\"OECD\",\"OECD\",\"OECD\",\"BRICS\",\"OECD\",\"\",\"\",\"\",\"\"],\"values\":[690.5354247604248,260.652380952381,222.04445554445564,156.82182539682537,192.47692908942912,967.2955798830812,120.4333333333333,74.00467079217081,314.5339285714285,109.84431818181818,689.1850889850892,248.44818422318428,166.84953703703698,355.0171957671956,162.0737794612795,936.389255651757,5583.366250878758,518.3321960446965,888.1632025382032,442.02437469937416,222.1109126984127,2697.5642917267915,582.5005762755759,77.97738095238097,92.99448051948049,1160.028913216415,1090.423790561292,75.00294612794613,153.07433862433857,2994.991178728686,231.3836751211752,152.1116161616161,124.42156084656072,146.11322751322746,182.6623376623378,149.14686147186143,3797.5757908757982,910.6836270211274,17945.612473637484,577.1281084656083],\"type\":\"treemap\",\"textinfo\":\"label+percent entry\"}],                        {\"template\":{\"data\":{\"histogram2dcontour\":[{\"type\":\"histogram2dcontour\",\"colorbar\":{\"outlinewidth\":0,\"ticks\":\"\"},\"colorscale\":[[0.0,\"#0d0887\"],[0.1111111111111111,\"#46039f\"],[0.2222222222222222,\"#7201a8\"],[0.3333333333333333,\"#9c179e\"],[0.4444444444444444,\"#bd3786\"],[0.5555555555555556,\"#d8576b\"],[0.6666666666666666,\"#ed7953\"],[0.7777777777777778,\"#fb9f3a\"],[0.8888888888888888,\"#fdca26\"],[1.0,\"#f0f921\"]]}],\"choropleth\":[{\"type\":\"choropleth\",\"colorbar\":{\"outlinewidth\":0,\"ticks\":\"\"}}],\"histogram2d\":[{\"type\":\"histogram2d\",\"colorbar\":{\"outlinewidth\":0,\"ticks\":\"\"},\"colorscale\":[[0.0,\"#0d0887\"],[0.1111111111111111,\"#46039f\"],[0.2222222222222222,\"#7201a8\"],[0.3333333333333333,\"#9c179e\"],[0.4444444444444444,\"#bd3786\"],[0.5555555555555556,\"#d8576b\"],[0.6666666666666666,\"#ed7953\"],[0.7777777777777778,\"#fb9f3a\"],[0.8888888888888888,\"#fdca26\"],[1.0,\"#f0f921\"]]}],\"heatmap\":[{\"type\":\"heatmap\",\"colorbar\":{\"outlinewidth\":0,\"ticks\":\"\"},\"colorscale\":[[0.0,\"#0d0887\"],[0.1111111111111111,\"#46039f\"],[0.2222222222222222,\"#7201a8\"],[0.3333333333333333,\"#9c179e\"],[0.4444444444444444,\"#bd3786\"],[0.5555555555555556,\"#d8576b\"],[0.6666666666666666,\"#ed7953\"],[0.7777777777777778,\"#fb9f3a\"],[0.8888888888888888,\"#fdca26\"],[1.0,\"#f0f921\"]]}],\"heatmapgl\":[{\"type\":\"heatmapgl\",\"colorbar\":{\"outlinewidth\":0,\"ticks\":\"\"},\"colorscale\":[[0.0,\"#0d0887\"],[0.1111111111111111,\"#46039f\"],[0.2222222222222222,\"#7201a8\"],[0.3333333333333333,\"#9c179e\"],[0.4444444444444444,\"#bd3786\"],[0.5555555555555556,\"#d8576b\"],[0.6666666666666666,\"#ed7953\"],[0.7777777777777778,\"#fb9f3a\"],[0.8888888888888888,\"#fdca26\"],[1.0,\"#f0f921\"]]}],\"contourcarpet\":[{\"type\":\"contourcarpet\",\"colorbar\":{\"outlinewidth\":0,\"ticks\":\"\"}}],\"contour\":[{\"type\":\"contour\",\"colorbar\":{\"outlinewidth\":0,\"ticks\":\"\"},\"colorscale\":[[0.0,\"#0d0887\"],[0.1111111111111111,\"#46039f\"],[0.2222222222222222,\"#7201a8\"],[0.3333333333333333,\"#9c179e\"],[0.4444444444444444,\"#bd3786\"],[0.5555555555555556,\"#d8576b\"],[0.6666666666666666,\"#ed7953\"],[0.7777777777777778,\"#fb9f3a\"],[0.8888888888888888,\"#fdca26\"],[1.0,\"#f0f921\"]]}],\"surface\":[{\"type\":\"surface\",\"colorbar\":{\"outlinewidth\":0,\"ticks\":\"\"},\"colorscale\":[[0.0,\"#0d0887\"],[0.1111111111111111,\"#46039f\"],[0.2222222222222222,\"#7201a8\"],[0.3333333333333333,\"#9c179e\"],[0.4444444444444444,\"#bd3786\"],[0.5555555555555556,\"#d8576b\"],[0.6666666666666666,\"#ed7953\"],[0.7777777777777778,\"#fb9f3a\"],[0.8888888888888888,\"#fdca26\"],[1.0,\"#f0f921\"]]}],\"mesh3d\":[{\"type\":\"mesh3d\",\"colorbar\":{\"outlinewidth\":0,\"ticks\":\"\"}}],\"scatter\":[{\"fillpattern\":{\"fillmode\":\"overlay\",\"size\":10,\"solidity\":0.2},\"type\":\"scatter\"}],\"parcoords\":[{\"type\":\"parcoords\",\"line\":{\"colorbar\":{\"outlinewidth\":0,\"ticks\":\"\"}}}],\"scatterpolargl\":[{\"type\":\"scatterpolargl\",\"marker\":{\"colorbar\":{\"outlinewidth\":0,\"ticks\":\"\"}}}],\"bar\":[{\"error_x\":{\"color\":\"#2a3f5f\"},\"error_y\":{\"color\":\"#2a3f5f\"},\"marker\":{\"line\":{\"color\":\"#E5ECF6\",\"width\":0.5},\"pattern\":{\"fillmode\":\"overlay\",\"size\":10,\"solidity\":0.2}},\"type\":\"bar\"}],\"scattergeo\":[{\"type\":\"scattergeo\",\"marker\":{\"colorbar\":{\"outlinewidth\":0,\"ticks\":\"\"}}}],\"scatterpolar\":[{\"type\":\"scatterpolar\",\"marker\":{\"colorbar\":{\"outlinewidth\":0,\"ticks\":\"\"}}}],\"histogram\":[{\"marker\":{\"pattern\":{\"fillmode\":\"overlay\",\"size\":10,\"solidity\":0.2}},\"type\":\"histogram\"}],\"scattergl\":[{\"type\":\"scattergl\",\"marker\":{\"colorbar\":{\"outlinewidth\":0,\"ticks\":\"\"}}}],\"scatter3d\":[{\"type\":\"scatter3d\",\"line\":{\"colorbar\":{\"outlinewidth\":0,\"ticks\":\"\"}},\"marker\":{\"colorbar\":{\"outlinewidth\":0,\"ticks\":\"\"}}}],\"scattermapbox\":[{\"type\":\"scattermapbox\",\"marker\":{\"colorbar\":{\"outlinewidth\":0,\"ticks\":\"\"}}}],\"scatterternary\":[{\"type\":\"scatterternary\",\"marker\":{\"colorbar\":{\"outlinewidth\":0,\"ticks\":\"\"}}}],\"scattercarpet\":[{\"type\":\"scattercarpet\",\"marker\":{\"colorbar\":{\"outlinewidth\":0,\"ticks\":\"\"}}}],\"carpet\":[{\"aaxis\":{\"endlinecolor\":\"#2a3f5f\",\"gridcolor\":\"white\",\"linecolor\":\"white\",\"minorgridcolor\":\"white\",\"startlinecolor\":\"#2a3f5f\"},\"baxis\":{\"endlinecolor\":\"#2a3f5f\",\"gridcolor\":\"white\",\"linecolor\":\"white\",\"minorgridcolor\":\"white\",\"startlinecolor\":\"#2a3f5f\"},\"type\":\"carpet\"}],\"table\":[{\"cells\":{\"fill\":{\"color\":\"#EBF0F8\"},\"line\":{\"color\":\"white\"}},\"header\":{\"fill\":{\"color\":\"#C8D4E3\"},\"line\":{\"color\":\"white\"}},\"type\":\"table\"}],\"barpolar\":[{\"marker\":{\"line\":{\"color\":\"#E5ECF6\",\"width\":0.5},\"pattern\":{\"fillmode\":\"overlay\",\"size\":10,\"solidity\":0.2}},\"type\":\"barpolar\"}],\"pie\":[{\"automargin\":true,\"type\":\"pie\"}]},\"layout\":{\"autotypenumbers\":\"strict\",\"colorway\":[\"#636efa\",\"#EF553B\",\"#00cc96\",\"#ab63fa\",\"#FFA15A\",\"#19d3f3\",\"#FF6692\",\"#B6E880\",\"#FF97FF\",\"#FECB52\"],\"font\":{\"color\":\"#2a3f5f\"},\"hovermode\":\"closest\",\"hoverlabel\":{\"align\":\"left\"},\"paper_bgcolor\":\"white\",\"plot_bgcolor\":\"#E5ECF6\",\"polar\":{\"bgcolor\":\"#E5ECF6\",\"angularaxis\":{\"gridcolor\":\"white\",\"linecolor\":\"white\",\"ticks\":\"\"},\"radialaxis\":{\"gridcolor\":\"white\",\"linecolor\":\"white\",\"ticks\":\"\"}},\"ternary\":{\"bgcolor\":\"#E5ECF6\",\"aaxis\":{\"gridcolor\":\"white\",\"linecolor\":\"white\",\"ticks\":\"\"},\"baxis\":{\"gridcolor\":\"white\",\"linecolor\":\"white\",\"ticks\":\"\"},\"caxis\":{\"gridcolor\":\"white\",\"linecolor\":\"white\",\"ticks\":\"\"}},\"coloraxis\":{\"colorbar\":{\"outlinewidth\":0,\"ticks\":\"\"}},\"colorscale\":{\"sequential\":[[0.0,\"#0d0887\"],[0.1111111111111111,\"#46039f\"],[0.2222222222222222,\"#7201a8\"],[0.3333333333333333,\"#9c179e\"],[0.4444444444444444,\"#bd3786\"],[0.5555555555555556,\"#d8576b\"],[0.6666666666666666,\"#ed7953\"],[0.7777777777777778,\"#fb9f3a\"],[0.8888888888888888,\"#fdca26\"],[1.0,\"#f0f921\"]],\"sequentialminus\":[[0.0,\"#0d0887\"],[0.1111111111111111,\"#46039f\"],[0.2222222222222222,\"#7201a8\"],[0.3333333333333333,\"#9c179e\"],[0.4444444444444444,\"#bd3786\"],[0.5555555555555556,\"#d8576b\"],[0.6666666666666666,\"#ed7953\"],[0.7777777777777778,\"#fb9f3a\"],[0.8888888888888888,\"#fdca26\"],[1.0,\"#f0f921\"]],\"diverging\":[[0,\"#8e0152\"],[0.1,\"#c51b7d\"],[0.2,\"#de77ae\"],[0.3,\"#f1b6da\"],[0.4,\"#fde0ef\"],[0.5,\"#f7f7f7\"],[0.6,\"#e6f5d0\"],[0.7,\"#b8e186\"],[0.8,\"#7fbc41\"],[0.9,\"#4d9221\"],[1,\"#276419\"]]},\"xaxis\":{\"gridcolor\":\"white\",\"linecolor\":\"white\",\"ticks\":\"\",\"title\":{\"standoff\":15},\"zerolinecolor\":\"white\",\"automargin\":true,\"zerolinewidth\":2},\"yaxis\":{\"gridcolor\":\"white\",\"linecolor\":\"white\",\"ticks\":\"\",\"title\":{\"standoff\":15},\"zerolinecolor\":\"white\",\"automargin\":true,\"zerolinewidth\":2},\"scene\":{\"xaxis\":{\"backgroundcolor\":\"#E5ECF6\",\"gridcolor\":\"white\",\"linecolor\":\"white\",\"showbackground\":true,\"ticks\":\"\",\"zerolinecolor\":\"white\",\"gridwidth\":2},\"yaxis\":{\"backgroundcolor\":\"#E5ECF6\",\"gridcolor\":\"white\",\"linecolor\":\"white\",\"showbackground\":true,\"ticks\":\"\",\"zerolinecolor\":\"white\",\"gridwidth\":2},\"zaxis\":{\"backgroundcolor\":\"#E5ECF6\",\"gridcolor\":\"white\",\"linecolor\":\"white\",\"showbackground\":true,\"ticks\":\"\",\"zerolinecolor\":\"white\",\"gridwidth\":2}},\"shapedefaults\":{\"line\":{\"color\":\"#2a3f5f\"}},\"annotationdefaults\":{\"arrowcolor\":\"#2a3f5f\",\"arrowhead\":0,\"arrowwidth\":1},\"geo\":{\"bgcolor\":\"white\",\"landcolor\":\"#E5ECF6\",\"subunitcolor\":\"white\",\"showland\":true,\"showlakes\":true,\"lakecolor\":\"white\"},\"title\":{\"x\":0.05},\"mapbox\":{\"style\":\"light\"}}},\"legend\":{\"tracegroupgap\":0},\"margin\":{\"t\":5,\"l\":5,\"r\":5,\"b\":5},\"treemapcolorway\":[\"#1f77b4\",\"#2ca02c\",\"#d62728\",\"#ff7f0e\",\"#d62728\",\"#1f77b4\"],\"hovermode\":false,\"font\":{\"family\":\"Arial\",\"size\":22,\"color\":\"black\"}},                        {\"responsive\": true}                    ).then(function(){\n",
       "                            \n",
       "var gd = document.getElementById('79e100c4-d6f1-48f7-ac9d-784f714e0ad0');\n",
       "var x = new MutationObserver(function (mutations, observer) {{\n",
       "        var display = window.getComputedStyle(gd).display;\n",
       "        if (!display || display === 'none') {{\n",
       "            console.log([gd, 'removed!']);\n",
       "            Plotly.purge(gd);\n",
       "            observer.disconnect();\n",
       "        }}\n",
       "}});\n",
       "\n",
       "// Listen for the removal of the full notebook cells\n",
       "var notebookContainer = gd.closest('#notebook-container');\n",
       "if (notebookContainer) {{\n",
       "    x.observe(notebookContainer, {childList: true});\n",
       "}}\n",
       "\n",
       "// Listen for the clearing of the current output cell\n",
       "var outputEl = gd.closest('.output');\n",
       "if (outputEl) {{\n",
       "    x.observe(outputEl, {childList: true});\n",
       "}}\n",
       "\n",
       "                        })                };                });            </script>        </div>"
      ]
     },
     "metadata": {},
     "output_type": "display_data"
    }
   ],
   "source": [
    "import plotly.express as px\n",
    "import plotly.io as pio\n",
    "\n",
    "\n",
    "tab20_colors = ['#1f77b4','#2ca02c','#d62728','#ff7f0e','#d62728','#1f77b4']\n",
    "fig = px.treemap(\n",
    "    df_sci_pat_plot_perc_label.replace({\n",
    "        'countries_label':{\n",
    "            'Korea, Republic of':'South Korea',\n",
    "            'Russian Federation':'Russia',\n",
    "            'Taiwan, Province of China': 'Taiwan'\n",
    "        }\n",
    "    }),\n",
    "    path=['Econ Group', 'countries_label'],\n",
    "    values='Papers',  # Use 'country_paper_percentage' column\n",
    "    color='Econ Group',\n",
    "    color_discrete_sequence=tab20_colors,\n",
    "    # Show 'percentage_label' as the text labels\n",
    ")\n",
    "\n",
    "fig.data[0].textinfo = 'label+percent entry'\n",
    "\n",
    "fig.layout.hovermode = False\n",
    "\n",
    "\n",
    "fig.update_layout(\n",
    "    margin = dict(t=5, l=5, r=5, b=5),\n",
    "    #title=dict(\n",
    "    #    text=\"Marine genetic studies per country and economic group\", \n",
    "    #    font=dict(family=\"Arial\", size=26, color=\"black\"),\n",
    "    #    x=0.5,\n",
    "    #    y=0.95),\n",
    "    font=dict(family=\"Arial\", size=22, color=\"black\")\n",
    ")\n",
    "\n",
    "fig.show()\n",
    "pio.write_image(fig, 'PATH\\plots\\paper_plot.jpg', width=1000, height=800)\n",
    "pio.write_image(fig, 'PATH\\plots\\paper_plot.svg', width=1000, height=800)\n"
   ]
  },
  {
   "cell_type": "code",
   "execution_count": 150,
   "metadata": {},
   "outputs": [
    {
     "data": {
      "text/html": [
       "<div>\n",
       "<style scoped>\n",
       "    .dataframe tbody tr th:only-of-type {\n",
       "        vertical-align: middle;\n",
       "    }\n",
       "\n",
       "    .dataframe tbody tr th {\n",
       "        vertical-align: top;\n",
       "    }\n",
       "\n",
       "    .dataframe thead th {\n",
       "        text-align: right;\n",
       "    }\n",
       "</style>\n",
       "<table border=\"1\" class=\"dataframe\">\n",
       "  <thead>\n",
       "    <tr style=\"text-align: right;\">\n",
       "      <th></th>\n",
       "      <th>countries_label</th>\n",
       "      <th>econ_groups_label</th>\n",
       "      <th>Papers</th>\n",
       "    </tr>\n",
       "  </thead>\n",
       "  <tbody>\n",
       "    <tr>\n",
       "      <th>24</th>\n",
       "      <td>other</td>\n",
       "      <td>BRICS</td>\n",
       "      <td>74.004671</td>\n",
       "    </tr>\n",
       "    <tr>\n",
       "      <th>1</th>\n",
       "      <td>Belgium</td>\n",
       "      <td>OECD</td>\n",
       "      <td>152.111616</td>\n",
       "    </tr>\n",
       "    <tr>\n",
       "      <th>5</th>\n",
       "      <td>Denmark</td>\n",
       "      <td>OECD</td>\n",
       "      <td>153.074339</td>\n",
       "    </tr>\n",
       "    <tr>\n",
       "      <th>9</th>\n",
       "      <td>Israel</td>\n",
       "      <td>OECD</td>\n",
       "      <td>156.821825</td>\n",
       "    </tr>\n",
       "    <tr>\n",
       "      <th>21</th>\n",
       "      <td>Thailand</td>\n",
       "      <td>G77</td>\n",
       "      <td>162.073779</td>\n",
       "    </tr>\n",
       "    <tr>\n",
       "      <th>19</th>\n",
       "      <td>Switzerland</td>\n",
       "      <td>OECD</td>\n",
       "      <td>166.849537</td>\n",
       "    </tr>\n",
       "    <tr>\n",
       "      <th>16</th>\n",
       "      <td>Russian Federation</td>\n",
       "      <td>BRICS</td>\n",
       "      <td>182.662338</td>\n",
       "    </tr>\n",
       "    <tr>\n",
       "      <th>13</th>\n",
       "      <td>Netherlands</td>\n",
       "      <td>OECD</td>\n",
       "      <td>192.476929</td>\n",
       "    </tr>\n",
       "    <tr>\n",
       "      <th>15</th>\n",
       "      <td>Portugal</td>\n",
       "      <td>OECD</td>\n",
       "      <td>222.044456</td>\n",
       "    </tr>\n",
       "    <tr>\n",
       "      <th>27</th>\n",
       "      <td>other</td>\n",
       "      <td>other</td>\n",
       "      <td>222.110913</td>\n",
       "    </tr>\n",
       "    <tr>\n",
       "      <th>2</th>\n",
       "      <td>Brazil</td>\n",
       "      <td>BRICS</td>\n",
       "      <td>231.383675</td>\n",
       "    </tr>\n",
       "    <tr>\n",
       "      <th>18</th>\n",
       "      <td>Sweden</td>\n",
       "      <td>OECD</td>\n",
       "      <td>248.448184</td>\n",
       "    </tr>\n",
       "    <tr>\n",
       "      <th>8</th>\n",
       "      <td>India</td>\n",
       "      <td>BRICS</td>\n",
       "      <td>314.533929</td>\n",
       "    </tr>\n",
       "    <tr>\n",
       "      <th>20</th>\n",
       "      <td>Taiwan, Province of China</td>\n",
       "      <td>other</td>\n",
       "      <td>355.017196</td>\n",
       "    </tr>\n",
       "    <tr>\n",
       "      <th>14</th>\n",
       "      <td>Norway</td>\n",
       "      <td>OECD</td>\n",
       "      <td>442.024375</td>\n",
       "    </tr>\n",
       "    <tr>\n",
       "      <th>10</th>\n",
       "      <td>Italy</td>\n",
       "      <td>OECD</td>\n",
       "      <td>582.500576</td>\n",
       "    </tr>\n",
       "    <tr>\n",
       "      <th>12</th>\n",
       "      <td>Korea, Republic of</td>\n",
       "      <td>OECD</td>\n",
       "      <td>689.185089</td>\n",
       "    </tr>\n",
       "    <tr>\n",
       "      <th>0</th>\n",
       "      <td>Australia</td>\n",
       "      <td>OECD</td>\n",
       "      <td>690.535425</td>\n",
       "    </tr>\n",
       "    <tr>\n",
       "      <th>25</th>\n",
       "      <td>other</td>\n",
       "      <td>G77</td>\n",
       "      <td>748.609848</td>\n",
       "    </tr>\n",
       "    <tr>\n",
       "      <th>17</th>\n",
       "      <td>Spain</td>\n",
       "      <td>OECD</td>\n",
       "      <td>888.163203</td>\n",
       "    </tr>\n",
       "    <tr>\n",
       "      <th>26</th>\n",
       "      <td>other</td>\n",
       "      <td>OECD</td>\n",
       "      <td>926.308838</td>\n",
       "    </tr>\n",
       "    <tr>\n",
       "      <th>22</th>\n",
       "      <td>United Kingdom</td>\n",
       "      <td>OECD</td>\n",
       "      <td>936.389256</td>\n",
       "    </tr>\n",
       "    <tr>\n",
       "      <th>3</th>\n",
       "      <td>Canada</td>\n",
       "      <td>OECD</td>\n",
       "      <td>967.295580</td>\n",
       "    </tr>\n",
       "    <tr>\n",
       "      <th>6</th>\n",
       "      <td>France</td>\n",
       "      <td>OECD</td>\n",
       "      <td>1090.423791</td>\n",
       "    </tr>\n",
       "    <tr>\n",
       "      <th>7</th>\n",
       "      <td>Germany</td>\n",
       "      <td>OECD</td>\n",
       "      <td>1160.028913</td>\n",
       "    </tr>\n",
       "    <tr>\n",
       "      <th>11</th>\n",
       "      <td>Japan</td>\n",
       "      <td>OECD</td>\n",
       "      <td>2697.564292</td>\n",
       "    </tr>\n",
       "    <tr>\n",
       "      <th>4</th>\n",
       "      <td>China</td>\n",
       "      <td>BRICS</td>\n",
       "      <td>2994.991179</td>\n",
       "    </tr>\n",
       "    <tr>\n",
       "      <th>23</th>\n",
       "      <td>United States</td>\n",
       "      <td>OECD</td>\n",
       "      <td>5583.366251</td>\n",
       "    </tr>\n",
       "  </tbody>\n",
       "</table>\n",
       "</div>"
      ],
      "text/plain": [
       "              countries_label econ_groups_label       Papers\n",
       "24                      other             BRICS    74.004671\n",
       "1                     Belgium              OECD   152.111616\n",
       "5                     Denmark              OECD   153.074339\n",
       "9                      Israel              OECD   156.821825\n",
       "21                   Thailand               G77   162.073779\n",
       "19                Switzerland              OECD   166.849537\n",
       "16         Russian Federation             BRICS   182.662338\n",
       "13                Netherlands              OECD   192.476929\n",
       "15                   Portugal              OECD   222.044456\n",
       "27                      other             other   222.110913\n",
       "2                      Brazil             BRICS   231.383675\n",
       "18                     Sweden              OECD   248.448184\n",
       "8                       India             BRICS   314.533929\n",
       "20  Taiwan, Province of China             other   355.017196\n",
       "14                     Norway              OECD   442.024375\n",
       "10                      Italy              OECD   582.500576\n",
       "12         Korea, Republic of              OECD   689.185089\n",
       "0                   Australia              OECD   690.535425\n",
       "25                      other               G77   748.609848\n",
       "17                      Spain              OECD   888.163203\n",
       "26                      other              OECD   926.308838\n",
       "22             United Kingdom              OECD   936.389256\n",
       "3                      Canada              OECD   967.295580\n",
       "6                      France              OECD  1090.423791\n",
       "7                     Germany              OECD  1160.028913\n",
       "11                      Japan              OECD  2697.564292\n",
       "4                       China             BRICS  2994.991179\n",
       "23              United States              OECD  5583.366251"
      ]
     },
     "execution_count": 150,
     "metadata": {},
     "output_type": "execute_result"
    }
   ],
   "source": [
    "df_sci_pat_plot_perc_label"
   ]
  },
  {
   "cell_type": "code",
   "execution_count": null,
   "metadata": {},
   "outputs": [],
   "source": [
    "import plotly.express as px\n",
    "\n",
    "# Assuming you have the necessary data and DataFrame df_sci_pat_plot_perc_label is available\n",
    "\n",
    "# Calculate percentage values and add as labels for countries and groups\n",
    "df_sci_pat_plot_perc_label['country_percentage_label'] = [f'{x:.2f}%' for x in df_sci_pat_plot_perc_label['country_paper_percentage']]\n",
    "df_sci_pat_plot_perc_label['group_percentage_label'] = [f'{x:.2f}%' for x in df_sci_pat_plot_perc_label['group_paper_percentage']]\n",
    "\n",
    "tab20_colors = ['#2ca02c', '#ff7f0e', '#d62728', '#1f77b4']\n",
    "\n",
    "# Create the treemap figure\n",
    "fig = px.treemap(\n",
    "    df_sci_pat_plot_perc_label.replace({\n",
    "        'countries_label': {\n",
    "            'Korea, Republic of': 'South Korea',\n",
    "            'Russian Federation': 'Russia',\n",
    "            'Taiwan, Province of China': 'Taiwan'\n",
    "        }\n",
    "    }),\n",
    "    path=['econ_groups_label', 'countries_label'],\n",
    "    values='Papers',\n",
    "    color='econ_groups_label',\n",
    "    color_discrete_sequence=tab20_colors,\n",
    "    custom_data=['country_percentage_label', 'group_percentage_label']  # Include percentage data for custom hover text\n",
    ")\n",
    "\n",
    "# Update the layout and hovertemplate\n",
    "fig.update_layout(\n",
    "    margin=dict(t=10, l=10, r=10, b=10),\n",
    "    title=dict(\n",
    "        text=\"Marine genetic studies per country and economic group\",\n",
    "        font=dict(family=\"Arial\", size=26, color=\"black\"),\n",
    "        x=0.5,\n",
    "        y=0.95\n",
    "    ),\n",
    "    font=dict(family=\"Arial\", size=20, color=\"black\"),\n",
    "    hoverlabel=dict(\n",
    "        bgcolor=\"white\",\n",
    "        font_size=16,\n",
    "        font_family=\"Arial\",\n",
    "        namelength=-1  # Show full name on hover\n",
    "    )\n",
    ")\n",
    "\n",
    "# Define hovertemplate to include both country and group percentages\n",
    "fig.update_traces(hovertemplate='Papers: %{value}<br>Country Percentage: %{customdata[0]}<br>Group Percentage: %{customdata[1]}')\n",
    "\n",
    "# Add annotations for group percentages\n",
    "annotations = []\n",
    "groups = df_sci_pat_plot_perc_label['econ_groups_label'].unique()\n",
    "for group in groups:\n",
    "    df_group = df_sci_pat_plot_perc_label[df_sci_pat_plot_perc_label['econ_groups_label'] == group]\n",
    "    annotation = dict(\n",
    "        x=df_group['econ_groups_label'].iloc[0],\n",
    "        y=df_group['countries_label'].iloc[0],\n",
    "        text=df_group['group_percentage_label'].iloc[0],\n",
    "        font=dict(size=14, color='black'),\n",
    "        showarrow=False\n",
    "    )\n",
    "    annotations.append(annotation)\n",
    "\n",
    "fig.update_layout(annotations=annotations)\n",
    "\n",
    "fig.show()\n"
   ]
  },
  {
   "cell_type": "code",
   "execution_count": 23,
   "metadata": {},
   "outputs": [],
   "source": [
    "# run the correlations here"
   ]
  },
  {
   "cell_type": "code",
   "execution_count": 22,
   "metadata": {},
   "outputs": [],
   "source": [
    "df_sci_country70 =  pd.read_csv('PATH\\data\\df_countries_vis_nononesense_fract.csv')"
   ]
  },
  {
   "cell_type": "code",
   "execution_count": 23,
   "metadata": {},
   "outputs": [],
   "source": [
    "df_sci_country_all = pd.read_csv('PATH\\data\\df_countries_vis_fract.csv')"
   ]
  },
  {
   "cell_type": "code",
   "execution_count": 24,
   "metadata": {},
   "outputs": [],
   "source": [
    "df_corrs = pd.merge(df_sci_country70, df_patent_country.rename(columns = {'edited_company_country':'Country', 'Patents_fract':'Patents'}), how ='left', on = 'Country').reset_index(drop =True).rename(columns = {'Granted patents':'Patents'})\n",
    "df_corrs_noUS = pd.merge(df_sci_country70[df_sci_country70['Country'] != 'US'], df_patent_country.rename(columns = {'edited_company_country':'Country', 'Patents_fract':'Patents'}), how ='left', on = 'Country').reset_index(drop =True).rename(columns = {'Granted patents':'Patents'})"
   ]
  },
  {
   "cell_type": "code",
   "execution_count": 25,
   "metadata": {},
   "outputs": [],
   "source": [
    "import math\n",
    "df_corrs['Papers_log'] = [math.log(x) for x in df_corrs['Papers']]\n",
    "df_corrs['Patents_log'] = [math.log(x) for x in df_corrs['Patents']]"
   ]
  },
  {
   "cell_type": "code",
   "execution_count": 26,
   "metadata": {},
   "outputs": [
    {
     "data": {
      "text/html": [
       "<div>\n",
       "<style scoped>\n",
       "    .dataframe tbody tr th:only-of-type {\n",
       "        vertical-align: middle;\n",
       "    }\n",
       "\n",
       "    .dataframe tbody tr th {\n",
       "        vertical-align: top;\n",
       "    }\n",
       "\n",
       "    .dataframe thead th {\n",
       "        text-align: right;\n",
       "    }\n",
       "</style>\n",
       "<table border=\"1\" class=\"dataframe\">\n",
       "  <thead>\n",
       "    <tr style=\"text-align: right;\">\n",
       "      <th></th>\n",
       "      <th>Unnamed: 0</th>\n",
       "      <th>index</th>\n",
       "      <th>Country</th>\n",
       "      <th>Papers</th>\n",
       "      <th>Citations by sci_fract</th>\n",
       "      <th>Citations by pat_fract</th>\n",
       "      <th>Av citations by sci_fract</th>\n",
       "      <th>Av citations by pat_fract</th>\n",
       "      <th>Econ Group</th>\n",
       "      <th>country_paper_percentage</th>\n",
       "      <th>country_sci_cit_percentage</th>\n",
       "      <th>Patents</th>\n",
       "      <th>Patent citations_fract</th>\n",
       "      <th>Papers_log</th>\n",
       "      <th>Patents_log</th>\n",
       "    </tr>\n",
       "  </thead>\n",
       "  <tbody>\n",
       "    <tr>\n",
       "      <th>0</th>\n",
       "      <td>0</td>\n",
       "      <td>0</td>\n",
       "      <td>US</td>\n",
       "      <td>5583.366251</td>\n",
       "      <td>470722.453845</td>\n",
       "      <td>8619.637312</td>\n",
       "      <td>84.308002</td>\n",
       "      <td>1.543807</td>\n",
       "      <td>OECD</td>\n",
       "      <td>24.034119</td>\n",
       "      <td>34.655162</td>\n",
       "      <td>3655.750000</td>\n",
       "      <td>56018.500000</td>\n",
       "      <td>8.627547</td>\n",
       "      <td>8.204057</td>\n",
       "    </tr>\n",
       "    <tr>\n",
       "      <th>1</th>\n",
       "      <td>1</td>\n",
       "      <td>1</td>\n",
       "      <td>CN</td>\n",
       "      <td>2994.991179</td>\n",
       "      <td>84321.765172</td>\n",
       "      <td>498.246836</td>\n",
       "      <td>28.154262</td>\n",
       "      <td>0.166360</td>\n",
       "      <td>BRICS</td>\n",
       "      <td>12.892218</td>\n",
       "      <td>6.207871</td>\n",
       "      <td>49.500000</td>\n",
       "      <td>77.500000</td>\n",
       "      <td>8.004697</td>\n",
       "      <td>3.901973</td>\n",
       "    </tr>\n",
       "    <tr>\n",
       "      <th>2</th>\n",
       "      <td>2</td>\n",
       "      <td>2</td>\n",
       "      <td>JP</td>\n",
       "      <td>2697.564292</td>\n",
       "      <td>133214.787320</td>\n",
       "      <td>3046.216799</td>\n",
       "      <td>49.383360</td>\n",
       "      <td>1.129247</td>\n",
       "      <td>OECD</td>\n",
       "      <td>11.611916</td>\n",
       "      <td>9.807435</td>\n",
       "      <td>458.500000</td>\n",
       "      <td>3163.166667</td>\n",
       "      <td>7.900105</td>\n",
       "      <td>6.127960</td>\n",
       "    </tr>\n",
       "    <tr>\n",
       "      <th>3</th>\n",
       "      <td>3</td>\n",
       "      <td>3</td>\n",
       "      <td>DE</td>\n",
       "      <td>1160.028913</td>\n",
       "      <td>91812.530937</td>\n",
       "      <td>1313.096836</td>\n",
       "      <td>79.146761</td>\n",
       "      <td>1.131952</td>\n",
       "      <td>OECD</td>\n",
       "      <td>4.993452</td>\n",
       "      <td>6.759351</td>\n",
       "      <td>388.000000</td>\n",
       "      <td>4367.666667</td>\n",
       "      <td>7.056200</td>\n",
       "      <td>5.961005</td>\n",
       "    </tr>\n",
       "    <tr>\n",
       "      <th>4</th>\n",
       "      <td>4</td>\n",
       "      <td>4</td>\n",
       "      <td>FR</td>\n",
       "      <td>1090.423791</td>\n",
       "      <td>76576.312575</td>\n",
       "      <td>753.571836</td>\n",
       "      <td>70.226194</td>\n",
       "      <td>0.691082</td>\n",
       "      <td>OECD</td>\n",
       "      <td>4.693831</td>\n",
       "      <td>5.637642</td>\n",
       "      <td>66.333333</td>\n",
       "      <td>391.166667</td>\n",
       "      <td>6.994322</td>\n",
       "      <td>4.194693</td>\n",
       "    </tr>\n",
       "    <tr>\n",
       "      <th>...</th>\n",
       "      <td>...</td>\n",
       "      <td>...</td>\n",
       "      <td>...</td>\n",
       "      <td>...</td>\n",
       "      <td>...</td>\n",
       "      <td>...</td>\n",
       "      <td>...</td>\n",
       "      <td>...</td>\n",
       "      <td>...</td>\n",
       "      <td>...</td>\n",
       "      <td>...</td>\n",
       "      <td>...</td>\n",
       "      <td>...</td>\n",
       "      <td>...</td>\n",
       "      <td>...</td>\n",
       "    </tr>\n",
       "    <tr>\n",
       "      <th>65</th>\n",
       "      <td>65</td>\n",
       "      <td>66</td>\n",
       "      <td>AE</td>\n",
       "      <td>6.878968</td>\n",
       "      <td>557.753968</td>\n",
       "      <td>0.000000</td>\n",
       "      <td>81.081050</td>\n",
       "      <td>0.000000</td>\n",
       "      <td>G77</td>\n",
       "      <td>0.029611</td>\n",
       "      <td>0.041063</td>\n",
       "      <td>1.000000</td>\n",
       "      <td>0.000000</td>\n",
       "      <td>1.928469</td>\n",
       "      <td>0.000000</td>\n",
       "    </tr>\n",
       "    <tr>\n",
       "      <th>66</th>\n",
       "      <td>66</td>\n",
       "      <td>67</td>\n",
       "      <td>UA</td>\n",
       "      <td>6.333333</td>\n",
       "      <td>467.083333</td>\n",
       "      <td>1.500000</td>\n",
       "      <td>73.750000</td>\n",
       "      <td>0.236842</td>\n",
       "      <td>other</td>\n",
       "      <td>0.027262</td>\n",
       "      <td>0.034387</td>\n",
       "      <td>NaN</td>\n",
       "      <td>NaN</td>\n",
       "      <td>1.845827</td>\n",
       "      <td>NaN</td>\n",
       "    </tr>\n",
       "    <tr>\n",
       "      <th>67</th>\n",
       "      <td>67</td>\n",
       "      <td>68</td>\n",
       "      <td>VE</td>\n",
       "      <td>5.959524</td>\n",
       "      <td>188.202381</td>\n",
       "      <td>0.000000</td>\n",
       "      <td>31.580104</td>\n",
       "      <td>0.000000</td>\n",
       "      <td>G77</td>\n",
       "      <td>0.025653</td>\n",
       "      <td>0.013856</td>\n",
       "      <td>NaN</td>\n",
       "      <td>NaN</td>\n",
       "      <td>1.784991</td>\n",
       "      <td>NaN</td>\n",
       "    </tr>\n",
       "    <tr>\n",
       "      <th>68</th>\n",
       "      <td>68</td>\n",
       "      <td>69</td>\n",
       "      <td>MT</td>\n",
       "      <td>5.183333</td>\n",
       "      <td>90.266667</td>\n",
       "      <td>0.000000</td>\n",
       "      <td>17.414791</td>\n",
       "      <td>0.000000</td>\n",
       "      <td>other</td>\n",
       "      <td>0.022312</td>\n",
       "      <td>0.006646</td>\n",
       "      <td>NaN</td>\n",
       "      <td>NaN</td>\n",
       "      <td>1.645448</td>\n",
       "      <td>NaN</td>\n",
       "    </tr>\n",
       "    <tr>\n",
       "      <th>69</th>\n",
       "      <td>69</td>\n",
       "      <td>70</td>\n",
       "      <td>DZ</td>\n",
       "      <td>5.166667</td>\n",
       "      <td>159.333333</td>\n",
       "      <td>0.000000</td>\n",
       "      <td>30.838710</td>\n",
       "      <td>0.000000</td>\n",
       "      <td>G77</td>\n",
       "      <td>0.022240</td>\n",
       "      <td>0.011730</td>\n",
       "      <td>NaN</td>\n",
       "      <td>NaN</td>\n",
       "      <td>1.642228</td>\n",
       "      <td>NaN</td>\n",
       "    </tr>\n",
       "  </tbody>\n",
       "</table>\n",
       "<p>70 rows × 15 columns</p>\n",
       "</div>"
      ],
      "text/plain": [
       "    Unnamed: 0  index Country       Papers  Citations by sci_fract  \\\n",
       "0            0      0      US  5583.366251           470722.453845   \n",
       "1            1      1      CN  2994.991179            84321.765172   \n",
       "2            2      2      JP  2697.564292           133214.787320   \n",
       "3            3      3      DE  1160.028913            91812.530937   \n",
       "4            4      4      FR  1090.423791            76576.312575   \n",
       "..         ...    ...     ...          ...                     ...   \n",
       "65          65     66      AE     6.878968              557.753968   \n",
       "66          66     67      UA     6.333333              467.083333   \n",
       "67          67     68      VE     5.959524              188.202381   \n",
       "68          68     69      MT     5.183333               90.266667   \n",
       "69          69     70      DZ     5.166667              159.333333   \n",
       "\n",
       "    Citations by pat_fract  Av citations by sci_fract  \\\n",
       "0              8619.637312                  84.308002   \n",
       "1               498.246836                  28.154262   \n",
       "2              3046.216799                  49.383360   \n",
       "3              1313.096836                  79.146761   \n",
       "4               753.571836                  70.226194   \n",
       "..                     ...                        ...   \n",
       "65                0.000000                  81.081050   \n",
       "66                1.500000                  73.750000   \n",
       "67                0.000000                  31.580104   \n",
       "68                0.000000                  17.414791   \n",
       "69                0.000000                  30.838710   \n",
       "\n",
       "    Av citations by pat_fract Econ Group  country_paper_percentage  \\\n",
       "0                    1.543807       OECD                 24.034119   \n",
       "1                    0.166360      BRICS                 12.892218   \n",
       "2                    1.129247       OECD                 11.611916   \n",
       "3                    1.131952       OECD                  4.993452   \n",
       "4                    0.691082       OECD                  4.693831   \n",
       "..                        ...        ...                       ...   \n",
       "65                   0.000000        G77                  0.029611   \n",
       "66                   0.236842      other                  0.027262   \n",
       "67                   0.000000        G77                  0.025653   \n",
       "68                   0.000000      other                  0.022312   \n",
       "69                   0.000000        G77                  0.022240   \n",
       "\n",
       "    country_sci_cit_percentage      Patents  Patent citations_fract  \\\n",
       "0                    34.655162  3655.750000            56018.500000   \n",
       "1                     6.207871    49.500000               77.500000   \n",
       "2                     9.807435   458.500000             3163.166667   \n",
       "3                     6.759351   388.000000             4367.666667   \n",
       "4                     5.637642    66.333333              391.166667   \n",
       "..                         ...          ...                     ...   \n",
       "65                    0.041063     1.000000                0.000000   \n",
       "66                    0.034387          NaN                     NaN   \n",
       "67                    0.013856          NaN                     NaN   \n",
       "68                    0.006646          NaN                     NaN   \n",
       "69                    0.011730          NaN                     NaN   \n",
       "\n",
       "    Papers_log  Patents_log  \n",
       "0     8.627547     8.204057  \n",
       "1     8.004697     3.901973  \n",
       "2     7.900105     6.127960  \n",
       "3     7.056200     5.961005  \n",
       "4     6.994322     4.194693  \n",
       "..         ...          ...  \n",
       "65    1.928469     0.000000  \n",
       "66    1.845827          NaN  \n",
       "67    1.784991          NaN  \n",
       "68    1.645448          NaN  \n",
       "69    1.642228          NaN  \n",
       "\n",
       "[70 rows x 15 columns]"
      ]
     },
     "execution_count": 26,
     "metadata": {},
     "output_type": "execute_result"
    }
   ],
   "source": [
    "df_corrs"
   ]
  },
  {
   "cell_type": "code",
   "execution_count": 211,
   "metadata": {},
   "outputs": [
    {
     "name": "stdout",
     "output_type": "stream",
     "text": [
      "╒═════════════════════╤══════════╤═══════════════════════╤═══════════════════════╤═══════════╕\n",
      "│                     │ Papers   │ Av citations by sci   │ Av citations by pat   │ Patents   │\n",
      "╞═════════════════════╪══════════╪═══════════════════════╪═══════════════════════╪═══════════╡\n",
      "│ Papers              │ 1.0***   │ 0.27*                 │ 0.13                  │ 0.84***   │\n",
      "├─────────────────────┼──────────┼───────────────────────┼───────────────────────┼───────────┤\n",
      "│ Av citations by sci │ 0.27*    │ 1.0***                │ 0.36**                │ 0.37*     │\n",
      "├─────────────────────┼──────────┼───────────────────────┼───────────────────────┼───────────┤\n",
      "│ Av citations by pat │ 0.13     │ 0.36**                │ 1.0***                │ 0.17      │\n",
      "├─────────────────────┼──────────┼───────────────────────┼───────────────────────┼───────────┤\n",
      "│ Patents             │ 0.84***  │ 0.37*                 │ 0.17                  │ 1.0***    │\n",
      "╘═════════════════════╧══════════╧═══════════════════════╧═══════════════════════╧═══════════╛\n"
     ]
    }
   ],
   "source": [
    "from scipy.stats import pearsonr\n",
    "import numpy as np\n",
    "rho = df_corrs[['Papers', 'Av citations by sci_fract', 'Av citations by pat_fract', 'Patents']].rename(columns={'Av citations by sci_fract':'Av citations by sci', 'Av citations by pat_fract':'Av citations by pat'}).corr()\n",
    "pval = df_corrs[['Papers', 'Av citations by sci_fract', 'Av citations by pat_fract', 'Patents']].rename(columns={'Av citations by sci_fract':'Av citations by sci', 'Av citations by pat_fract':'Av citations by pat'}).corr(method=lambda x, y: pearsonr(x, y)[1]) - np.eye(*rho.shape)\n",
    "p = pval.applymap(lambda x: ''.join(['*' for t in [.05, .01, .001] if x<=t]))\n",
    "\n",
    "\n",
    "\n",
    "print(tabulate(rho.round(2).astype(str) + p, headers='keys', tablefmt='fancy_grid', numalign=\"left\", stralign = \"left\"))\n"
   ]
  },
  {
   "cell_type": "code",
   "execution_count": null,
   "metadata": {},
   "outputs": [],
   "source": []
  },
  {
   "cell_type": "code",
   "execution_count": 30,
   "metadata": {},
   "outputs": [
    {
     "name": "stdout",
     "output_type": "stream",
     "text": [
      "╒═══════════════════════════╤══════════╤═════════════════════════════╤═════════════════════════════╤═══════════╕\n",
      "│                           │ Papers   │ Av citations by sci_fract   │ Av citations by pat_fract   │ Patents   │\n",
      "╞═══════════════════════════╪══════════╪═════════════════════════════╪═════════════════════════════╪═══════════╡\n",
      "│ Papers                    │ 1.0***   │ 0.12                        │ 0.06                        │ 0.6***    │\n",
      "├───────────────────────────┼──────────┼─────────────────────────────┼─────────────────────────────┼───────────┤\n",
      "│ Av citations by sci_fract │ 0.12     │ 1.0***                      │ 0.34**                      │ 0.44**    │\n",
      "├───────────────────────────┼──────────┼─────────────────────────────┼─────────────────────────────┼───────────┤\n",
      "│ Av citations by pat_fract │ 0.06     │ 0.34**                      │ 1.0***                      │ 0.22      │\n",
      "├───────────────────────────┼──────────┼─────────────────────────────┼─────────────────────────────┼───────────┤\n",
      "│ Patents                   │ 0.6***   │ 0.44**                      │ 0.22                        │ 1.0***    │\n",
      "╘═══════════════════════════╧══════════╧═════════════════════════════╧═════════════════════════════╧═══════════╛\n"
     ]
    }
   ],
   "source": [
    "from scipy.stats import pearsonr\n",
    "import numpy as np\n",
    "rho = df_corrs_noUS[['Papers', 'Av citations by sci_fract', 'Av citations by pat_fract', 'Patents']].corr()\n",
    "pval = df_corrs_noUS[['Papers', 'Av citations by sci_fract', 'Av citations by pat_fract', 'Patents']].corr(method=lambda x, y: pearsonr(x, y)[1]) - np.eye(*rho.shape)\n",
    "p = pval.applymap(lambda x: ''.join(['*' for t in [.05, .01, .001] if x<=t]))\n",
    "\n",
    "\n",
    "\n",
    "print(tabulate(rho.round(2).astype(str) + p, headers='keys', tablefmt='fancy_grid', numalign=\"left\", stralign = \"left\"))\n"
   ]
  },
  {
   "cell_type": "code",
   "execution_count": 31,
   "metadata": {},
   "outputs": [
    {
     "name": "stdout",
     "output_type": "stream",
     "text": [
      "╒═══════════════════════════╤══════════════╤═════════════════════════════╤═════════════════════════════╤═══════════════╕\n",
      "│                           │ Papers_log   │ Av citations by sci_fract   │ Av citations by pat_fract   │ Patents_log   │\n",
      "╞═══════════════════════════╪══════════════╪═════════════════════════════╪═════════════════════════════╪═══════════════╡\n",
      "│ Papers_log                │ 1.0***       │ 0.34**                      │ 0.21                        │ 0.77***       │\n",
      "├───────────────────────────┼──────────────┼─────────────────────────────┼─────────────────────────────┼───────────────┤\n",
      "│ Av citations by sci_fract │ 0.34**       │ 1.0***                      │ 0.36**                      │ 0.59***       │\n",
      "├───────────────────────────┼──────────────┼─────────────────────────────┼─────────────────────────────┼───────────────┤\n",
      "│ Av citations by pat_fract │ 0.21         │ 0.36**                      │ 1.0***                      │ 0.28          │\n",
      "├───────────────────────────┼──────────────┼─────────────────────────────┼─────────────────────────────┼───────────────┤\n",
      "│ Patents_log               │ 0.77***      │ 0.59***                     │ 0.28                        │ 1.0***        │\n",
      "╘═══════════════════════════╧══════════════╧═════════════════════════════╧═════════════════════════════╧═══════════════╛\n"
     ]
    }
   ],
   "source": [
    "from scipy.stats import pearsonr\n",
    "import numpy as np\n",
    "rho = df_corrs[['Papers_log', 'Av citations by sci_fract', 'Av citations by pat_fract', 'Patents_log']].corr()\n",
    "pval = df_corrs[['Papers_log', 'Av citations by sci_fract', 'Av citations by pat_fract', 'Patents_log']].corr(method=lambda x, y: pearsonr(x, y)[1]) - np.eye(*rho.shape)\n",
    "p = pval.applymap(lambda x: ''.join(['*' for t in [.05, .01, .001] if x<=t]))\n",
    "\n",
    "\n",
    "\n",
    "print(tabulate(rho.round(2).astype(str) + p, headers='keys', tablefmt='fancy_grid', numalign=\"left\", stralign = \"left\"))\n"
   ]
  },
  {
   "cell_type": "code",
   "execution_count": 32,
   "metadata": {},
   "outputs": [],
   "source": [
    "df_corrs_all = pd.merge(df_sci_country_all, df_patent_country.rename(columns = {'edited_company_country':'Country', 'Patents_fract':'Patents'}), how ='left', on = 'Country').reset_index(drop =True).rename(columns = {'Granted patents':'Patents'})\n",
    "#df_corrs_noUS = pd.merge(df_sci_country49[df_sci_country49['Country'] != 'US'], df_patent_countries, how ='left', on = 'Country').reset_index(drop =True).rename(columns = {'Granted patents':'Patents'})"
   ]
  },
  {
   "cell_type": "code",
   "execution_count": 33,
   "metadata": {},
   "outputs": [
    {
     "name": "stdout",
     "output_type": "stream",
     "text": [
      "╒═══════════════════════════╤══════════╤═════════════════════════════╤═════════════════════════════╤═══════════╕\n",
      "│                           │ Papers   │ Av citations by sci_fract   │ Av citations by pat_fract   │ Patents   │\n",
      "╞═══════════════════════════╪══════════╪═════════════════════════════╪═════════════════════════════╪═══════════╡\n",
      "│ Papers                    │ 1.0***   │ 0.16                        │ 0.16                        │ 0.84***   │\n",
      "├───────────────────────────┼──────────┼─────────────────────────────┼─────────────────────────────┼───────────┤\n",
      "│ Av citations by sci_fract │ 0.16     │ 1.0***                      │ 0.18*                       │ 0.16*     │\n",
      "├───────────────────────────┼──────────┼─────────────────────────────┼─────────────────────────────┼───────────┤\n",
      "│ Av citations by pat_fract │ 0.16     │ 0.18*                       │ 1.0***                      │ 0.15      │\n",
      "├───────────────────────────┼──────────┼─────────────────────────────┼─────────────────────────────┼───────────┤\n",
      "│ Patents                   │ 0.84***  │ 0.16*                       │ 0.15                        │ 1.0***    │\n",
      "╘═══════════════════════════╧══════════╧═════════════════════════════╧═════════════════════════════╧═══════════╛\n"
     ]
    }
   ],
   "source": [
    "# if taking all countries, it is still signficantly correlated\n",
    "from scipy.stats import pearsonr\n",
    "import numpy as np\n",
    "rho = df_corrs_all[['Papers', 'Av citations by sci_fract', 'Av citations by pat_fract', 'Patents']].fillna(0).corr()\n",
    "pval = df_corrs_all[['Papers', 'Av citations by sci_fract', 'Av citations by pat_fract', 'Patents']].fillna(0).corr(method=lambda x, y: pearsonr(x, y)[1]) - np.eye(*rho.shape)\n",
    "p = pval.applymap(lambda x: ''.join(['*' for t in [.05, .01, .001] if x<=t]))\n",
    "\n",
    "\n",
    "\n",
    "print(tabulate(rho.round(2).astype(str) + p, headers='keys', tablefmt='fancy_grid', numalign=\"left\", stralign = \"left\"))\n"
   ]
  },
  {
   "cell_type": "markdown",
   "metadata": {},
   "source": [
    "## 3. Construct the balance vis (total)"
   ]
  },
  {
   "cell_type": "code",
   "execution_count": 180,
   "metadata": {},
   "outputs": [],
   "source": [
    "df_science_vs_patent_totals = pd.merge(left = df_sci_pat_table.drop(columns = {'Linked patents'}).rename(columns = {'Papers':'paper count'}) , right= df_patent_country.rename(columns = {'edited_company_country':'Country', 'Patents_fract':'patent count'}), how = 'outer', on ='Country').rename(columns = {'Country':'affiliation_country'})"
   ]
  },
  {
   "cell_type": "code",
   "execution_count": 181,
   "metadata": {},
   "outputs": [],
   "source": [
    "# add econ group\n",
    "# load g77 and OECD data, assign overlapping to g77\n",
    "g77 = pd.read_csv('PATH\\data\\g77.csv')\n",
    "oecd = pd.read_csv('PATH\\data\\oecd.csv')\n",
    "\n",
    "delete_from_oecd = []\n",
    "\n",
    "for i in list(g77['Code']): \n",
    "    if i in list(oecd['Code']):\n",
    "        delete_from_oecd.append(i)\n",
    "\n",
    "for i in list(g77['Code']): \n",
    "    if i in list(oecd['Code']):\n",
    "        delete_from_oecd.append(i)        \n",
    "\n",
    "oecd_clean = [x for x in list(oecd['Code']) if x not in delete_from_oecd]\n",
    "\n",
    "econ_group = []\n",
    "for i in list(df_science_vs_patent_totals['affiliation_country']):\n",
    "    if i in [pc.country_alpha3_to_country_alpha2(x) for x in oecd_clean]: \n",
    "        econ_group.append('OECD')\n",
    "    elif i in ['RU','BR','IN','CN','ZA']:\n",
    "        econ_group.append('BRICS')\n",
    "    elif i in [pc.country_alpha3_to_country_alpha2(x) for x in g77['Code'] if x not in ['RU','BR','IN','CN','ZA']]:\n",
    "        econ_group.append('G77')\n",
    "    elif pd.isna(i): \n",
    "        econ_group.append(np.nan)\n",
    "    else: \n",
    "        econ_group.append('other')\n",
    "        \n",
    "df_science_vs_patent_totals['econ_group'] = econ_group"
   ]
  },
  {
   "cell_type": "code",
   "execution_count": 182,
   "metadata": {},
   "outputs": [],
   "source": [
    "df_science_vs_patent_totals.to_csv('PATH\\data\\science_patent_totals[OBIS_and_patents].csv',index=False)"
   ]
  },
  {
   "cell_type": "code",
   "execution_count": 183,
   "metadata": {},
   "outputs": [],
   "source": [
    "df_science_vs_patent_totals_noUS = df_science_vs_patent_totals[df_science_vs_patent_totals['affiliation_country'] != 'US'].reset_index()"
   ]
  },
  {
   "cell_type": "code",
   "execution_count": 185,
   "metadata": {},
   "outputs": [],
   "source": [
    "# log scale for citation totals\n",
    "df_science_vs_patent_totals_log = df_science_vs_patent_totals.copy().fillna(0)\n",
    "df_science_vs_patent_totals_log['paper count_log'] = [math.log(x+1) for x in list(df_science_vs_patent_totals_log['paper count'])]\n",
    "df_science_vs_patent_totals_log['patent count_log'] = [math.log(x+1) for x in list(df_science_vs_patent_totals_log['patent count'])]\n",
    "\n",
    "  "
   ]
  },
  {
   "cell_type": "code",
   "execution_count": 186,
   "metadata": {},
   "outputs": [
    {
     "data": {
      "text/plain": [
       "150"
      ]
     },
     "execution_count": 186,
     "metadata": {},
     "output_type": "execute_result"
    }
   ],
   "source": [
    "len(df_science_vs_patent_totals_log[df_science_vs_patent_totals_log['patent count'] >=0])"
   ]
  },
  {
   "cell_type": "code",
   "execution_count": null,
   "metadata": {},
   "outputs": [],
   "source": [
    "sci_av_top = df_countries_vis['Av citations by sci_fract'].quantile(0.99)\n",
    "pat_av_top = df_countries_vis['Av citations by pat_fract'].quantile(0.99)\n",
    "\n",
    "df_countries_vis_nononesense = df_countries_vis[(df_countries_vis['Av citations by sci_fract']<sci_av_top)&(df_countries_vis['Av citations by pat_fract']<pat_av_top)&(df_countries_vis['Papers']>=5)].reset_index()"
   ]
  },
  {
   "cell_type": "code",
   "execution_count": 210,
   "metadata": {},
   "outputs": [
    {
     "data": {
      "text/plain": [
       "<Figure size 9360x12960 with 0 Axes>"
      ]
     },
     "metadata": {},
     "output_type": "display_data"
    },
    {
     "data": {
      "image/png": "[encoded data removed]",
      "text/plain": [
       "<Figure size 936x720 with 1 Axes>"
      ]
     },
     "metadata": {},
     "output_type": "display_data"
    }
   ],
   "source": [
    "# Visualizing\n",
    "# could add country/econ group colors\n",
    "\n",
    "plt.figure(figsize=(130,180))\n",
    "sns.set_style('white')\n",
    "sns.set_style('ticks')\n",
    "\n",
    "sci_av_top = df_science_vs_patent_totals_log['Av citations by sci'].quantile(0.99)\n",
    "pat_av_top = df_science_vs_patent_totals_log['Av citations by pat'].quantile(0.99)\n",
    "\n",
    "df_science_vs_patent_totals_log_70 = df_science_vs_patent_totals_log[(df_science_vs_patent_totals_log['Av citations by pat']<pat_av_top)& (df_science_vs_patent_totals_log['paper count'] >= 5)]\n",
    "# Using regplot to create the scatter plot with 95% confidence interval and a regression line\n",
    "size = 10\n",
    "#g = sns.lmplot(x='paper count_log', y='patent count_log', data=df_science_vs_patent_totals_log_70, height=size, aspect=size*1.3/size, markers='o', fit_reg = False, scatter_kws={\"s\": size*4}).set(xlim=(-size/5,df_science_vs_patent_totals_log_70['paper count_log'].describe()['max']+df_science_vs_patent_totals_log_70['paper count_log'].describe()['max']/10),ylim=(-size/5,df_science_vs_patent_totals_log_70['patent count_log'].describe()['max']+df_science_vs_patent_totals_log_70['patent count_log'].describe()['max']/10)) # .set_axis_labels(\"Provision of MGRs (CoO)\",\"Scientific use of MGRs (CoR)\")\n",
    "#sns.regplot(x='paper count_log', y='patent count_log', data=df_science_vs_patent_totals_log_70, scatter=False, ci=None, ax=g.axes[0, 0], line_kws={\"color\":\"black\",\"alpha\":1,\"lw\":1,'linestyle':'--'})\n",
    "\n",
    "\n",
    "g = sns.lmplot(x='paper count_log', y='patent count_log', data=df_science_vs_patent_totals_log_70[df_science_vs_patent_totals_log_70['econ_group'] == 'BRICS'], height=size, aspect=size*1.3/size, markers='o', fit_reg = False, scatter_kws={\"s\": size*8, \"color\":\"tab:red\"}).set(xlim=(df_science_vs_patent_totals_log_70['paper count_log'].describe()['min']-0.3,df_science_vs_patent_totals_log_70['paper count_log'].describe()['max']+0.3),ylim=(df_science_vs_patent_totals_log_70['patent count_log'].describe()['min']-0.3,df_science_vs_patent_totals_log_70['patent count_log'].describe()['max']+0.3)) # .set_axis_labels(\"Provision of MGRs (CoO)\",\"Scientific use of MGRs (CoR)\")\n",
    "\n",
    "sns.regplot(x='paper count_log', y='patent count_log', data=df_science_vs_patent_totals_log_70[df_science_vs_patent_totals_log_70['econ_group'] == 'OECD'], fit_reg = False, scatter_kws={\"s\":size*8, \"color\":\"tab:blue\"})#ic use of MGRs (CoR)\")\n",
    "sns.regplot(x='paper count_log', y='patent count_log', data=df_science_vs_patent_totals_log_70[df_science_vs_patent_totals_log_70['econ_group'] == 'G77'], fit_reg = False, scatter_kws={\"s\":size*8, \"color\":\"tab:green\"})#ic use of MGRs (CoR)\")\n",
    "sns.regplot(x='paper count_log', y='patent count_log', data=df_science_vs_patent_totals_log_70[df_science_vs_patent_totals_log_70['econ_group'] == 'other'], fit_reg = False, scatter_kws={\"s\": size*8, \"color\":\"tab:orange\"})#ic use of MGRs (CoR)\")\n",
    "\n",
    "\n",
    "\n",
    "for i, countries in enumerate (list(df_science_vs_patent_totals_log_70['affiliation_country'])):\n",
    "    if countries in list(df_science_vs_patent_totals_log_70['affiliation_country'][(df_science_vs_patent_totals_log_70['patent count'] > 0) | (df_science_vs_patent_totals_log_70['paper count'] >= 70)]): # this is to label only those that \n",
    "        plt.annotate(countries, (df_science_vs_patent_totals_log_70['paper count_log'][i]+0.02, df_science_vs_patent_totals_log_70['patent count_log'][i]+0.02),fontsize=size*1.5)\n",
    "\n",
    "lgnd = plt.legend(scatterpoints=1, loc='upper left', labels=['BRICS', 'OECD','G77', 'other'], fontsize = 15, markerscale = 0.2)\n",
    "lgnd.legendHandles[0]._sizes = [100]\n",
    "lgnd.legendHandles[1]._sizes = [100]\n",
    "lgnd.legendHandles[2]._sizes = [100]\n",
    "lgnd.legendHandles[3]._sizes = [100]        \n",
    "sns.regplot(x='paper count_log', y='patent count_log', data=df_science_vs_patent_totals_log_70, scatter=False, ci=95, ax=g.axes[0, 0], line_kws={\"color\":\"black\",\"alpha\":1,\"lw\":1,'linestyle':'--'})\n",
    "\n",
    "        \n",
    "#plt.title('National research to patenting balances', size= 20, y = 1.05)\n",
    "plt.xlabel('Marine genetic studies [log]', fontsize =size*1.8)\n",
    "plt.ylabel('Patents referencing marine genetic studies [log]', fontsize =size*1.8)\n",
    "#plt.xscale('log')\n",
    "#plt.yscale('log')\n",
    "\n",
    "plt.tight_layout()\n",
    "plt.savefig('PATH\\plots\\Science_patent_totals_logs70.svg', format=\"svg\")\n",
    "plt.savefig('PATH\\plots\\Science_patent_totals_logs70.jpg', format=\"jpg\")"
   ]
  },
  {
   "cell_type": "code",
   "execution_count": 253,
   "metadata": {},
   "outputs": [
    {
     "data": {
      "text/plain": [
       "-0.3"
      ]
     },
     "execution_count": 253,
     "metadata": {},
     "output_type": "execute_result"
    }
   ],
   "source": [
    "df_science_vs_patent_totals_log['patent count_log'].describe()['min']-0.3"
   ]
  },
  {
   "cell_type": "code",
   "execution_count": 254,
   "metadata": {},
   "outputs": [
    {
     "data": {
      "text/html": [
       "<div>\n",
       "<style scoped>\n",
       "    .dataframe tbody tr th:only-of-type {\n",
       "        vertical-align: middle;\n",
       "    }\n",
       "\n",
       "    .dataframe tbody tr th {\n",
       "        vertical-align: top;\n",
       "    }\n",
       "\n",
       "    .dataframe thead th {\n",
       "        text-align: right;\n",
       "    }\n",
       "</style>\n",
       "<table border=\"1\" class=\"dataframe\">\n",
       "  <thead>\n",
       "    <tr style=\"text-align: right;\">\n",
       "      <th></th>\n",
       "      <th>affiliation_country</th>\n",
       "      <th>paper count</th>\n",
       "      <th>Citations by sci</th>\n",
       "      <th>Citations by pat</th>\n",
       "      <th>Av citations by sci</th>\n",
       "      <th>Av citations by pat</th>\n",
       "      <th>Med citations by sci</th>\n",
       "      <th>Med citations by pat</th>\n",
       "      <th>patent count</th>\n",
       "      <th>Patent citations_fract</th>\n",
       "      <th>econ_group</th>\n",
       "      <th>paper count_log</th>\n",
       "      <th>patent count_log</th>\n",
       "    </tr>\n",
       "  </thead>\n",
       "  <tbody>\n",
       "    <tr>\n",
       "      <th>0</th>\n",
       "      <td>US</td>\n",
       "      <td>5583.366251</td>\n",
       "      <td>470722.453845</td>\n",
       "      <td>8619.637312</td>\n",
       "      <td>84.308002</td>\n",
       "      <td>1.543807</td>\n",
       "      <td>30.500000</td>\n",
       "      <td>2.0</td>\n",
       "      <td>3655.750000</td>\n",
       "      <td>56018.500000</td>\n",
       "      <td>OECD</td>\n",
       "      <td>8.627726</td>\n",
       "      <td>8.204330</td>\n",
       "    </tr>\n",
       "    <tr>\n",
       "      <th>1</th>\n",
       "      <td>CN</td>\n",
       "      <td>2994.991179</td>\n",
       "      <td>84321.765172</td>\n",
       "      <td>498.246836</td>\n",
       "      <td>28.154262</td>\n",
       "      <td>0.166360</td>\n",
       "      <td>15.500000</td>\n",
       "      <td>1.0</td>\n",
       "      <td>49.500000</td>\n",
       "      <td>77.500000</td>\n",
       "      <td>BRICS</td>\n",
       "      <td>8.005030</td>\n",
       "      <td>3.921973</td>\n",
       "    </tr>\n",
       "    <tr>\n",
       "      <th>2</th>\n",
       "      <td>JP</td>\n",
       "      <td>2697.564292</td>\n",
       "      <td>133214.787320</td>\n",
       "      <td>3046.216799</td>\n",
       "      <td>49.383360</td>\n",
       "      <td>1.129247</td>\n",
       "      <td>24.000000</td>\n",
       "      <td>2.0</td>\n",
       "      <td>458.500000</td>\n",
       "      <td>3163.166667</td>\n",
       "      <td>OECD</td>\n",
       "      <td>7.900475</td>\n",
       "      <td>6.130139</td>\n",
       "    </tr>\n",
       "    <tr>\n",
       "      <th>3</th>\n",
       "      <td>DE</td>\n",
       "      <td>1160.028913</td>\n",
       "      <td>91812.530937</td>\n",
       "      <td>1313.096836</td>\n",
       "      <td>79.146761</td>\n",
       "      <td>1.131952</td>\n",
       "      <td>27.500000</td>\n",
       "      <td>1.5</td>\n",
       "      <td>388.000000</td>\n",
       "      <td>4367.666667</td>\n",
       "      <td>OECD</td>\n",
       "      <td>7.057062</td>\n",
       "      <td>5.963579</td>\n",
       "    </tr>\n",
       "    <tr>\n",
       "      <th>4</th>\n",
       "      <td>FR</td>\n",
       "      <td>1090.423791</td>\n",
       "      <td>76576.312575</td>\n",
       "      <td>753.571836</td>\n",
       "      <td>70.226194</td>\n",
       "      <td>0.691082</td>\n",
       "      <td>25.000000</td>\n",
       "      <td>1.5</td>\n",
       "      <td>66.333333</td>\n",
       "      <td>391.166667</td>\n",
       "      <td>OECD</td>\n",
       "      <td>6.995238</td>\n",
       "      <td>4.209655</td>\n",
       "    </tr>\n",
       "    <tr>\n",
       "      <th>...</th>\n",
       "      <td>...</td>\n",
       "      <td>...</td>\n",
       "      <td>...</td>\n",
       "      <td>...</td>\n",
       "      <td>...</td>\n",
       "      <td>...</td>\n",
       "      <td>...</td>\n",
       "      <td>...</td>\n",
       "      <td>...</td>\n",
       "      <td>...</td>\n",
       "      <td>...</td>\n",
       "      <td>...</td>\n",
       "      <td>...</td>\n",
       "    </tr>\n",
       "    <tr>\n",
       "      <th>145</th>\n",
       "      <td>UZ</td>\n",
       "      <td>0.166667</td>\n",
       "      <td>3.666667</td>\n",
       "      <td>0.000000</td>\n",
       "      <td>22.000000</td>\n",
       "      <td>0.000000</td>\n",
       "      <td>3.666667</td>\n",
       "      <td>0.0</td>\n",
       "      <td>0.000000</td>\n",
       "      <td>0.000000</td>\n",
       "      <td>other</td>\n",
       "      <td>0.154151</td>\n",
       "      <td>0.000000</td>\n",
       "    </tr>\n",
       "    <tr>\n",
       "      <th>146</th>\n",
       "      <td>MR</td>\n",
       "      <td>0.166667</td>\n",
       "      <td>0.000000</td>\n",
       "      <td>0.000000</td>\n",
       "      <td>0.000000</td>\n",
       "      <td>0.000000</td>\n",
       "      <td>0.000000</td>\n",
       "      <td>0.0</td>\n",
       "      <td>0.000000</td>\n",
       "      <td>0.000000</td>\n",
       "      <td>G77</td>\n",
       "      <td>0.154151</td>\n",
       "      <td>0.000000</td>\n",
       "    </tr>\n",
       "    <tr>\n",
       "      <th>147</th>\n",
       "      <td>GA</td>\n",
       "      <td>0.142857</td>\n",
       "      <td>13.142857</td>\n",
       "      <td>0.000000</td>\n",
       "      <td>92.000000</td>\n",
       "      <td>0.000000</td>\n",
       "      <td>13.142857</td>\n",
       "      <td>0.0</td>\n",
       "      <td>0.000000</td>\n",
       "      <td>0.000000</td>\n",
       "      <td>G77</td>\n",
       "      <td>0.133531</td>\n",
       "      <td>0.000000</td>\n",
       "    </tr>\n",
       "    <tr>\n",
       "      <th>148</th>\n",
       "      <td>IQ</td>\n",
       "      <td>0.142857</td>\n",
       "      <td>0.000000</td>\n",
       "      <td>0.000000</td>\n",
       "      <td>0.000000</td>\n",
       "      <td>0.000000</td>\n",
       "      <td>0.000000</td>\n",
       "      <td>0.0</td>\n",
       "      <td>0.000000</td>\n",
       "      <td>0.000000</td>\n",
       "      <td>G77</td>\n",
       "      <td>0.133531</td>\n",
       "      <td>0.000000</td>\n",
       "    </tr>\n",
       "    <tr>\n",
       "      <th>149</th>\n",
       "      <td>VG</td>\n",
       "      <td>0.000000</td>\n",
       "      <td>0.000000</td>\n",
       "      <td>0.000000</td>\n",
       "      <td>0.000000</td>\n",
       "      <td>0.000000</td>\n",
       "      <td>0.000000</td>\n",
       "      <td>0.0</td>\n",
       "      <td>1.500000</td>\n",
       "      <td>4.500000</td>\n",
       "      <td>other</td>\n",
       "      <td>0.000000</td>\n",
       "      <td>0.916291</td>\n",
       "    </tr>\n",
       "  </tbody>\n",
       "</table>\n",
       "<p>150 rows × 13 columns</p>\n",
       "</div>"
      ],
      "text/plain": [
       "    affiliation_country  paper count  Citations by sci  Citations by pat  \\\n",
       "0                    US  5583.366251     470722.453845       8619.637312   \n",
       "1                    CN  2994.991179      84321.765172        498.246836   \n",
       "2                    JP  2697.564292     133214.787320       3046.216799   \n",
       "3                    DE  1160.028913      91812.530937       1313.096836   \n",
       "4                    FR  1090.423791      76576.312575        753.571836   \n",
       "..                  ...          ...               ...               ...   \n",
       "145                  UZ     0.166667          3.666667          0.000000   \n",
       "146                  MR     0.166667          0.000000          0.000000   \n",
       "147                  GA     0.142857         13.142857          0.000000   \n",
       "148                  IQ     0.142857          0.000000          0.000000   \n",
       "149                  VG     0.000000          0.000000          0.000000   \n",
       "\n",
       "     Av citations by sci  Av citations by pat  Med citations by sci  \\\n",
       "0              84.308002             1.543807             30.500000   \n",
       "1              28.154262             0.166360             15.500000   \n",
       "2              49.383360             1.129247             24.000000   \n",
       "3              79.146761             1.131952             27.500000   \n",
       "4              70.226194             0.691082             25.000000   \n",
       "..                   ...                  ...                   ...   \n",
       "145            22.000000             0.000000              3.666667   \n",
       "146             0.000000             0.000000              0.000000   \n",
       "147            92.000000             0.000000             13.142857   \n",
       "148             0.000000             0.000000              0.000000   \n",
       "149             0.000000             0.000000              0.000000   \n",
       "\n",
       "     Med citations by pat  patent count  Patent citations_fract econ_group  \\\n",
       "0                     2.0   3655.750000            56018.500000       OECD   \n",
       "1                     1.0     49.500000               77.500000      BRICS   \n",
       "2                     2.0    458.500000             3163.166667       OECD   \n",
       "3                     1.5    388.000000             4367.666667       OECD   \n",
       "4                     1.5     66.333333              391.166667       OECD   \n",
       "..                    ...           ...                     ...        ...   \n",
       "145                   0.0      0.000000                0.000000      other   \n",
       "146                   0.0      0.000000                0.000000        G77   \n",
       "147                   0.0      0.000000                0.000000        G77   \n",
       "148                   0.0      0.000000                0.000000        G77   \n",
       "149                   0.0      1.500000                4.500000      other   \n",
       "\n",
       "     paper count_log  patent count_log  \n",
       "0           8.627726          8.204330  \n",
       "1           8.005030          3.921973  \n",
       "2           7.900475          6.130139  \n",
       "3           7.057062          5.963579  \n",
       "4           6.995238          4.209655  \n",
       "..               ...               ...  \n",
       "145         0.154151          0.000000  \n",
       "146         0.154151          0.000000  \n",
       "147         0.133531          0.000000  \n",
       "148         0.133531          0.000000  \n",
       "149         0.000000          0.916291  \n",
       "\n",
       "[150 rows x 13 columns]"
      ]
     },
     "execution_count": 254,
     "metadata": {},
     "output_type": "execute_result"
    }
   ],
   "source": [
    "df_science_vs_patent_totals_log"
   ]
  },
  {
   "cell_type": "markdown",
   "metadata": {},
   "source": [
    "## 4. Construct the balance vis (weighed)"
   ]
  },
  {
   "cell_type": "code",
   "execution_count": 62,
   "metadata": {},
   "outputs": [
    {
     "data": {
      "text/html": [
       "<div>\n",
       "<style scoped>\n",
       "    .dataframe tbody tr th:only-of-type {\n",
       "        vertical-align: middle;\n",
       "    }\n",
       "\n",
       "    .dataframe tbody tr th {\n",
       "        vertical-align: top;\n",
       "    }\n",
       "\n",
       "    .dataframe thead th {\n",
       "        text-align: right;\n",
       "    }\n",
       "</style>\n",
       "<table border=\"1\" class=\"dataframe\">\n",
       "  <thead>\n",
       "    <tr style=\"text-align: right;\">\n",
       "      <th></th>\n",
       "      <th>affiliation_country</th>\n",
       "      <th>times cited by secondary patents</th>\n",
       "    </tr>\n",
       "  </thead>\n",
       "  <tbody>\n",
       "    <tr>\n",
       "      <th>48</th>\n",
       "      <td>US</td>\n",
       "      <td>61136</td>\n",
       "    </tr>\n",
       "    <tr>\n",
       "      <th>19</th>\n",
       "      <td>GB</td>\n",
       "      <td>16244</td>\n",
       "    </tr>\n",
       "    <tr>\n",
       "      <th>13</th>\n",
       "      <td>DE</td>\n",
       "      <td>5123</td>\n",
       "    </tr>\n",
       "    <tr>\n",
       "      <th>28</th>\n",
       "      <td>JP</td>\n",
       "      <td>3632</td>\n",
       "    </tr>\n",
       "    <tr>\n",
       "      <th>36</th>\n",
       "      <td>NL</td>\n",
       "      <td>3316</td>\n",
       "    </tr>\n",
       "    <tr>\n",
       "      <th>9</th>\n",
       "      <td>CH</td>\n",
       "      <td>2871</td>\n",
       "    </tr>\n",
       "    <tr>\n",
       "      <th>3</th>\n",
       "      <td>AU</td>\n",
       "      <td>2639</td>\n",
       "    </tr>\n",
       "    <tr>\n",
       "      <th>8</th>\n",
       "      <td>CA</td>\n",
       "      <td>2489</td>\n",
       "    </tr>\n",
       "    <tr>\n",
       "      <th>14</th>\n",
       "      <td>DK</td>\n",
       "      <td>1402</td>\n",
       "    </tr>\n",
       "    <tr>\n",
       "      <th>4</th>\n",
       "      <td>BE</td>\n",
       "      <td>1142</td>\n",
       "    </tr>\n",
       "  </tbody>\n",
       "</table>\n",
       "</div>"
      ],
      "text/plain": [
       "   affiliation_country  times cited by secondary patents\n",
       "48                  US                             61136\n",
       "19                  GB                             16244\n",
       "13                  DE                              5123\n",
       "28                  JP                              3632\n",
       "36                  NL                              3316\n",
       "9                   CH                              2871\n",
       "3                   AU                              2639\n",
       "8                   CA                              2489\n",
       "14                  DK                              1402\n",
       "4                   BE                              1142"
      ]
     },
     "execution_count": 62,
     "metadata": {},
     "output_type": "execute_result"
    }
   ],
   "source": [
    "# count patent citaion sums per countries\n",
    "df_patent_countries_cit_sum = df_patentsg[['patent_id', 'edited_company_country', 'patent_citations']][df_patentsg['edited_company_country'].notna()].drop_duplicates().groupby('edited_company_country')['patent_citations'].sum().reset_index(name='times cited by secondary patents').sort_values(['times cited by secondary patents'], ascending = False).rename(columns = {'edited_company_country':'affiliation_country'})#.set_index('patent_country')\n",
    "df_patent_countries_cit_sum[:10]"
   ]
  },
  {
   "cell_type": "code",
   "execution_count": null,
   "metadata": {},
   "outputs": [],
   "source": [
    "df_sci_countries_cit_sum = df_sci.groupby(['affiliation_country_ed'])['times_cited_sci'].sum().reset_index(name='times cited by secondary science').sort_values(['times cited by secondary science'], ascending=False).rename(columns = {'affiliation_country_ed':'affiliation_country'})\n",
    "df_sci_countries_cit_sum[:10]"
   ]
  },
  {
   "cell_type": "code",
   "execution_count": null,
   "metadata": {},
   "outputs": [],
   "source": [
    "df_science_vs_patent_totals_weighted = pd.merge(left = df_patent_countries_cit_sum, right= df_sci_countries_cit_sum, how = 'outer', on ='affiliation_country')"
   ]
  },
  {
   "cell_type": "code",
   "execution_count": null,
   "metadata": {},
   "outputs": [],
   "source": [
    "econ_group_weighted = []\n",
    "for i in list(df_science_vs_patent_totals_weighted['affiliation_country']):\n",
    "    if i in [pc.country_alpha3_to_country_alpha2(x) for x in oecd_clean]: \n",
    "        econ_group_weighted.append('OECD')\n",
    "    elif i in ['RU','BR','IN','CN','ZA']:\n",
    "        econ_group_weighted.append('BRICS')\n",
    "    elif i in [pc.country_alpha3_to_country_alpha2(x) for x in g77['Code'] if x not in ['RU','BR','IN','CN','ZA']]:\n",
    "        econ_group_weighted.append('G77')\n",
    "    elif pd.isna(i): \n",
    "        econ_group_weighted.append(np.nan)\n",
    "    else: \n",
    "        econ_group_weighted.append('other')\n",
    "        \n",
    "df_science_vs_patent_totals_weighted['econ_group'] = econ_group_weighted"
   ]
  },
  {
   "cell_type": "code",
   "execution_count": 259,
   "metadata": {},
   "outputs": [],
   "source": [
    "df_science_vs_patent_totals_weighted_noUS = df_science_vs_patent_totals_weighted[df_science_vs_patent_totals_weighted['affiliation_country'] != 'US'].reset_index()"
   ]
  },
  {
   "cell_type": "code",
   "execution_count": 262,
   "metadata": {},
   "outputs": [],
   "source": [
    "# log scale for citation totals\n",
    "import math\n",
    "\n",
    "df_science_vs_patent_totals_weighted_log = df_science_vs_patent_totals_weighted[(df_science_vs_patent_totals_weighted['times cited by secondary science'] >0)&(df_science_vs_patent_totals_weighted['times cited by secondary patents'] >0)].reset_index()\n",
    "df_science_vs_patent_totals_weighted_log['times cited by secondary science_log'] = [math.log(x) for x in list(df_science_vs_patent_totals_weighted_log['times cited by secondary science'])]\n",
    "df_science_vs_patent_totals_weighted_log['times cited by secondary patents_log'] = [math.log(x) for x in list(df_science_vs_patent_totals_weighted_log['times cited by secondary patents'])]\n",
    "\n",
    "  "
   ]
  },
  {
   "cell_type": "code",
   "execution_count": 264,
   "metadata": {},
   "outputs": [
    {
     "data": {
      "text/plain": [
       "<Figure size 9360x12960 with 0 Axes>"
      ]
     },
     "metadata": {},
     "output_type": "display_data"
    },
    {
     "data": {
      "image/png": "[encoded data removed]",
      "text/plain": [
       "<Figure size 936x720 with 1 Axes>"
      ]
     },
     "metadata": {},
     "output_type": "display_data"
    }
   ],
   "source": [
    "# Visualizing\n",
    "# could add country/econ group colors\n",
    "\n",
    "plt.figure(figsize=(130,180))\n",
    "sns.set_style('white')\n",
    "sns.set_style('ticks')\n",
    "\n",
    "\n",
    "# Using regplot to create the scatter plot with 95% confidence interval and a regression line\n",
    "size = 10\n",
    "g = sns.lmplot(x='times cited by secondary science_log', y='times cited by secondary patents_log', data=df_science_vs_patent_totals_weighted_log, height=size, aspect=size*1.3/size, markers='o', fit_reg = False, scatter_kws={\"s\": size*8, \"color\":\"tab:red\"}).set(xlim=(df_science_vs_patent_totals_weighted_log['times cited by secondary science_log'].describe()['min']-0.3,df_science_vs_patent_totals_weighted_log['times cited by secondary science_log'].describe()['max']+0.3),ylim=(df_science_vs_patent_totals_weighted_log['times cited by secondary patents_log'].describe()['min']-0.3,df_science_vs_patent_totals_weighted_log['times cited by secondary patents_log'].describe()['max']+0.3))\n",
    "sns.regplot(x='times cited by secondary science_log', y='times cited by secondary patents_log', data=df_science_vs_patent_totals_weighted_log[df_science_vs_patent_totals_weighted_log['econ_group'] == 'OECD'], fit_reg = False, scatter_kws={\"s\":size*8, \"color\":\"tab:blue\"})#ic use of MGRs (CoR)\")\n",
    "sns.regplot(x='times cited by secondary science_log', y='times cited by secondary patents_log', data=df_science_vs_patent_totals_weighted_log[df_science_vs_patent_totals_weighted_log['econ_group'] == 'G77'], fit_reg = False, scatter_kws={\"s\":size*8, \"color\":\"tab:green\"})#ic use of MGRs (CoR)\")\n",
    "sns.regplot(x='times cited by secondary science_log', y='times cited by secondary patents_log', data=df_science_vs_patent_totals_weighted_log[df_science_vs_patent_totals_weighted_log['econ_group'] == 'other'], fit_reg = False, scatter_kws={\"s\": size*8, \"color\":\"tab:orange\"})#ic use of MGRs (CoR)\")\n",
    "\n",
    "\n",
    "for i, countries in enumerate (list(df_science_vs_patent_totals_weighted_log['affiliation_country'])):\n",
    "    #if countries in list(df_science_vs_patent_totals_weighted_log['affiliation_country'][(df_science_vs_patent_totals_weighted_log['times cited by secondary patents_log'] >= 1250) & (df_science_vs_patent_totals_weighted_log['times cited by secondary science_log'] >= 60000)]): # this is to label only those that \n",
    "        plt.annotate(countries, (df_science_vs_patent_totals_weighted_log['times cited by secondary science_log'][i]+0.02, df_science_vs_patent_totals_weighted_log['times cited by secondary patents_log'][i]+0.02),fontsize=size*1.5)\n",
    "\n",
    "lgnd = plt.legend(scatterpoints=1, loc='upper left', labels=['BRICS', 'OECD','G77', 'other'], fontsize = 15, markerscale = 0.2)\n",
    "lgnd.legendHandles[0]._sizes = [100]\n",
    "lgnd.legendHandles[1]._sizes = [100]\n",
    "lgnd.legendHandles[2]._sizes = [100]\n",
    "lgnd.legendHandles[3]._sizes = [100] \n",
    "\n",
    "\n",
    "sns.regplot(x='times cited by secondary science_log', y='times cited by secondary patents_log', data=df_science_vs_patent_totals_weighted_log, scatter=False, ci=None, ax=g.axes[0, 0], line_kws={\"color\":\"black\",\"alpha\":1,\"lw\":1,'linestyle':'--'})\n",
    "\n",
    "        \n",
    "plt.title('Country patent vs.science_log balance', size= 20, y = 1.05)\n",
    "plt.xlabel('MGR research publications (log-scale; weighted)', fontsize =size*1.8)\n",
    "plt.ylabel('Patents relying on MGR research (log-scale; weighted)', fontsize =size*1.8)\n",
    "#plt.xscale('log')\n",
    "#plt.yscale('log')\n",
    "\n",
    "plt.tight_layout()\n",
    "plt.savefig('PATH\\plots\\Science_patent_totals_weighted_logs[OBIS_and_patents].svg', format=\"svg\")\n",
    "plt.savefig('PATH\\plots\\Science_patent_totals_weighted_logs[OBIS_and_patents].jpg', format=\"jpg\")"
   ]
  },
  {
   "cell_type": "code",
   "execution_count": 38,
   "metadata": {},
   "outputs": [],
   "source": [
    "# export the data\n",
    "df_suppl4 = pd.merge(df_sci_pat_plot, df_knowledge, on = 'Country', how = 'outer').drop(columns = {'balance_sum'}).rename(columns = {'provided knowledge flow':'Provided knowledge flow', 'used knowledge flow': 'Used knowledge flow'})"
   ]
  },
  {
   "cell_type": "code",
   "execution_count": 45,
   "metadata": {},
   "outputs": [],
   "source": [
    "df_suppl4.to_excel('PATH\\data\\supplementary_files_paper1\\countries_suppl4.xlsx', index = False)"
   ]
  },
  {
   "cell_type": "code",
   "execution_count": 43,
   "metadata": {},
   "outputs": [
    {
     "data": {
      "text/plain": [
       "5583.366250878758"
      ]
     },
     "execution_count": 43,
     "metadata": {},
     "output_type": "execute_result"
    }
   ],
   "source": [
    "df_suppl4['Papers'][0]"
   ]
  }
 ],
 "metadata": {
  "kernelspec": {
   "display_name": "Python 3",
   "language": "python",
   "name": "python3"
  },
  "language_info": {
   "codemirror_mode": {
    "name": "ipython",
    "version": 3
   },
   "file_extension": ".py",
   "mimetype": "text/x-python",
   "name": "python",
   "nbconvert_exporter": "python",
   "pygments_lexer": "ipython3",
   "version": "3.8.5"
  }
 },
 "nbformat": 4,
 "nbformat_minor": 4
}
