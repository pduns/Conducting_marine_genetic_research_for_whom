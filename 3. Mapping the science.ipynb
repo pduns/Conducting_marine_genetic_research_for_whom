{
 "cells": [
  {
   "cell_type": "code",
   "execution_count": 3,
   "metadata": {},
   "outputs": [],
   "source": [
    "from Bio import SeqIO\n",
    "import collections\n",
    "import pandas as pd \n",
    "import re\n",
    "import requests\n",
    "import json\n",
    "import time\n",
    "from collections import Counter\n",
    "import glob\n",
    "import pprint\n",
    "import seaborn as sns\n",
    "import pylab as plt\n",
    "from matplotlib.ticker import MaxNLocator\n",
    "from matplotlib.colors import ListedColormap\n",
    "import pycountry \n",
    "import pycountry_convert as pc\n",
    "pp = pprint.PrettyPrinter()\n",
    "import numpy as np\n",
    "from tabulate import tabulate\n",
    "import geopandas as gpd\n",
    "from geopandas import GeoDataFrame\n",
    "import matplotlib.pyplot as plt\n",
    "from shapely.geometry import Point, Polygon\n",
    "import math\n",
    "from sklearn.linear_model import LinearRegression\n",
    "\n"
   ]
  },
  {
   "cell_type": "markdown",
   "metadata": {},
   "source": [
    "## 1. Open data and calculate fractional"
   ]
  },
  {
   "cell_type": "code",
   "execution_count": 8,
   "metadata": {},
   "outputs": [],
   "source": [
    "df = pd.read_csv('PATH\\data\\CoR-allauth_Genbank[OBIS_and_patents].csv')"
   ]
  },
  {
   "cell_type": "code",
   "execution_count": 9,
   "metadata": {},
   "outputs": [],
   "source": [
    "df2 = df.replace({'affiliation_country_ed': {'': np.nan}}).drop(columns=['titles']).dropna(subset = ['affiliation_country_ed'])"
   ]
  },
  {
   "cell_type": "code",
   "execution_count": 10,
   "metadata": {},
   "outputs": [
    {
     "data": {
      "text/plain": [
       "23417"
      ]
     },
     "execution_count": 10,
     "metadata": {},
     "output_type": "execute_result"
    }
   ],
   "source": [
    "len(set(df['pubmed_id']))"
   ]
  },
  {
   "cell_type": "code",
   "execution_count": 11,
   "metadata": {},
   "outputs": [
    {
     "data": {
      "text/plain": [
       "23231"
      ]
     },
     "execution_count": 11,
     "metadata": {},
     "output_type": "execute_result"
    }
   ],
   "source": [
    "len(set(df2['pubmed_id']))"
   ]
  },
  {
   "cell_type": "code",
   "execution_count": null,
   "metadata": {},
   "outputs": [],
   "source": [
    "fractional_counts_inst = []\n",
    "fractional_counts_country = []\n",
    "pubmed_counts_inst = {}\n",
    "pubmed_counts_country = {}\n",
    "for pub in list(df2['pubmed_id']): \n",
    "    if pub not in pubmed_counts_inst:\n",
    "        pubmed_counts_inst[pub] = len(df2[['pubmed_id', 'affiliation']][df2['pubmed_id'] == pub].drop_duplicates())\n",
    "        pubmed_counts_country[pub] = len(df2[['pubmed_id', 'affiliation_country_ed']][df2['pubmed_id'] == pub].drop_duplicates())\n",
    "    fractional_counts_inst.append(1/pubmed_counts_inst[pub])\n",
    "    fractional_counts_country.append(1/pubmed_counts_country[pub])"
   ]
  },
  {
   "cell_type": "code",
   "execution_count": null,
   "metadata": {},
   "outputs": [],
   "source": [
    "df2['fractional_count_inst'] = fractional_counts_inst\n",
    "df2['fractional_count_country'] = fractional_counts_country"
   ]
  },
  {
   "cell_type": "code",
   "execution_count": null,
   "metadata": {},
   "outputs": [],
   "source": [
    "df2['times_cited_sci_fract'] = df2['times_cited_sci']*df2['fractional_count_country']\n",
    "df2['times_cited_pat_fract'] = df2['times_cited_pat']*df2['fractional_count_country']"
   ]
  },
  {
   "cell_type": "markdown",
   "metadata": {},
   "source": [
    "## 2. Plotting scientific landscape (Result 1) "
   ]
  },
  {
   "cell_type": "code",
   "execution_count": null,
   "metadata": {},
   "outputs": [],
   "source": [
    "# add econ group\n",
    "# load g77 and OECD data, assign overlapping to g77\n",
    "g77 = pd.read_csv('PATH\\data\\g77.csv')\n",
    "oecd = pd.read_csv('PATH\\data\\oecd.csv')\n",
    "\n",
    "delete_from_oecd = []\n",
    "\n",
    "for i in list(g77['Code']): \n",
    "    if i in list(oecd['Code']):\n",
    "        delete_from_oecd.append(i)\n",
    "\n",
    "for i in list(g77['Code']): \n",
    "    if i in list(oecd['Code']):\n",
    "        delete_from_oecd.append(i)        \n",
    "\n",
    "oecd_clean = [x for x in list(oecd['Code']) if x not in delete_from_oecd]\n",
    "\n",
    "econ_group = []\n",
    "for i in list(df2['affiliation_country_ed']):\n",
    "    if i in [pc.country_alpha3_to_country_alpha2(x) for x in oecd_clean]: \n",
    "        econ_group.append('OECD')\n",
    "    elif i in ['RU','BR','IN','CN','ZA']:\n",
    "        econ_group.append('BRICS')\n",
    "    elif i in [pc.country_alpha3_to_country_alpha2(x) for x in g77['Code'] if x not in ['RU','BR','IN','CN','ZA']]:\n",
    "        econ_group.append('G77')\n",
    "    elif pd.isna(i): \n",
    "        econ_group.append(np.nan)\n",
    "    else: \n",
    "        econ_group.append('other')\n",
    "        \n",
    "df2['econ_group'] = econ_group"
   ]
  },
  {
   "cell_type": "code",
   "execution_count": null,
   "metadata": {},
   "outputs": [],
   "source": [
    "# Affiliations \n",
    "df_affiliations = df2[['pubmed_id','affiliation_country_ed','affiliation', 'fractional_count_inst', 'econ_group']].drop_duplicates()\n",
    "df_papers = df_affiliations.groupby(['affiliation'])['fractional_count_inst'].sum().reset_index(name='Papers_fract').sort_values(['Papers_fract'], ascending=False)\n",
    "df_affiliations_vis = pd.merge(df_papers, df_affiliations[['affiliation', 'affiliation_country_ed', 'econ_group']].drop_duplicates(), how = 'left', on = 'affiliation').rename(columns = {'affiliation':'Affiliation','Papers_fract':'Papers','econ_group':'Econ Group','affiliation_country_ed':'Country'})"
   ]
  },
  {
   "cell_type": "code",
   "execution_count": null,
   "metadata": {},
   "outputs": [],
   "source": [
    "print(tabulate(df_affiliations_vis[['Affiliation', 'Papers', 'Country', 'Econ Group']][:20].rename(columns = {'affiliation' : 'Affiliation', 'econ_group':'Group'}).set_index('Affiliation'), headers='keys', tablefmt='fancy_grid',  numalign=\"left\", stralign = \"left\"))\n"
   ]
  },
  {
   "cell_type": "code",
   "execution_count": null,
   "metadata": {},
   "outputs": [],
   "source": [
    "#Countries\n",
    "df_countries = df2[['pubmed_id','affiliation_country_ed','fractional_count_country', 'econ_group','times_cited_sci', 'times_cited_pat','times_cited_sci_fract','times_cited_pat_fract']].fillna(0).drop_duplicates()\n",
    "\n",
    "#papers\n",
    "df_papers_country = df_countries.groupby(['affiliation_country_ed'])['fractional_count_country'].sum().reset_index(name='Papers_fract').sort_values(['Papers_fract'], ascending=False)\n",
    "\n",
    "#citations\n",
    "df_sci_cit_country = df_countries.groupby(['affiliation_country_ed'])['times_cited_sci_fract'].sum().reset_index(name='Citations by sci_fract').sort_values(['Citations by sci_fract'], ascending=False)\n",
    "df_pat_cit_country = df_countries.groupby(['affiliation_country_ed'])['times_cited_pat_fract'].sum().reset_index(name='Citations by pat_fract').sort_values(['Citations by pat_fract'], ascending=False)\n",
    "\n",
    "df_papers_country['Citations by sci_fract'] = df_sci_cit_country['Citations by sci_fract']\n",
    "df_papers_country['Citations by pat_fract'] = df_pat_cit_country['Citations by pat_fract']\n",
    "\n",
    "#means\n",
    "df_papers_country['Av citations by sci_fract'] = df_papers_country['Citations by sci_fract']/df_papers_country['Papers_fract']\n",
    "df_papers_country['Av citations by pat_fract'] = df_papers_country['Citations by pat_fract']/df_papers_country['Papers_fract']\n",
    "\n",
    "#econ groups\n",
    "df_countries_vis = pd.merge(df_papers_country, df_countries[['affiliation_country_ed', 'econ_group']].drop_duplicates(), how = 'left', on = 'affiliation_country_ed').rename(columns = {'Papers_fract':'Papers','econ_group':'Econ Group','affiliation_country_ed':'Country'})"
   ]
  },
  {
   "cell_type": "code",
   "execution_count": 21,
   "metadata": {},
   "outputs": [],
   "source": [
    "df_countries.to_csv('PATH\\data\\COR_fractional_scores.csv')"
   ]
  },
  {
   "cell_type": "code",
   "execution_count": null,
   "metadata": {},
   "outputs": [],
   "source": [
    "df_countries_vis['country_paper_percentage'] = 100*df_countries_vis['Papers']/df_countries_vis['Papers'].sum()\n",
    "df_countries_vis['country_sci_cit_percentage'] = 100*df_countries_vis['Citations by sci_fract']/df_countries_vis['Citations by sci_fract'].sum()"
   ]
  },
  {
   "cell_type": "code",
   "execution_count": null,
   "metadata": {},
   "outputs": [],
   "source": [
    "df_countries_vis[:20]"
   ]
  },
  {
   "cell_type": "code",
   "execution_count": null,
   "metadata": {},
   "outputs": [],
   "source": [
    "df_groups_vis = df_countries_vis.groupby('Econ Group')['Papers'].sum().reset_index()"
   ]
  },
  {
   "cell_type": "code",
   "execution_count": null,
   "metadata": {},
   "outputs": [],
   "source": [
    "df_groups_vis['group_percentage'] = 100*df_groups_vis['Papers']/df_groups_vis['Papers'].sum()"
   ]
  },
  {
   "cell_type": "code",
   "execution_count": null,
   "metadata": {},
   "outputs": [],
   "source": [
    "df_groups_vis"
   ]
  },
  {
   "cell_type": "code",
   "execution_count": null,
   "metadata": {
    "scrolled": false
   },
   "outputs": [],
   "source": [
    "print(tabulate(df_countries_vis[:20].drop(columns = {'Econ Group'}).set_index('Country'), headers='keys', tablefmt='fancy_grid', numalign=\"left\", stralign = \"left\"))\n"
   ]
  },
  {
   "cell_type": "code",
   "execution_count": null,
   "metadata": {},
   "outputs": [],
   "source": [
    "df_countries_vis[:30].set_index('Country').sort_values(['Av citations by sci_fract'], ascending = False)"
   ]
  },
  {
   "cell_type": "code",
   "execution_count": null,
   "metadata": {},
   "outputs": [],
   "source": [
    "df_countries_vis['Papers'][:3].sum()/df_countries_vis['Papers'].sum()"
   ]
  },
  {
   "cell_type": "code",
   "execution_count": 30,
   "metadata": {},
   "outputs": [
    {
     "data": {
      "text/plain": [
       "11275.921721334234"
      ]
     },
     "execution_count": 30,
     "metadata": {},
     "output_type": "execute_result"
    }
   ],
   "source": [
    "df_countries_vis['Papers'][:3].sum()"
   ]
  },
  {
   "cell_type": "code",
   "execution_count": 31,
   "metadata": {},
   "outputs": [
    {
     "data": {
      "text/plain": [
       "0.8882908256606119"
      ]
     },
     "execution_count": 31,
     "metadata": {},
     "output_type": "execute_result"
    }
   ],
   "source": [
    "df_countries_vis['Papers'][:20].sum()/df_countries_vis['Papers'].sum()"
   ]
  },
  {
   "cell_type": "code",
   "execution_count": 32,
   "metadata": {},
   "outputs": [],
   "source": [
    "df_countries_vis.set_index('Country').to_csv('PATH\\data\\table_COR_fract.csv')"
   ]
  },
  {
   "cell_type": "markdown",
   "metadata": {},
   "source": [
    "## 3. Scatterplot of reference balances (countries)"
   ]
  },
  {
   "cell_type": "code",
   "execution_count": 4,
   "metadata": {},
   "outputs": [],
   "source": [
    "df_countries_vis = pd.read_csv('PATH\\data\\table_COR_fract.csv')"
   ]
  },
  {
   "cell_type": "code",
   "execution_count": 5,
   "metadata": {},
   "outputs": [
    {
     "data": {
      "text/html": [
       "<div>\n",
       "<style scoped>\n",
       "    .dataframe tbody tr th:only-of-type {\n",
       "        vertical-align: middle;\n",
       "    }\n",
       "\n",
       "    .dataframe tbody tr th {\n",
       "        vertical-align: top;\n",
       "    }\n",
       "\n",
       "    .dataframe thead th {\n",
       "        text-align: right;\n",
       "    }\n",
       "</style>\n",
       "<table border=\"1\" class=\"dataframe\">\n",
       "  <thead>\n",
       "    <tr style=\"text-align: right;\">\n",
       "      <th></th>\n",
       "      <th>Papers</th>\n",
       "      <th>Citations by sci_fract</th>\n",
       "      <th>Citations by pat_fract</th>\n",
       "      <th>Av citations by sci_fract</th>\n",
       "      <th>Av citations by pat_fract</th>\n",
       "      <th>country_paper_percentage</th>\n",
       "      <th>country_sci_cit_percentage</th>\n",
       "    </tr>\n",
       "  </thead>\n",
       "  <tbody>\n",
       "    <tr>\n",
       "      <th>Papers</th>\n",
       "      <td>1.000000</td>\n",
       "      <td>0.947784</td>\n",
       "      <td>0.905362</td>\n",
       "      <td>0.159664</td>\n",
       "      <td>0.158618</td>\n",
       "      <td>1.000000</td>\n",
       "      <td>0.947784</td>\n",
       "    </tr>\n",
       "    <tr>\n",
       "      <th>Citations by sci_fract</th>\n",
       "      <td>0.947784</td>\n",
       "      <td>1.000000</td>\n",
       "      <td>0.981892</td>\n",
       "      <td>0.186548</td>\n",
       "      <td>0.169953</td>\n",
       "      <td>0.947784</td>\n",
       "      <td>1.000000</td>\n",
       "    </tr>\n",
       "    <tr>\n",
       "      <th>Citations by pat_fract</th>\n",
       "      <td>0.905362</td>\n",
       "      <td>0.981892</td>\n",
       "      <td>1.000000</td>\n",
       "      <td>0.179005</td>\n",
       "      <td>0.216267</td>\n",
       "      <td>0.905362</td>\n",
       "      <td>0.981892</td>\n",
       "    </tr>\n",
       "    <tr>\n",
       "      <th>Av citations by sci_fract</th>\n",
       "      <td>0.159664</td>\n",
       "      <td>0.186548</td>\n",
       "      <td>0.179005</td>\n",
       "      <td>1.000000</td>\n",
       "      <td>0.178701</td>\n",
       "      <td>0.159664</td>\n",
       "      <td>0.186548</td>\n",
       "    </tr>\n",
       "    <tr>\n",
       "      <th>Av citations by pat_fract</th>\n",
       "      <td>0.158618</td>\n",
       "      <td>0.169953</td>\n",
       "      <td>0.216267</td>\n",
       "      <td>0.178701</td>\n",
       "      <td>1.000000</td>\n",
       "      <td>0.158618</td>\n",
       "      <td>0.169953</td>\n",
       "    </tr>\n",
       "    <tr>\n",
       "      <th>country_paper_percentage</th>\n",
       "      <td>1.000000</td>\n",
       "      <td>0.947784</td>\n",
       "      <td>0.905362</td>\n",
       "      <td>0.159664</td>\n",
       "      <td>0.158618</td>\n",
       "      <td>1.000000</td>\n",
       "      <td>0.947784</td>\n",
       "    </tr>\n",
       "    <tr>\n",
       "      <th>country_sci_cit_percentage</th>\n",
       "      <td>0.947784</td>\n",
       "      <td>1.000000</td>\n",
       "      <td>0.981892</td>\n",
       "      <td>0.186548</td>\n",
       "      <td>0.169953</td>\n",
       "      <td>0.947784</td>\n",
       "      <td>1.000000</td>\n",
       "    </tr>\n",
       "  </tbody>\n",
       "</table>\n",
       "</div>"
      ],
      "text/plain": [
       "                              Papers  Citations by sci_fract  \\\n",
       "Papers                      1.000000                0.947784   \n",
       "Citations by sci_fract      0.947784                1.000000   \n",
       "Citations by pat_fract      0.905362                0.981892   \n",
       "Av citations by sci_fract   0.159664                0.186548   \n",
       "Av citations by pat_fract   0.158618                0.169953   \n",
       "country_paper_percentage    1.000000                0.947784   \n",
       "country_sci_cit_percentage  0.947784                1.000000   \n",
       "\n",
       "                            Citations by pat_fract  Av citations by sci_fract  \\\n",
       "Papers                                    0.905362                   0.159664   \n",
       "Citations by sci_fract                    0.981892                   0.186548   \n",
       "Citations by pat_fract                    1.000000                   0.179005   \n",
       "Av citations by sci_fract                 0.179005                   1.000000   \n",
       "Av citations by pat_fract                 0.216267                   0.178701   \n",
       "country_paper_percentage                  0.905362                   0.159664   \n",
       "country_sci_cit_percentage                0.981892                   0.186548   \n",
       "\n",
       "                            Av citations by pat_fract  \\\n",
       "Papers                                       0.158618   \n",
       "Citations by sci_fract                       0.169953   \n",
       "Citations by pat_fract                       0.216267   \n",
       "Av citations by sci_fract                    0.178701   \n",
       "Av citations by pat_fract                    1.000000   \n",
       "country_paper_percentage                     0.158618   \n",
       "country_sci_cit_percentage                   0.169953   \n",
       "\n",
       "                            country_paper_percentage  \\\n",
       "Papers                                      1.000000   \n",
       "Citations by sci_fract                      0.947784   \n",
       "Citations by pat_fract                      0.905362   \n",
       "Av citations by sci_fract                   0.159664   \n",
       "Av citations by pat_fract                   0.158618   \n",
       "country_paper_percentage                    1.000000   \n",
       "country_sci_cit_percentage                  0.947784   \n",
       "\n",
       "                            country_sci_cit_percentage  \n",
       "Papers                                        0.947784  \n",
       "Citations by sci_fract                        1.000000  \n",
       "Citations by pat_fract                        0.981892  \n",
       "Av citations by sci_fract                     0.186548  \n",
       "Av citations by pat_fract                     0.169953  \n",
       "country_paper_percentage                      0.947784  \n",
       "country_sci_cit_percentage                    1.000000  "
      ]
     },
     "execution_count": 5,
     "metadata": {},
     "output_type": "execute_result"
    }
   ],
   "source": [
    "df_countries_vis.corr()"
   ]
  },
  {
   "cell_type": "code",
   "execution_count": 10,
   "metadata": {},
   "outputs": [
    {
     "data": {
      "text/plain": [
       "<Figure size 16560x20160 with 0 Axes>"
      ]
     },
     "metadata": {},
     "output_type": "display_data"
    },
    {
     "data": {
      "image/png": "[encoded data removed]",
      "text/plain": [
       "<Figure size 1029.6x792 with 1 Axes>"
      ]
     },
     "metadata": {},
     "output_type": "display_data"
    }
   ],
   "source": [
    "# Visualizing\n",
    "from adjustText import adjust_text\n",
    "# could add country/econ group colors\n",
    "sci_av_top = df_countries_vis['Av citations by sci_fract'].quantile(0.99)\n",
    "pat_av_top = df_countries_vis['Av citations by pat_fract'].quantile(0.99)\n",
    "\n",
    "df_countries_vis_nononesense = df_countries_vis[(df_countries_vis['Av citations by sci_fract']<sci_av_top)&(df_countries_vis['Av citations by pat_fract']<pat_av_top)&(df_countries_vis['Papers']>=5)].reset_index()\n",
    "plt.figure(figsize=(230,280))\n",
    "sns.set_style('white')\n",
    "sns.set_style('ticks')\n",
    "\n",
    "\n",
    "# Using regplot to create the scatter plot with 95% confidence interval and a regression line\n",
    "size = 11\n",
    "\n",
    "\n",
    "g = sns.lmplot(x='Av citations by sci_fract', y='Av citations by pat_fract', data=df_countries_vis_nononesense[df_countries_vis_nononesense['Econ Group'] == 'other'], height=size, aspect=size*1.3/size, markers='o', fit_reg = False, scatter_kws={\"s\": df_countries_vis_nononesense['Papers'][df_countries_vis_nononesense['Econ Group'] == 'other']*5, \"color\":\"tab:orange\"}).set(xlim=(df_countries_vis_nononesense['Av citations by sci_fract'].describe()['min']-size/8,df_countries_vis_nononesense['Av citations by sci_fract'].describe()['max']+size/2.5),ylim=(df_countries_vis_nononesense['Av citations by pat_fract'].describe()['min']-size/100,df_countries_vis_nononesense['Av citations by pat_fract'].describe()['max']+size/20)) # .set_axis_labels(\"Provision of MGRs (CoO)\",\"Scientific use of MGRs (CoR)\")\n",
    "\n",
    "sns.regplot(x='Av citations by sci_fract', y='Av citations by pat_fract', data=df_countries_vis_nononesense[df_countries_vis_nononesense['Econ Group'] == 'BRICS'], fit_reg = False, scatter_kws={\"s\": df_countries_vis_nononesense['Papers'][df_countries_vis_nononesense['Econ Group'] == 'BRICS']*5, \"color\":\"tab:red\"})#ic use of MGRs (CoR)\")\n",
    "sns.regplot(x='Av citations by sci_fract', y='Av citations by pat_fract', data=df_countries_vis_nononesense[df_countries_vis_nononesense['Econ Group'] == 'OECD'], fit_reg = False, scatter_kws={\"s\": df_countries_vis_nononesense['Papers'][df_countries_vis_nononesense['Econ Group'] == 'OECD']*5, \"color\":\"tab:blue\"})#ic use of MGRs (CoR)\")\n",
    "sns.regplot(x='Av citations by sci_fract', y='Av citations by pat_fract', data=df_countries_vis_nononesense[df_countries_vis_nononesense['Econ Group'] == 'G77'], fit_reg = False, scatter_kws={\"s\": df_countries_vis_nononesense['Papers'][df_countries_vis_nononesense['Econ Group'] == 'G77']*5, \"color\":\"tab:green\"})#ic use of MGRs (CoR)\")\n",
    "lgnd = plt.legend( scatterpoints=1, loc='best', labels=['other', 'BRICS','OECD', 'G77'], fontsize = 20, markerscale = 0.4)\n",
    "lgnd.legendHandles[0]._sizes = [100]\n",
    "lgnd.legendHandles[1]._sizes = [100]\n",
    "lgnd.legendHandles[2]._sizes = [100]\n",
    "lgnd.legendHandles[3]._sizes = [100]\n",
    "\n",
    "\n",
    "sns.regplot(x='Av citations by sci_fract', y='Av citations by pat_fract', data=df_countries_vis_nononesense, scatter=False, ci=95, ax=g.axes[0, 0], line_kws={\"color\":\"black\",\"alpha\":1,\"lw\":1,'linestyle':'--'})\n",
    "\n",
    "N = 35  # Choose the number of top countries to label\n",
    "exceptions = ['TH', 'TW', 'PL', 'CL', 'HK', 'BR', 'SA', 'GR', 'HR']\n",
    "top_countries = df_countries_vis_nononesense[~df_countries_vis_nononesense['Country'].isin(exceptions)].nlargest(N, ['Papers'])\n",
    "\n",
    "#labels = []\n",
    "for i, countries in enumerate(list(top_countries['Country'])):\n",
    "    plt.annotate(countries, (top_countries['Av citations by sci_fract'].iloc[i] - 0.6, top_countries['Av citations by pat_fract'].iloc[i] - 0.03), size=size * 1.3)\n",
    "\n",
    "    #label = plt.annotate(countries, (top_countries['Av citations by sci_fract'].iloc[i] - 0.8, top_countries['Av citations by pat_fract'].iloc[i] - 0.01), size=size * 1.3)\n",
    "    #labels.append(label)\n",
    "\n",
    "    \n",
    "# Use adjust_text to automatically adjust the label positions to avoid overlaps\n",
    "#adjust_text(labels, arrowprops=dict(arrowstyle=\"-\", color='black', lw=0.5))\n",
    "\n",
    "plt.xlabel('Av citations by science', fontsize =size*1.8)\n",
    "plt.ylabel('Av citations by patents', fontsize =size*1.8)\n",
    "sns.set(font_scale = 1.5)\n",
    "#plt.xscale('log')\n",
    "#plt.yscale('log')\n",
    "\n",
    "\n",
    "plt.tight_layout()\n",
    "plt.savefig('PATH\\plots\\Science_patent_citations_country_fract.svg', format=\"svg\")\n",
    "plt.savefig('PATH\\plots\\Science_patent_citations_country_fract.jpg', format=\"jpg\")"
   ]
  },
  {
   "cell_type": "code",
   "execution_count": 56,
   "metadata": {},
   "outputs": [
    {
     "data": {
      "text/html": [
       "<div>\n",
       "<style scoped>\n",
       "    .dataframe tbody tr th:only-of-type {\n",
       "        vertical-align: middle;\n",
       "    }\n",
       "\n",
       "    .dataframe tbody tr th {\n",
       "        vertical-align: top;\n",
       "    }\n",
       "\n",
       "    .dataframe thead th {\n",
       "        text-align: right;\n",
       "    }\n",
       "</style>\n",
       "<table border=\"1\" class=\"dataframe\">\n",
       "  <thead>\n",
       "    <tr style=\"text-align: right;\">\n",
       "      <th></th>\n",
       "      <th>index</th>\n",
       "      <th>Country</th>\n",
       "      <th>Papers</th>\n",
       "      <th>Citations by sci_fract</th>\n",
       "      <th>Citations by pat_fract</th>\n",
       "      <th>Av citations by sci_fract</th>\n",
       "      <th>Av citations by pat_fract</th>\n",
       "      <th>Econ Group</th>\n",
       "      <th>country_paper_percentage</th>\n",
       "      <th>country_sci_cit_percentage</th>\n",
       "    </tr>\n",
       "  </thead>\n",
       "  <tbody>\n",
       "    <tr>\n",
       "      <th>0</th>\n",
       "      <td>0</td>\n",
       "      <td>US</td>\n",
       "      <td>5583.366251</td>\n",
       "      <td>470722.453845</td>\n",
       "      <td>8619.637312</td>\n",
       "      <td>84.308002</td>\n",
       "      <td>1.543807</td>\n",
       "      <td>OECD</td>\n",
       "      <td>24.034119</td>\n",
       "      <td>34.655162</td>\n",
       "    </tr>\n",
       "    <tr>\n",
       "      <th>1</th>\n",
       "      <td>1</td>\n",
       "      <td>CN</td>\n",
       "      <td>2994.991179</td>\n",
       "      <td>84321.765172</td>\n",
       "      <td>498.246836</td>\n",
       "      <td>28.154262</td>\n",
       "      <td>0.166360</td>\n",
       "      <td>BRICS</td>\n",
       "      <td>12.892218</td>\n",
       "      <td>6.207871</td>\n",
       "    </tr>\n",
       "    <tr>\n",
       "      <th>2</th>\n",
       "      <td>2</td>\n",
       "      <td>JP</td>\n",
       "      <td>2697.564292</td>\n",
       "      <td>133214.787320</td>\n",
       "      <td>3046.216799</td>\n",
       "      <td>49.383360</td>\n",
       "      <td>1.129247</td>\n",
       "      <td>OECD</td>\n",
       "      <td>11.611916</td>\n",
       "      <td>9.807435</td>\n",
       "    </tr>\n",
       "    <tr>\n",
       "      <th>3</th>\n",
       "      <td>3</td>\n",
       "      <td>DE</td>\n",
       "      <td>1160.028913</td>\n",
       "      <td>91812.530937</td>\n",
       "      <td>1313.096836</td>\n",
       "      <td>79.146761</td>\n",
       "      <td>1.131952</td>\n",
       "      <td>OECD</td>\n",
       "      <td>4.993452</td>\n",
       "      <td>6.759351</td>\n",
       "    </tr>\n",
       "    <tr>\n",
       "      <th>4</th>\n",
       "      <td>4</td>\n",
       "      <td>FR</td>\n",
       "      <td>1090.423791</td>\n",
       "      <td>76576.312575</td>\n",
       "      <td>753.571836</td>\n",
       "      <td>70.226194</td>\n",
       "      <td>0.691082</td>\n",
       "      <td>OECD</td>\n",
       "      <td>4.693831</td>\n",
       "      <td>5.637642</td>\n",
       "    </tr>\n",
       "    <tr>\n",
       "      <th>...</th>\n",
       "      <td>...</td>\n",
       "      <td>...</td>\n",
       "      <td>...</td>\n",
       "      <td>...</td>\n",
       "      <td>...</td>\n",
       "      <td>...</td>\n",
       "      <td>...</td>\n",
       "      <td>...</td>\n",
       "      <td>...</td>\n",
       "      <td>...</td>\n",
       "    </tr>\n",
       "    <tr>\n",
       "      <th>65</th>\n",
       "      <td>66</td>\n",
       "      <td>AE</td>\n",
       "      <td>6.878968</td>\n",
       "      <td>557.753968</td>\n",
       "      <td>0.000000</td>\n",
       "      <td>81.081050</td>\n",
       "      <td>0.000000</td>\n",
       "      <td>G77</td>\n",
       "      <td>0.029611</td>\n",
       "      <td>0.041063</td>\n",
       "    </tr>\n",
       "    <tr>\n",
       "      <th>66</th>\n",
       "      <td>67</td>\n",
       "      <td>UA</td>\n",
       "      <td>6.333333</td>\n",
       "      <td>467.083333</td>\n",
       "      <td>1.500000</td>\n",
       "      <td>73.750000</td>\n",
       "      <td>0.236842</td>\n",
       "      <td>other</td>\n",
       "      <td>0.027262</td>\n",
       "      <td>0.034387</td>\n",
       "    </tr>\n",
       "    <tr>\n",
       "      <th>67</th>\n",
       "      <td>68</td>\n",
       "      <td>VE</td>\n",
       "      <td>5.959524</td>\n",
       "      <td>188.202381</td>\n",
       "      <td>0.000000</td>\n",
       "      <td>31.580104</td>\n",
       "      <td>0.000000</td>\n",
       "      <td>G77</td>\n",
       "      <td>0.025653</td>\n",
       "      <td>0.013856</td>\n",
       "    </tr>\n",
       "    <tr>\n",
       "      <th>68</th>\n",
       "      <td>69</td>\n",
       "      <td>MT</td>\n",
       "      <td>5.183333</td>\n",
       "      <td>90.266667</td>\n",
       "      <td>0.000000</td>\n",
       "      <td>17.414791</td>\n",
       "      <td>0.000000</td>\n",
       "      <td>other</td>\n",
       "      <td>0.022312</td>\n",
       "      <td>0.006646</td>\n",
       "    </tr>\n",
       "    <tr>\n",
       "      <th>69</th>\n",
       "      <td>70</td>\n",
       "      <td>DZ</td>\n",
       "      <td>5.166667</td>\n",
       "      <td>159.333333</td>\n",
       "      <td>0.000000</td>\n",
       "      <td>30.838710</td>\n",
       "      <td>0.000000</td>\n",
       "      <td>G77</td>\n",
       "      <td>0.022240</td>\n",
       "      <td>0.011730</td>\n",
       "    </tr>\n",
       "  </tbody>\n",
       "</table>\n",
       "<p>70 rows × 10 columns</p>\n",
       "</div>"
      ],
      "text/plain": [
       "    index Country       Papers  Citations by sci_fract  \\\n",
       "0       0      US  5583.366251           470722.453845   \n",
       "1       1      CN  2994.991179            84321.765172   \n",
       "2       2      JP  2697.564292           133214.787320   \n",
       "3       3      DE  1160.028913            91812.530937   \n",
       "4       4      FR  1090.423791            76576.312575   \n",
       "..    ...     ...          ...                     ...   \n",
       "65     66      AE     6.878968              557.753968   \n",
       "66     67      UA     6.333333              467.083333   \n",
       "67     68      VE     5.959524              188.202381   \n",
       "68     69      MT     5.183333               90.266667   \n",
       "69     70      DZ     5.166667              159.333333   \n",
       "\n",
       "    Citations by pat_fract  Av citations by sci_fract  \\\n",
       "0              8619.637312                  84.308002   \n",
       "1               498.246836                  28.154262   \n",
       "2              3046.216799                  49.383360   \n",
       "3              1313.096836                  79.146761   \n",
       "4               753.571836                  70.226194   \n",
       "..                     ...                        ...   \n",
       "65                0.000000                  81.081050   \n",
       "66                1.500000                  73.750000   \n",
       "67                0.000000                  31.580104   \n",
       "68                0.000000                  17.414791   \n",
       "69                0.000000                  30.838710   \n",
       "\n",
       "    Av citations by pat_fract Econ Group  country_paper_percentage  \\\n",
       "0                    1.543807       OECD                 24.034119   \n",
       "1                    0.166360      BRICS                 12.892218   \n",
       "2                    1.129247       OECD                 11.611916   \n",
       "3                    1.131952       OECD                  4.993452   \n",
       "4                    0.691082       OECD                  4.693831   \n",
       "..                        ...        ...                       ...   \n",
       "65                   0.000000        G77                  0.029611   \n",
       "66                   0.236842      other                  0.027262   \n",
       "67                   0.000000        G77                  0.025653   \n",
       "68                   0.000000      other                  0.022312   \n",
       "69                   0.000000        G77                  0.022240   \n",
       "\n",
       "    country_sci_cit_percentage  \n",
       "0                    34.655162  \n",
       "1                     6.207871  \n",
       "2                     9.807435  \n",
       "3                     6.759351  \n",
       "4                     5.637642  \n",
       "..                         ...  \n",
       "65                    0.041063  \n",
       "66                    0.034387  \n",
       "67                    0.013856  \n",
       "68                    0.006646  \n",
       "69                    0.011730  \n",
       "\n",
       "[70 rows x 10 columns]"
      ]
     },
     "execution_count": 56,
     "metadata": {},
     "output_type": "execute_result"
    }
   ],
   "source": [
    "df_countries_vis_nononesense"
   ]
  },
  {
   "cell_type": "code",
   "execution_count": 57,
   "metadata": {},
   "outputs": [],
   "source": [
    "df_countries_vis_nononesense.to_csv('PATH\\data\\df_countries_vis_nononesense_fract.csv')"
   ]
  },
  {
   "cell_type": "code",
   "execution_count": 58,
   "metadata": {},
   "outputs": [],
   "source": [
    "df_countries_vis.to_csv('PATH\\data\\df_countries_vis_fract.csv')"
   ]
  },
  {
   "cell_type": "code",
   "execution_count": 59,
   "metadata": {},
   "outputs": [],
   "source": [
    "# residuals"
   ]
  },
  {
   "cell_type": "code",
   "execution_count": 60,
   "metadata": {},
   "outputs": [],
   "source": [
    "x = np.array(list(df_countries_vis_nononesense['Av citations by sci_fract'])).reshape((-1, 1))\n",
    "y = np.array(list(df_countries_vis_nononesense['Av citations by pat_fract']))\n",
    "model = LinearRegression().fit(x, y)"
   ]
  },
  {
   "cell_type": "code",
   "execution_count": 61,
   "metadata": {},
   "outputs": [
    {
     "name": "stdout",
     "output_type": "stream",
     "text": [
      "intercept: -0.13993461532889118\n"
     ]
    }
   ],
   "source": [
    "print(f\"intercept: {model.intercept_}\")\n",
    "intercept: 5.633333333333329"
   ]
  },
  {
   "cell_type": "code",
   "execution_count": 62,
   "metadata": {},
   "outputs": [
    {
     "name": "stdout",
     "output_type": "stream",
     "text": [
      "slope: [0.01679879]\n"
     ]
    }
   ],
   "source": [
    "print(f\"slope: {model.coef_}\")"
   ]
  },
  {
   "cell_type": "code",
   "execution_count": 63,
   "metadata": {},
   "outputs": [
    {
     "data": {
      "text/plain": [
       "[1.2763380441894987,\n",
       " 0.3330229919773454,\n",
       " 0.6896462095487255,\n",
       " 1.1896354205819961,\n",
       " 1.039780665639333,\n",
       " 0.9655860328252874,\n",
       " 1.0811476042036978,\n",
       " 0.6603536881368997,\n",
       " 0.9399255938886337,\n",
       " 0.28232192161313663,\n",
       " 0.6178756097620631,\n",
       " 0.8190816729976957,\n",
       " 0.4205879606874505,\n",
       " 0.3958372190771243,\n",
       " 1.0724305847295479,\n",
       " 0.43623397546473075,\n",
       " 0.5179600450746076,\n",
       " 1.1073545964180291,\n",
       " 0.6523693892968082,\n",
       " 1.136402318391881,\n",
       " 0.4314309531332142,\n",
       " 0.898126813658126,\n",
       " 0.9242485031855903,\n",
       " 0.9613540138458345,\n",
       " 0.3078273985617534,\n",
       " 0.6825916234226761,\n",
       " 1.2183075938455354,\n",
       " 0.40956677644079476,\n",
       " 0.7966088726492192,\n",
       " 0.5409321171845154,\n",
       " 0.7529014357083523,\n",
       " 0.9229789543833582,\n",
       " 0.5199879473806625,\n",
       " 0.4406053040943779,\n",
       " 0.4825624464790439,\n",
       " 0.2413230350905835,\n",
       " 0.65640080103488,\n",
       " 1.2173314848910035,\n",
       " 0.6717125333086582,\n",
       " 0.608944730904479,\n",
       " 0.43246942338348693,\n",
       " 0.54533247111828,\n",
       " 0.5178337031894685,\n",
       " 0.48969429431643574,\n",
       " 0.3828341594129744,\n",
       " 0.5456476038047001,\n",
       " 0.21872070061849513,\n",
       " 0.4854868495322533,\n",
       " 0.3865671679859264,\n",
       " 0.8212497294982353,\n",
       " 0.9151076374648948,\n",
       " 0.2940598849398757,\n",
       " 0.559282010816889,\n",
       " 0.33572034969791925,\n",
       " 0.29304072171870754,\n",
       " 0.561459894932101,\n",
       " 0.37680085365720206,\n",
       " 0.36470888865895124,\n",
       " 0.6031031125970052,\n",
       " 1.0295926074639432,\n",
       " 0.5191789818000931,\n",
       " 0.3497978770006192,\n",
       " 0.8698810015255767,\n",
       " 0.5000527270985956,\n",
       " 0.13787327286682532,\n",
       " 1.2221291420611216,\n",
       " 1.0989763537888464,\n",
       " 0.39057300632599923,\n",
       " 0.15261285030920002,\n",
       " 0.37811847881066374]"
      ]
     },
     "execution_count": 63,
     "metadata": {},
     "output_type": "execute_result"
    }
   ],
   "source": [
    "list(model.predict(x))"
   ]
  },
  {
   "cell_type": "code",
   "execution_count": 64,
   "metadata": {},
   "outputs": [],
   "source": [
    "residuals = [a - b for a, b in zip(list(y),list(model.predict(x)))]"
   ]
  },
  {
   "cell_type": "code",
   "execution_count": 65,
   "metadata": {},
   "outputs": [],
   "source": [
    "df_countries_vis_nononesense['residuals'] = residuals "
   ]
  },
  {
   "cell_type": "code",
   "execution_count": 68,
   "metadata": {},
   "outputs": [
    {
     "data": {
      "text/html": [
       "<div>\n",
       "<style scoped>\n",
       "    .dataframe tbody tr th:only-of-type {\n",
       "        vertical-align: middle;\n",
       "    }\n",
       "\n",
       "    .dataframe tbody tr th {\n",
       "        vertical-align: top;\n",
       "    }\n",
       "\n",
       "    .dataframe thead th {\n",
       "        text-align: right;\n",
       "    }\n",
       "</style>\n",
       "<table border=\"1\" class=\"dataframe\">\n",
       "  <thead>\n",
       "    <tr style=\"text-align: right;\">\n",
       "      <th></th>\n",
       "      <th>index</th>\n",
       "      <th>Country</th>\n",
       "      <th>Papers</th>\n",
       "      <th>Citations by sci_fract</th>\n",
       "      <th>Citations by pat_fract</th>\n",
       "      <th>Av citations by sci_fract</th>\n",
       "      <th>Av citations by pat_fract</th>\n",
       "      <th>Econ Group</th>\n",
       "      <th>country_paper_percentage</th>\n",
       "      <th>country_sci_cit_percentage</th>\n",
       "      <th>residuals</th>\n",
       "    </tr>\n",
       "  </thead>\n",
       "  <tbody>\n",
       "    <tr>\n",
       "      <th>18</th>\n",
       "      <td>18</td>\n",
       "      <td>RU</td>\n",
       "      <td>182.662338</td>\n",
       "      <td>8615.148918</td>\n",
       "      <td>713.650000</td>\n",
       "      <td>47.164342</td>\n",
       "      <td>3.906936</td>\n",
       "      <td>BRICS</td>\n",
       "      <td>0.786287</td>\n",
       "      <td>0.634258</td>\n",
       "      <td>3.254566</td>\n",
       "    </tr>\n",
       "    <tr>\n",
       "      <th>39</th>\n",
       "      <td>39</td>\n",
       "      <td>IS</td>\n",
       "      <td>48.276190</td>\n",
       "      <td>2152.121429</td>\n",
       "      <td>176.583333</td>\n",
       "      <td>44.579355</td>\n",
       "      <td>3.657773</td>\n",
       "      <td>OECD</td>\n",
       "      <td>0.207809</td>\n",
       "      <td>0.158442</td>\n",
       "      <td>3.048828</td>\n",
       "    </tr>\n",
       "    <tr>\n",
       "      <th>17</th>\n",
       "      <td>17</td>\n",
       "      <td>NL</td>\n",
       "      <td>192.476929</td>\n",
       "      <td>14291.169610</td>\n",
       "      <td>681.548026</td>\n",
       "      <td>74.248741</td>\n",
       "      <td>3.540934</td>\n",
       "      <td>OECD</td>\n",
       "      <td>0.828535</td>\n",
       "      <td>1.052133</td>\n",
       "      <td>2.433579</td>\n",
       "    </tr>\n",
       "    <tr>\n",
       "      <th>50</th>\n",
       "      <td>50</td>\n",
       "      <td>SI</td>\n",
       "      <td>18.854762</td>\n",
       "      <td>1184.166667</td>\n",
       "      <td>53.833333</td>\n",
       "      <td>62.804647</td>\n",
       "      <td>2.855158</td>\n",
       "      <td>OECD</td>\n",
       "      <td>0.081162</td>\n",
       "      <td>0.087180</td>\n",
       "      <td>1.940051</td>\n",
       "    </tr>\n",
       "    <tr>\n",
       "      <th>57</th>\n",
       "      <td>57</td>\n",
       "      <td>PE</td>\n",
       "      <td>11.533333</td>\n",
       "      <td>346.466667</td>\n",
       "      <td>22.500000</td>\n",
       "      <td>30.040462</td>\n",
       "      <td>1.950867</td>\n",
       "      <td>G77</td>\n",
       "      <td>0.049646</td>\n",
       "      <td>0.025507</td>\n",
       "      <td>1.586158</td>\n",
       "    </tr>\n",
       "    <tr>\n",
       "      <th>47</th>\n",
       "      <td>47</td>\n",
       "      <td>HU</td>\n",
       "      <td>26.013228</td>\n",
       "      <td>968.476190</td>\n",
       "      <td>43.560847</td>\n",
       "      <td>37.230143</td>\n",
       "      <td>1.674565</td>\n",
       "      <td>OECD</td>\n",
       "      <td>0.111976</td>\n",
       "      <td>0.071300</td>\n",
       "      <td>1.189078</td>\n",
       "    </tr>\n",
       "    <tr>\n",
       "      <th>44</th>\n",
       "      <td>44</td>\n",
       "      <td>PH</td>\n",
       "      <td>29.624242</td>\n",
       "      <td>921.889394</td>\n",
       "      <td>40.000000</td>\n",
       "      <td>31.119425</td>\n",
       "      <td>1.350245</td>\n",
       "      <td>G77</td>\n",
       "      <td>0.127520</td>\n",
       "      <td>0.067871</td>\n",
       "      <td>0.967411</td>\n",
       "    </tr>\n",
       "    <tr>\n",
       "      <th>19</th>\n",
       "      <td>19</td>\n",
       "      <td>CH</td>\n",
       "      <td>166.849537</td>\n",
       "      <td>12676.876786</td>\n",
       "      <td>279.203704</td>\n",
       "      <td>75.977896</td>\n",
       "      <td>1.673386</td>\n",
       "      <td>OECD</td>\n",
       "      <td>0.718219</td>\n",
       "      <td>0.933287</td>\n",
       "      <td>0.536984</td>\n",
       "    </tr>\n",
       "    <tr>\n",
       "      <th>2</th>\n",
       "      <td>2</td>\n",
       "      <td>JP</td>\n",
       "      <td>2697.564292</td>\n",
       "      <td>133214.787320</td>\n",
       "      <td>3046.216799</td>\n",
       "      <td>49.383360</td>\n",
       "      <td>1.129247</td>\n",
       "      <td>OECD</td>\n",
       "      <td>11.611916</td>\n",
       "      <td>9.807435</td>\n",
       "      <td>0.439601</td>\n",
       "    </tr>\n",
       "    <tr>\n",
       "      <th>54</th>\n",
       "      <td>54</td>\n",
       "      <td>CU</td>\n",
       "      <td>12.916667</td>\n",
       "      <td>332.916667</td>\n",
       "      <td>8.333333</td>\n",
       "      <td>25.774194</td>\n",
       "      <td>0.645161</td>\n",
       "      <td>G77</td>\n",
       "      <td>0.055601</td>\n",
       "      <td>0.024510</td>\n",
       "      <td>0.352121</td>\n",
       "    </tr>\n",
       "  </tbody>\n",
       "</table>\n",
       "</div>"
      ],
      "text/plain": [
       "    index Country       Papers  Citations by sci_fract  \\\n",
       "18     18      RU   182.662338             8615.148918   \n",
       "39     39      IS    48.276190             2152.121429   \n",
       "17     17      NL   192.476929            14291.169610   \n",
       "50     50      SI    18.854762             1184.166667   \n",
       "57     57      PE    11.533333              346.466667   \n",
       "47     47      HU    26.013228              968.476190   \n",
       "44     44      PH    29.624242              921.889394   \n",
       "19     19      CH   166.849537            12676.876786   \n",
       "2       2      JP  2697.564292           133214.787320   \n",
       "54     54      CU    12.916667              332.916667   \n",
       "\n",
       "    Citations by pat_fract  Av citations by sci_fract  \\\n",
       "18              713.650000                  47.164342   \n",
       "39              176.583333                  44.579355   \n",
       "17              681.548026                  74.248741   \n",
       "50               53.833333                  62.804647   \n",
       "57               22.500000                  30.040462   \n",
       "47               43.560847                  37.230143   \n",
       "44               40.000000                  31.119425   \n",
       "19              279.203704                  75.977896   \n",
       "2              3046.216799                  49.383360   \n",
       "54                8.333333                  25.774194   \n",
       "\n",
       "    Av citations by pat_fract Econ Group  country_paper_percentage  \\\n",
       "18                   3.906936      BRICS                  0.786287   \n",
       "39                   3.657773       OECD                  0.207809   \n",
       "17                   3.540934       OECD                  0.828535   \n",
       "50                   2.855158       OECD                  0.081162   \n",
       "57                   1.950867        G77                  0.049646   \n",
       "47                   1.674565       OECD                  0.111976   \n",
       "44                   1.350245        G77                  0.127520   \n",
       "19                   1.673386       OECD                  0.718219   \n",
       "2                    1.129247       OECD                 11.611916   \n",
       "54                   0.645161        G77                  0.055601   \n",
       "\n",
       "    country_sci_cit_percentage  residuals  \n",
       "18                    0.634258   3.254566  \n",
       "39                    0.158442   3.048828  \n",
       "17                    1.052133   2.433579  \n",
       "50                    0.087180   1.940051  \n",
       "57                    0.025507   1.586158  \n",
       "47                    0.071300   1.189078  \n",
       "44                    0.067871   0.967411  \n",
       "19                    0.933287   0.536984  \n",
       "2                     9.807435   0.439601  \n",
       "54                    0.024510   0.352121  "
      ]
     },
     "execution_count": 68,
     "metadata": {},
     "output_type": "execute_result"
    }
   ],
   "source": [
    "df_countries_vis_nononesense.sort_values(['residuals'], ascending = False)[:10]"
   ]
  },
  {
   "cell_type": "code",
   "execution_count": 52,
   "metadata": {},
   "outputs": [],
   "source": [
    "df_countries_vis_nononesense.to_csv('PATH\\data\\COR_vis_fract[70].csv')"
   ]
  }
 ],
 "metadata": {
  "kernelspec": {
   "display_name": "Python 3",
   "language": "python",
   "name": "python3"
  },
  "language_info": {
   "codemirror_mode": {
    "name": "ipython",
    "version": 3
   },
   "file_extension": ".py",
   "mimetype": "text/x-python",
   "name": "python",
   "nbconvert_exporter": "python",
   "pygments_lexer": "ipython3",
   "version": "3.8.5"
  }
 },
 "nbformat": 4,
 "nbformat_minor": 4
}
